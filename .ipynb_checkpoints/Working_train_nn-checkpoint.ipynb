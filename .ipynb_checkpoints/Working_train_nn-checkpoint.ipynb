{
 "cells": [
  {
   "cell_type": "code",
   "execution_count": 1,
   "metadata": {},
   "outputs": [],
   "source": [
    "import pandas as pd\n",
    "import numpy as np\n",
    "import torch\n",
    "from sklearn import preprocessing\n",
    "dtype = torch.float64\n",
    "device = torch.device(\"cuda:0\")\n",
    "torch.manual_seed(42)\n",
    "data = pd.read_csv(\"NN_training.nn\")\n",
    "np.random.seed(42)"
   ]
  },
  {
   "cell_type": "code",
   "execution_count": 2,
   "metadata": {},
   "outputs": [],
   "source": [
    "data = data.set_index(\"Unnamed: 0\")\n",
    "\n"
   ]
  },
  {
   "cell_type": "code",
   "execution_count": 4,
   "metadata": {},
   "outputs": [
    {
     "name": "stdout",
     "output_type": "stream",
     "text": [
      "<class 'pandas.core.frame.DataFrame'>\n",
      "Int64Index: 10876 entries, 14877 to 1811\n",
      "Columns: 521 entries, Actual Velocity to max_acc_y\n",
      "dtypes: float64(521)\n",
      "memory usage: 43.3 MB\n"
     ]
    }
   ],
   "source": [
    "\n"
   ]
  },
  {
   "cell_type": "code",
   "execution_count": 5,
   "metadata": {},
   "outputs": [
    {
     "name": "stdout",
     "output_type": "stream",
     "text": [
      "<class 'pandas.core.frame.DataFrame'>\n",
      "Int64Index: 18128 entries, 0 to 18127\n",
      "Columns: 521 entries, Actual Velocity to max_acc_y\n",
      "dtypes: float64(521)\n",
      "memory usage: 72.2 MB\n"
     ]
    }
   ],
   "source": []
  },
  {
   "cell_type": "code",
   "execution_count": 6,
   "metadata": {},
   "outputs": [
    {
     "name": "stdout",
     "output_type": "stream",
     "text": [
      "<class 'pandas.core.frame.DataFrame'>\n",
      "Int64Index: 3626 entries, 5265 to 17179\n",
      "Columns: 521 entries, Actual Velocity to max_acc_y\n",
      "dtypes: float64(521)\n",
      "memory usage: 14.4 MB\n"
     ]
    }
   ],
   "source": []
  },
  {
   "cell_type": "code",
   "execution_count": 7,
   "metadata": {},
   "outputs": [
    {
     "name": "stdout",
     "output_type": "stream",
     "text": [
      "<class 'pandas.core.frame.DataFrame'>\n",
      "Int64Index: 3626 entries, 16868 to 12838\n",
      "Columns: 521 entries, Actual Velocity to max_acc_y\n",
      "dtypes: float64(521)\n",
      "memory usage: 14.4 MB\n"
     ]
    }
   ],
   "source": []
  },
  {
   "cell_type": "code",
   "execution_count": 8,
   "metadata": {},
   "outputs": [],
   "source": [
    "x = data.values #returns a numpy array\n",
    "min_max_scaler = preprocessing.MinMaxScaler()\n",
    "x_scaled = min_max_scaler.fit_transform(x)\n",
    "d2 = pd.DataFrame(x_scaled)\n",
    "train, validate, test = np.split(d2.sample(frac=1), [int(.6*len(d2)), int(.8*len(d2))])"
   ]
  },
  {
   "cell_type": "code",
   "execution_count": null,
   "metadata": {},
   "outputs": [],
   "source": []
  },
  {
   "cell_type": "code",
   "execution_count": 9,
   "metadata": {},
   "outputs": [],
   "source": [
    "y_tr = torch.from_numpy(train.iloc[:,0].to_numpy())\n",
    "y_tr = y_tr.view(y_tr.shape[0], 1)\n",
    "y_te = torch.from_numpy(test.iloc[:,0].to_numpy())\n",
    "y_te = y_te.view(y_te.shape[0], 1)\n",
    "y_va = torch.from_numpy(validate.iloc[:,0].to_numpy())\n",
    "y_va = y_va.view(y_va.shape[0], 1)"
   ]
  },
  {
   "cell_type": "code",
   "execution_count": 10,
   "metadata": {},
   "outputs": [],
   "source": [
    "x_tr = torch.from_numpy(train.iloc[:,1:].to_numpy())\n",
    "x_te = torch.from_numpy(test.iloc[:,1:].to_numpy())\n",
    "x_va = torch.from_numpy(validate.iloc[:,1:].to_numpy())"
   ]
  },
  {
   "cell_type": "code",
   "execution_count": 12,
   "metadata": {},
   "outputs": [
    {
     "name": "stdout",
     "output_type": "stream",
     "text": [
      "torch.Size([10876, 520]) torch.Size([10876, 1])\n"
     ]
    }
   ],
   "source": [
    "print(x_tr.shape, y_tr.shape)"
   ]
  },
  {
   "cell_type": "code",
   "execution_count": 13,
   "metadata": {},
   "outputs": [],
   "source": [
    "x_tr = x_tr.float()\n",
    "y_tr = y_tr.float()"
   ]
  },
  {
   "cell_type": "code",
   "execution_count": 19,
   "metadata": {},
   "outputs": [],
   "source": [
    "x_tr = x_tr.cuda()\n",
    "y_tr = y_tr.cuda()"
   ]
  },
  {
   "cell_type": "code",
   "execution_count": 20,
   "metadata": {},
   "outputs": [],
   "source": [
    "x_te = x_te.float().cuda()\n",
    "y_te = y_te.float().cuda()"
   ]
  },
  {
   "cell_type": "code",
   "execution_count": 21,
   "metadata": {},
   "outputs": [],
   "source": [
    "x_va = x_te.float().cuda()\n",
    "y_va = y_te.float().cuda()"
   ]
  },
  {
   "cell_type": "code",
   "execution_count": 22,
   "metadata": {},
   "outputs": [],
   "source": [
    "l_rate = 1e-6\n",
    "\n",
    "input_dim, hiden_dim, h2, output_dim = x_tr.shape[1], 500, 30, y_tr.shape[1]\n",
    "model = torch.nn.Sequential(\n",
    "    torch.nn.Linear(input_dim, hiden_dim),\n",
    "    torch.nn.ReLU(),\n",
    "    torch.nn.Linear(hiden_dim, h2),\n",
    "    torch.nn.ReLU(),\n",
    "    torch.nn.Linear(h2, output_dim),\n",
    ")\n",
    "model.cuda()\n",
    "loss_fn = torch.nn.MSELoss(reduction=\"sum\")\n",
    "losses_train = []\n",
    "losses_test = []\n",
    "times = []"
   ]
  },
  {
   "cell_type": "code",
   "execution_count": 32,
   "metadata": {},
   "outputs": [],
   "source": [
    "l_rate = 1e-5"
   ]
  },
  {
   "cell_type": "code",
   "execution_count": 37,
   "metadata": {},
   "outputs": [
    {
     "name": "stdout",
     "output_type": "stream",
     "text": [
      "training error:     99   3.32\n",
      "test error:         99   2.29\n"
     ]
    }
   ],
   "source": [
    "\n",
    "for t in range(500):\n",
    "#     y_pred = model(xc).to(device)\n",
    "    y_pred = model(x_tr)\n",
    "    \n",
    "#     y_c_pred = y_pred.to(dev)\n",
    "    loss = loss_fn(y_pred, y_tr)\n",
    "    \n",
    "    if t % 1000 == 99:\n",
    "        print(\"{:16}{:6}   {:5.3}\".format(\"training error:\", t, loss.item()))\n",
    "        y_test = model(x_te)\n",
    "        loss_te = loss_fn(y_test, y_te)\n",
    "        print(\"{:16}{:6}  {:5.3}\".format(\"test error:\", t, loss_te.item()))\n",
    "    if t % 100 == 1:\n",
    "#         print(\"training error:\", t, loss.item())\n",
    "        y_test = model(x_te)\n",
    "        loss_te = loss_fn(y_test, y_te)\n",
    "#         print(\"test error:\", t, loss_te.item())\n",
    "        losses_train.append(loss.item())\n",
    "        losses_test.append(loss_te.item())\n",
    "        times.append(t)\n",
    "    model.zero_grad()\n",
    "    loss.backward()\n",
    "    with torch.no_grad():\n",
    "        for param in model.parameters():\n",
    "            param -= l_rate * param.grad"
   ]
  },
  {
   "cell_type": "code",
   "execution_count": 34,
   "metadata": {},
   "outputs": [
    {
     "data": {
      "text/plain": [
       "<AxesSubplot:xlabel='time', ylabel='test_l'>"
      ]
     },
     "execution_count": 34,
     "metadata": {},
     "output_type": "execute_result"
    },
    {
     "data": {
      "image/png": "[encoded data removed]",
      "text/plain": [
       "<Figure size 432x288 with 1 Axes>"
      ]
     },
     "metadata": {
      "needs_background": "light"
     },
     "output_type": "display_data"
    },
    {
     "data": {
      "image/png": "[encoded data removed]",
      "text/plain": [
       "<Figure size 432x288 with 1 Axes>"
      ]
     },
     "metadata": {
      "needs_background": "light"
     },
     "output_type": "display_data"
    }
   ],
   "source": [
    "stats = pd.DataFrame({\"train_l\":losses_train, \"test_l\":losses_test, \"time\":times})\n",
    "# stats.plot(x=\"time\", y=[\"train_l\", \"test_l\"], kind=\"scatter\")\n",
    "stats.plot(x=\"time\", y=\"train_l\", kind=\"scatter\")\n",
    "stats.plot(x=\"time\", y=\"test_l\", kind=\"scatter\")"
   ]
  },
  {
   "cell_type": "markdown",
   "metadata": {},
   "source": [
    "to do:\n",
    "    Randomize the order of the input data\n",
    "    training/test set split\n",
    "    optimise architecture\n",
    "    test by plotting predicted speeds of other runs\n",
    "    investigate 1d convolution layer\n",
    "    print the validation set score with loss\n",
    "    \n",
    "    Build alternate model using raw acceleration data (down sample data) - investigate embedding/embedding layer"
   ]
  },
  {
   "cell_type": "code",
   "execution_count": 32,
   "metadata": {},
   "outputs": [],
   "source": [
    "# checkpoint = {'input_size': xc.shape[1],\n",
    "#               'output_size': yc.shape[1],\n",
    "#               \"model_dets\": model,\n",
    "#               'state_dict': model.state_dict()}\n",
    "\n",
    "# torch.save(checkpoint, 'checkpoint.pth')"
   ]
  },
  {
   "cell_type": "code",
   "execution_count": 31,
   "metadata": {},
   "outputs": [
    {
     "data": {
      "text/plain": [
       "Sequential(\n",
       "  (0): Linear(in_features=520, out_features=500, bias=True)\n",
       "  (1): ReLU()\n",
       "  (2): Linear(in_features=500, out_features=30, bias=True)\n",
       "  (3): ReLU()\n",
       "  (4): Linear(in_features=30, out_features=1, bias=True)\n",
       ")"
      ]
     },
     "execution_count": 31,
     "metadata": {},
     "output_type": "execute_result"
    }
   ],
   "source": [
    "model"
   ]
  },
  {
   "cell_type": "code",
   "execution_count": 29,
   "metadata": {},
   "outputs": [
    {
     "ename": "ModuleNotFoundError",
     "evalue": "No module named 'pytorch_lightning'",
     "output_type": "error",
     "traceback": [
      "\u001b[1;31m---------------------------------------------------------------------------\u001b[0m",
      "\u001b[1;31mModuleNotFoundError\u001b[0m                       Traceback (most recent call last)",
      "\u001b[1;32m<ipython-input-29-d96cb5f9e9b4>\u001b[0m in \u001b[0;36m<module>\u001b[1;34m\u001b[0m\n\u001b[1;32m----> 1\u001b[1;33m \u001b[1;32mfrom\u001b[0m \u001b[0mpytorch_lightning\u001b[0m\u001b[1;33m.\u001b[0m\u001b[0mmetrics\u001b[0m\u001b[1;33m.\u001b[0m\u001b[0mfunctional\u001b[0m \u001b[1;32mimport\u001b[0m \u001b[0maccuracy\u001b[0m\u001b[1;33m\u001b[0m\u001b[1;33m\u001b[0m\u001b[0m\n\u001b[0m",
      "\u001b[1;31mModuleNotFoundError\u001b[0m: No module named 'pytorch_lightning'"
     ]
    }
   ],
   "source": []
  },
  {
   "cell_type": "code",
   "execution_count": null,
   "metadata": {},
   "outputs": [],
   "source": []
  }
 ],
 "metadata": {
  "kernelspec": {
   "display_name": "Python 3",
   "language": "python",
   "name": "python3"
  },
  "language_info": {
   "codemirror_mode": {
    "name": "ipython",
    "version": 3
   },
   "file_extension": ".py",
   "mimetype": "text/x-python",
   "name": "python",
   "nbconvert_exporter": "python",
   "pygments_lexer": "ipython3",
   "version": "3.7.8"
  }
 },
 "nbformat": 4,
 "nbformat_minor": 4
}
