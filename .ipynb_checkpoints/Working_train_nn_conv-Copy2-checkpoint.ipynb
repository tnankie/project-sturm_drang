{
 "cells": [
  {
   "cell_type": "code",
   "execution_count": 1,
   "metadata": {},
   "outputs": [],
   "source": [
    "import pandas as pd\n",
    "import numpy as np\n",
    "import torch\n",
    "from sklearn import preprocessing\n",
    "dtype = torch.float64\n",
    "device = torch.device(\"cuda:0\")\n",
    "torch.manual_seed(42)\n",
    "data = pd.read_csv(\"NN_training_big.nn\")\n",
    "np.random.seed(42)"
   ]
  },
  {
   "cell_type": "code",
   "execution_count": 2,
   "metadata": {},
   "outputs": [],
   "source": [
    "data = data.set_index(\"Unnamed: 0\")\n",
    "\n"
   ]
  },
  {
   "cell_type": "code",
   "execution_count": 3,
   "metadata": {},
   "outputs": [
    {
     "data": {
      "text/plain": [
       "24.0"
      ]
     },
     "execution_count": 3,
     "metadata": {},
     "output_type": "execute_result"
    }
   ],
   "source": [
    "data.iloc[0,0]"
   ]
  },
  {
   "cell_type": "code",
   "execution_count": 4,
   "metadata": {},
   "outputs": [
    {
     "data": {
      "text/html": [
       "<div>\n",
       "<style scoped>\n",
       "    .dataframe tbody tr th:only-of-type {\n",
       "        vertical-align: middle;\n",
       "    }\n",
       "\n",
       "    .dataframe tbody tr th {\n",
       "        vertical-align: top;\n",
       "    }\n",
       "\n",
       "    .dataframe thead th {\n",
       "        text-align: right;\n",
       "    }\n",
       "</style>\n",
       "<table border=\"1\" class=\"dataframe\">\n",
       "  <thead>\n",
       "    <tr style=\"text-align: right;\">\n",
       "      <th></th>\n",
       "      <th>Unnamed: 0</th>\n",
       "      <th>Actual Velocity</th>\n",
       "      <th>Track Section</th>\n",
       "      <th>0_x</th>\n",
       "      <th>10_x</th>\n",
       "      <th>20_x</th>\n",
       "      <th>30_x</th>\n",
       "      <th>40_x</th>\n",
       "      <th>50_x</th>\n",
       "      <th>60_x</th>\n",
       "      <th>...</th>\n",
       "      <th>2500_y</th>\n",
       "      <th>2510_y</th>\n",
       "      <th>2520_y</th>\n",
       "      <th>2530_y</th>\n",
       "      <th>2540_y</th>\n",
       "      <th>2550_y</th>\n",
       "      <th>mean_acc_y</th>\n",
       "      <th>median_y</th>\n",
       "      <th>95_acc_y</th>\n",
       "      <th>max_acc_y</th>\n",
       "    </tr>\n",
       "  </thead>\n",
       "  <tbody>\n",
       "    <tr>\n",
       "      <th>0</th>\n",
       "      <td>0</td>\n",
       "      <td>24.0</td>\n",
       "      <td>0.0</td>\n",
       "      <td>0.002890</td>\n",
       "      <td>0.002176</td>\n",
       "      <td>0.004270</td>\n",
       "      <td>0.007065</td>\n",
       "      <td>0.009169</td>\n",
       "      <td>0.008229</td>\n",
       "      <td>0.006080</td>\n",
       "      <td>...</td>\n",
       "      <td>0.001342</td>\n",
       "      <td>0.001679</td>\n",
       "      <td>0.001001</td>\n",
       "      <td>0.001741</td>\n",
       "      <td>0.001173</td>\n",
       "      <td>0.001034</td>\n",
       "      <td>0.441387</td>\n",
       "      <td>0.353673</td>\n",
       "      <td>1.135934</td>\n",
       "      <td>6.148501</td>\n",
       "    </tr>\n",
       "    <tr>\n",
       "      <th>1</th>\n",
       "      <td>2</td>\n",
       "      <td>25.0</td>\n",
       "      <td>0.0</td>\n",
       "      <td>0.006483</td>\n",
       "      <td>0.012145</td>\n",
       "      <td>0.016721</td>\n",
       "      <td>0.014323</td>\n",
       "      <td>0.019283</td>\n",
       "      <td>0.015196</td>\n",
       "      <td>0.018086</td>\n",
       "      <td>...</td>\n",
       "      <td>0.001500</td>\n",
       "      <td>0.001161</td>\n",
       "      <td>0.001255</td>\n",
       "      <td>0.001117</td>\n",
       "      <td>0.000859</td>\n",
       "      <td>0.001176</td>\n",
       "      <td>0.435271</td>\n",
       "      <td>0.328850</td>\n",
       "      <td>1.205422</td>\n",
       "      <td>6.901017</td>\n",
       "    </tr>\n",
       "    <tr>\n",
       "      <th>2</th>\n",
       "      <td>5</td>\n",
       "      <td>25.0</td>\n",
       "      <td>2580.0</td>\n",
       "      <td>0.006075</td>\n",
       "      <td>0.026636</td>\n",
       "      <td>0.049570</td>\n",
       "      <td>0.035475</td>\n",
       "      <td>0.045464</td>\n",
       "      <td>0.058989</td>\n",
       "      <td>0.035533</td>\n",
       "      <td>...</td>\n",
       "      <td>0.001636</td>\n",
       "      <td>0.000910</td>\n",
       "      <td>0.001677</td>\n",
       "      <td>0.001872</td>\n",
       "      <td>0.001693</td>\n",
       "      <td>0.001617</td>\n",
       "      <td>0.492657</td>\n",
       "      <td>0.398906</td>\n",
       "      <td>1.274077</td>\n",
       "      <td>2.885397</td>\n",
       "    </tr>\n",
       "    <tr>\n",
       "      <th>3</th>\n",
       "      <td>6</td>\n",
       "      <td>25.0</td>\n",
       "      <td>2580.0</td>\n",
       "      <td>0.006267</td>\n",
       "      <td>0.005948</td>\n",
       "      <td>0.009482</td>\n",
       "      <td>0.013067</td>\n",
       "      <td>0.011271</td>\n",
       "      <td>0.009465</td>\n",
       "      <td>0.012031</td>\n",
       "      <td>...</td>\n",
       "      <td>0.001607</td>\n",
       "      <td>0.001065</td>\n",
       "      <td>0.001259</td>\n",
       "      <td>0.001687</td>\n",
       "      <td>0.001401</td>\n",
       "      <td>0.001769</td>\n",
       "      <td>0.452549</td>\n",
       "      <td>0.330364</td>\n",
       "      <td>1.290717</td>\n",
       "      <td>3.406660</td>\n",
       "    </tr>\n",
       "    <tr>\n",
       "      <th>4</th>\n",
       "      <td>7</td>\n",
       "      <td>24.0</td>\n",
       "      <td>2580.0</td>\n",
       "      <td>0.006267</td>\n",
       "      <td>0.005948</td>\n",
       "      <td>0.009482</td>\n",
       "      <td>0.013067</td>\n",
       "      <td>0.011271</td>\n",
       "      <td>0.009465</td>\n",
       "      <td>0.012031</td>\n",
       "      <td>...</td>\n",
       "      <td>0.001607</td>\n",
       "      <td>0.001065</td>\n",
       "      <td>0.001259</td>\n",
       "      <td>0.001687</td>\n",
       "      <td>0.001401</td>\n",
       "      <td>0.001769</td>\n",
       "      <td>0.452549</td>\n",
       "      <td>0.330364</td>\n",
       "      <td>1.290717</td>\n",
       "      <td>3.406660</td>\n",
       "    </tr>\n",
       "  </tbody>\n",
       "</table>\n",
       "<p>5 rows × 523 columns</p>\n",
       "</div>"
      ],
      "text/plain": [
       "   Unnamed: 0  Actual Velocity  Track Section       0_x      10_x      20_x  \\\n",
       "0           0             24.0            0.0  0.002890  0.002176  0.004270   \n",
       "1           2             25.0            0.0  0.006483  0.012145  0.016721   \n",
       "2           5             25.0         2580.0  0.006075  0.026636  0.049570   \n",
       "3           6             25.0         2580.0  0.006267  0.005948  0.009482   \n",
       "4           7             24.0         2580.0  0.006267  0.005948  0.009482   \n",
       "\n",
       "       30_x      40_x      50_x      60_x  ...    2500_y    2510_y    2520_y  \\\n",
       "0  0.007065  0.009169  0.008229  0.006080  ...  0.001342  0.001679  0.001001   \n",
       "1  0.014323  0.019283  0.015196  0.018086  ...  0.001500  0.001161  0.001255   \n",
       "2  0.035475  0.045464  0.058989  0.035533  ...  0.001636  0.000910  0.001677   \n",
       "3  0.013067  0.011271  0.009465  0.012031  ...  0.001607  0.001065  0.001259   \n",
       "4  0.013067  0.011271  0.009465  0.012031  ...  0.001607  0.001065  0.001259   \n",
       "\n",
       "     2530_y    2540_y    2550_y  mean_acc_y  median_y  95_acc_y  max_acc_y  \n",
       "0  0.001741  0.001173  0.001034    0.441387  0.353673  1.135934   6.148501  \n",
       "1  0.001117  0.000859  0.001176    0.435271  0.328850  1.205422   6.901017  \n",
       "2  0.001872  0.001693  0.001617    0.492657  0.398906  1.274077   2.885397  \n",
       "3  0.001687  0.001401  0.001769    0.452549  0.330364  1.290717   3.406660  \n",
       "4  0.001687  0.001401  0.001769    0.452549  0.330364  1.290717   3.406660  \n",
       "\n",
       "[5 rows x 523 columns]"
      ]
     },
     "execution_count": 4,
     "metadata": {},
     "output_type": "execute_result"
    }
   ],
   "source": [
    "data = data.reset_index()\n",
    "data.head()"
   ]
  },
  {
   "cell_type": "markdown",
   "metadata": {},
   "source": [
    "next cell is a little confusing\n",
    "we scale the acceleration data (and not the target variables, actual velocity and track section)\n",
    "then we add back in the target variable speed (not looking at position in this model).\n",
    "Then we split into training, test and validate datasets."
   ]
  },
  {
   "cell_type": "code",
   "execution_count": 5,
   "metadata": {},
   "outputs": [],
   "source": [
    "x = data.iloc[:,3:].values #returns a numpy array\n",
    "min_max_scaler = preprocessing.MinMaxScaler()\n",
    "x_scaled = min_max_scaler.fit_transform(x)\n",
    "d2 = pd.DataFrame(x_scaled)\n",
    "d2[\"speed\"] = data.iloc[:,1].values\n",
    "train, validate, test = np.split(d2.sample(frac=1), [int(.6*len(d2)), int(.8*len(d2))])"
   ]
  },
  {
   "cell_type": "code",
   "execution_count": 6,
   "metadata": {},
   "outputs": [
    {
     "data": {
      "text/html": [
       "<div>\n",
       "<style scoped>\n",
       "    .dataframe tbody tr th:only-of-type {\n",
       "        vertical-align: middle;\n",
       "    }\n",
       "\n",
       "    .dataframe tbody tr th {\n",
       "        vertical-align: top;\n",
       "    }\n",
       "\n",
       "    .dataframe thead th {\n",
       "        text-align: right;\n",
       "    }\n",
       "</style>\n",
       "<table border=\"1\" class=\"dataframe\">\n",
       "  <thead>\n",
       "    <tr style=\"text-align: right;\">\n",
       "      <th></th>\n",
       "      <th>0</th>\n",
       "      <th>1</th>\n",
       "      <th>2</th>\n",
       "      <th>3</th>\n",
       "      <th>4</th>\n",
       "      <th>5</th>\n",
       "      <th>6</th>\n",
       "      <th>7</th>\n",
       "      <th>8</th>\n",
       "      <th>9</th>\n",
       "      <th>...</th>\n",
       "      <th>511</th>\n",
       "      <th>512</th>\n",
       "      <th>513</th>\n",
       "      <th>514</th>\n",
       "      <th>515</th>\n",
       "      <th>516</th>\n",
       "      <th>517</th>\n",
       "      <th>518</th>\n",
       "      <th>519</th>\n",
       "      <th>speed</th>\n",
       "    </tr>\n",
       "  </thead>\n",
       "  <tbody>\n",
       "    <tr>\n",
       "      <th>0</th>\n",
       "      <td>0.012894</td>\n",
       "      <td>0.010084</td>\n",
       "      <td>0.022370</td>\n",
       "      <td>0.039810</td>\n",
       "      <td>0.067396</td>\n",
       "      <td>0.061797</td>\n",
       "      <td>0.045177</td>\n",
       "      <td>0.056379</td>\n",
       "      <td>0.103754</td>\n",
       "      <td>0.134596</td>\n",
       "      <td>...</td>\n",
       "      <td>0.049948</td>\n",
       "      <td>0.020839</td>\n",
       "      <td>0.030925</td>\n",
       "      <td>0.016744</td>\n",
       "      <td>0.018857</td>\n",
       "      <td>0.043747</td>\n",
       "      <td>0.043857</td>\n",
       "      <td>0.041497</td>\n",
       "      <td>0.021361</td>\n",
       "      <td>24.0</td>\n",
       "    </tr>\n",
       "    <tr>\n",
       "      <th>1</th>\n",
       "      <td>0.032390</td>\n",
       "      <td>0.059556</td>\n",
       "      <td>0.089179</td>\n",
       "      <td>0.081217</td>\n",
       "      <td>0.142221</td>\n",
       "      <td>0.114948</td>\n",
       "      <td>0.135067</td>\n",
       "      <td>0.062820</td>\n",
       "      <td>0.131166</td>\n",
       "      <td>0.124973</td>\n",
       "      <td>...</td>\n",
       "      <td>0.034443</td>\n",
       "      <td>0.026175</td>\n",
       "      <td>0.019798</td>\n",
       "      <td>0.012231</td>\n",
       "      <td>0.021470</td>\n",
       "      <td>0.043136</td>\n",
       "      <td>0.040753</td>\n",
       "      <td>0.044054</td>\n",
       "      <td>0.023981</td>\n",
       "      <td>25.0</td>\n",
       "    </tr>\n",
       "    <tr>\n",
       "      <th>2</th>\n",
       "      <td>0.030172</td>\n",
       "      <td>0.131468</td>\n",
       "      <td>0.265445</td>\n",
       "      <td>0.201901</td>\n",
       "      <td>0.335917</td>\n",
       "      <td>0.449037</td>\n",
       "      <td>0.265696</td>\n",
       "      <td>0.289620</td>\n",
       "      <td>0.301918</td>\n",
       "      <td>0.199964</td>\n",
       "      <td>...</td>\n",
       "      <td>0.026947</td>\n",
       "      <td>0.035032</td>\n",
       "      <td>0.033254</td>\n",
       "      <td>0.024216</td>\n",
       "      <td>0.029571</td>\n",
       "      <td>0.048867</td>\n",
       "      <td>0.049511</td>\n",
       "      <td>0.046580</td>\n",
       "      <td>0.009997</td>\n",
       "      <td>25.0</td>\n",
       "    </tr>\n",
       "    <tr>\n",
       "      <th>3</th>\n",
       "      <td>0.031216</td>\n",
       "      <td>0.028804</td>\n",
       "      <td>0.050335</td>\n",
       "      <td>0.074051</td>\n",
       "      <td>0.082951</td>\n",
       "      <td>0.071224</td>\n",
       "      <td>0.089734</td>\n",
       "      <td>0.085961</td>\n",
       "      <td>0.228390</td>\n",
       "      <td>0.272376</td>\n",
       "      <td>...</td>\n",
       "      <td>0.031598</td>\n",
       "      <td>0.026260</td>\n",
       "      <td>0.029963</td>\n",
       "      <td>0.020023</td>\n",
       "      <td>0.032347</td>\n",
       "      <td>0.044862</td>\n",
       "      <td>0.040943</td>\n",
       "      <td>0.047193</td>\n",
       "      <td>0.011812</td>\n",
       "      <td>25.0</td>\n",
       "    </tr>\n",
       "    <tr>\n",
       "      <th>4</th>\n",
       "      <td>0.031216</td>\n",
       "      <td>0.028804</td>\n",
       "      <td>0.050335</td>\n",
       "      <td>0.074051</td>\n",
       "      <td>0.082951</td>\n",
       "      <td>0.071224</td>\n",
       "      <td>0.089734</td>\n",
       "      <td>0.085961</td>\n",
       "      <td>0.228390</td>\n",
       "      <td>0.272376</td>\n",
       "      <td>...</td>\n",
       "      <td>0.031598</td>\n",
       "      <td>0.026260</td>\n",
       "      <td>0.029963</td>\n",
       "      <td>0.020023</td>\n",
       "      <td>0.032347</td>\n",
       "      <td>0.044862</td>\n",
       "      <td>0.040943</td>\n",
       "      <td>0.047193</td>\n",
       "      <td>0.011812</td>\n",
       "      <td>24.0</td>\n",
       "    </tr>\n",
       "  </tbody>\n",
       "</table>\n",
       "<p>5 rows × 521 columns</p>\n",
       "</div>"
      ],
      "text/plain": [
       "          0         1         2         3         4         5         6  \\\n",
       "0  0.012894  0.010084  0.022370  0.039810  0.067396  0.061797  0.045177   \n",
       "1  0.032390  0.059556  0.089179  0.081217  0.142221  0.114948  0.135067   \n",
       "2  0.030172  0.131468  0.265445  0.201901  0.335917  0.449037  0.265696   \n",
       "3  0.031216  0.028804  0.050335  0.074051  0.082951  0.071224  0.089734   \n",
       "4  0.031216  0.028804  0.050335  0.074051  0.082951  0.071224  0.089734   \n",
       "\n",
       "          7         8         9  ...       511       512       513       514  \\\n",
       "0  0.056379  0.103754  0.134596  ...  0.049948  0.020839  0.030925  0.016744   \n",
       "1  0.062820  0.131166  0.124973  ...  0.034443  0.026175  0.019798  0.012231   \n",
       "2  0.289620  0.301918  0.199964  ...  0.026947  0.035032  0.033254  0.024216   \n",
       "3  0.085961  0.228390  0.272376  ...  0.031598  0.026260  0.029963  0.020023   \n",
       "4  0.085961  0.228390  0.272376  ...  0.031598  0.026260  0.029963  0.020023   \n",
       "\n",
       "        515       516       517       518       519  speed  \n",
       "0  0.018857  0.043747  0.043857  0.041497  0.021361   24.0  \n",
       "1  0.021470  0.043136  0.040753  0.044054  0.023981   25.0  \n",
       "2  0.029571  0.048867  0.049511  0.046580  0.009997   25.0  \n",
       "3  0.032347  0.044862  0.040943  0.047193  0.011812   25.0  \n",
       "4  0.032347  0.044862  0.040943  0.047193  0.011812   24.0  \n",
       "\n",
       "[5 rows x 521 columns]"
      ]
     },
     "execution_count": 6,
     "metadata": {},
     "output_type": "execute_result"
    }
   ],
   "source": [
    "d2.head()"
   ]
  },
  {
   "cell_type": "code",
   "execution_count": null,
   "metadata": {},
   "outputs": [],
   "source": []
  },
  {
   "cell_type": "code",
   "execution_count": 7,
   "metadata": {},
   "outputs": [],
   "source": [
    "y_tr = torch.from_numpy(train.iloc[:,-1].to_numpy())\n",
    "y_tr = y_tr.view(y_tr.shape[0], 1)\n",
    "y_te = torch.from_numpy(test.iloc[:,-1].to_numpy())\n",
    "y_te = y_te.view(y_te.shape[0], 1)\n",
    "y_va = torch.from_numpy(validate.iloc[:,-1].to_numpy())\n",
    "y_va = y_va.view(y_va.shape[0], 1)"
   ]
  },
  {
   "cell_type": "code",
   "execution_count": 8,
   "metadata": {},
   "outputs": [],
   "source": [
    "x_tr = torch.from_numpy(train.iloc[:,:-1].to_numpy())\n",
    "x_te = torch.from_numpy(test.iloc[:,:-1].to_numpy())\n",
    "x_va = torch.from_numpy(validate.iloc[:,:-1].to_numpy())"
   ]
  },
  {
   "cell_type": "code",
   "execution_count": 9,
   "metadata": {},
   "outputs": [
    {
     "name": "stdout",
     "output_type": "stream",
     "text": [
      "torch.Size([10008, 520]) torch.Size([10008, 1])\n"
     ]
    }
   ],
   "source": [
    "print(x_tr.shape, y_tr.shape)"
   ]
  },
  {
   "cell_type": "code",
   "execution_count": 10,
   "metadata": {},
   "outputs": [
    {
     "data": {
      "text/html": [
       "<div>\n",
       "<style scoped>\n",
       "    .dataframe tbody tr th:only-of-type {\n",
       "        vertical-align: middle;\n",
       "    }\n",
       "\n",
       "    .dataframe tbody tr th {\n",
       "        vertical-align: top;\n",
       "    }\n",
       "\n",
       "    .dataframe thead th {\n",
       "        text-align: right;\n",
       "    }\n",
       "</style>\n",
       "<table border=\"1\" class=\"dataframe\">\n",
       "  <thead>\n",
       "    <tr style=\"text-align: right;\">\n",
       "      <th></th>\n",
       "      <th>0</th>\n",
       "      <th>1</th>\n",
       "      <th>2</th>\n",
       "      <th>3</th>\n",
       "      <th>4</th>\n",
       "      <th>5</th>\n",
       "      <th>6</th>\n",
       "      <th>7</th>\n",
       "      <th>8</th>\n",
       "      <th>9</th>\n",
       "      <th>...</th>\n",
       "      <th>511</th>\n",
       "      <th>512</th>\n",
       "      <th>513</th>\n",
       "      <th>514</th>\n",
       "      <th>515</th>\n",
       "      <th>516</th>\n",
       "      <th>517</th>\n",
       "      <th>518</th>\n",
       "      <th>519</th>\n",
       "      <th>speed</th>\n",
       "    </tr>\n",
       "  </thead>\n",
       "  <tbody>\n",
       "    <tr>\n",
       "      <th>485</th>\n",
       "      <td>0.013801</td>\n",
       "      <td>0.044892</td>\n",
       "      <td>0.113802</td>\n",
       "      <td>0.178376</td>\n",
       "      <td>0.301623</td>\n",
       "      <td>0.167224</td>\n",
       "      <td>0.126587</td>\n",
       "      <td>0.158301</td>\n",
       "      <td>0.232646</td>\n",
       "      <td>0.195600</td>\n",
       "      <td>...</td>\n",
       "      <td>0.044672</td>\n",
       "      <td>0.026107</td>\n",
       "      <td>0.024301</td>\n",
       "      <td>0.036761</td>\n",
       "      <td>0.026343</td>\n",
       "      <td>0.083705</td>\n",
       "      <td>0.076614</td>\n",
       "      <td>0.086767</td>\n",
       "      <td>0.029065</td>\n",
       "      <td>38.0</td>\n",
       "    </tr>\n",
       "    <tr>\n",
       "      <th>8398</th>\n",
       "      <td>0.028837</td>\n",
       "      <td>0.035168</td>\n",
       "      <td>0.070129</td>\n",
       "      <td>0.082381</td>\n",
       "      <td>0.088652</td>\n",
       "      <td>0.115970</td>\n",
       "      <td>0.126023</td>\n",
       "      <td>0.035847</td>\n",
       "      <td>0.045223</td>\n",
       "      <td>0.043046</td>\n",
       "      <td>...</td>\n",
       "      <td>0.045091</td>\n",
       "      <td>0.040078</td>\n",
       "      <td>0.027772</td>\n",
       "      <td>0.023096</td>\n",
       "      <td>0.038960</td>\n",
       "      <td>0.120192</td>\n",
       "      <td>0.118210</td>\n",
       "      <td>0.115538</td>\n",
       "      <td>0.049316</td>\n",
       "      <td>66.0</td>\n",
       "    </tr>\n",
       "    <tr>\n",
       "      <th>2571</th>\n",
       "      <td>0.019712</td>\n",
       "      <td>0.019582</td>\n",
       "      <td>0.081202</td>\n",
       "      <td>0.086935</td>\n",
       "      <td>0.155120</td>\n",
       "      <td>0.114698</td>\n",
       "      <td>0.189383</td>\n",
       "      <td>0.144992</td>\n",
       "      <td>0.103995</td>\n",
       "      <td>0.057024</td>\n",
       "      <td>...</td>\n",
       "      <td>0.140108</td>\n",
       "      <td>0.090366</td>\n",
       "      <td>0.146999</td>\n",
       "      <td>0.095440</td>\n",
       "      <td>0.141284</td>\n",
       "      <td>0.304634</td>\n",
       "      <td>0.217707</td>\n",
       "      <td>0.381386</td>\n",
       "      <td>0.192331</td>\n",
       "      <td>79.0</td>\n",
       "    </tr>\n",
       "    <tr>\n",
       "      <th>14774</th>\n",
       "      <td>0.019306</td>\n",
       "      <td>0.028080</td>\n",
       "      <td>0.049760</td>\n",
       "      <td>0.065020</td>\n",
       "      <td>0.097671</td>\n",
       "      <td>0.051779</td>\n",
       "      <td>0.068423</td>\n",
       "      <td>0.030853</td>\n",
       "      <td>0.034626</td>\n",
       "      <td>0.019773</td>\n",
       "      <td>...</td>\n",
       "      <td>0.184284</td>\n",
       "      <td>0.079770</td>\n",
       "      <td>0.063068</td>\n",
       "      <td>0.063960</td>\n",
       "      <td>0.041093</td>\n",
       "      <td>0.091007</td>\n",
       "      <td>0.093789</td>\n",
       "      <td>0.085975</td>\n",
       "      <td>0.025356</td>\n",
       "      <td>65.0</td>\n",
       "    </tr>\n",
       "    <tr>\n",
       "      <th>5396</th>\n",
       "      <td>0.037723</td>\n",
       "      <td>0.081350</td>\n",
       "      <td>0.116759</td>\n",
       "      <td>0.157689</td>\n",
       "      <td>0.330517</td>\n",
       "      <td>0.237989</td>\n",
       "      <td>0.301501</td>\n",
       "      <td>0.269261</td>\n",
       "      <td>0.267445</td>\n",
       "      <td>0.095816</td>\n",
       "      <td>...</td>\n",
       "      <td>0.086822</td>\n",
       "      <td>0.069117</td>\n",
       "      <td>0.070014</td>\n",
       "      <td>0.076017</td>\n",
       "      <td>0.087131</td>\n",
       "      <td>0.246878</td>\n",
       "      <td>0.253661</td>\n",
       "      <td>0.226441</td>\n",
       "      <td>0.093765</td>\n",
       "      <td>79.0</td>\n",
       "    </tr>\n",
       "  </tbody>\n",
       "</table>\n",
       "<p>5 rows × 521 columns</p>\n",
       "</div>"
      ],
      "text/plain": [
       "              0         1         2         3         4         5         6  \\\n",
       "485    0.013801  0.044892  0.113802  0.178376  0.301623  0.167224  0.126587   \n",
       "8398   0.028837  0.035168  0.070129  0.082381  0.088652  0.115970  0.126023   \n",
       "2571   0.019712  0.019582  0.081202  0.086935  0.155120  0.114698  0.189383   \n",
       "14774  0.019306  0.028080  0.049760  0.065020  0.097671  0.051779  0.068423   \n",
       "5396   0.037723  0.081350  0.116759  0.157689  0.330517  0.237989  0.301501   \n",
       "\n",
       "              7         8         9  ...       511       512       513  \\\n",
       "485    0.158301  0.232646  0.195600  ...  0.044672  0.026107  0.024301   \n",
       "8398   0.035847  0.045223  0.043046  ...  0.045091  0.040078  0.027772   \n",
       "2571   0.144992  0.103995  0.057024  ...  0.140108  0.090366  0.146999   \n",
       "14774  0.030853  0.034626  0.019773  ...  0.184284  0.079770  0.063068   \n",
       "5396   0.269261  0.267445  0.095816  ...  0.086822  0.069117  0.070014   \n",
       "\n",
       "            514       515       516       517       518       519  speed  \n",
       "485    0.036761  0.026343  0.083705  0.076614  0.086767  0.029065   38.0  \n",
       "8398   0.023096  0.038960  0.120192  0.118210  0.115538  0.049316   66.0  \n",
       "2571   0.095440  0.141284  0.304634  0.217707  0.381386  0.192331   79.0  \n",
       "14774  0.063960  0.041093  0.091007  0.093789  0.085975  0.025356   65.0  \n",
       "5396   0.076017  0.087131  0.246878  0.253661  0.226441  0.093765   79.0  \n",
       "\n",
       "[5 rows x 521 columns]"
      ]
     },
     "execution_count": 10,
     "metadata": {},
     "output_type": "execute_result"
    }
   ],
   "source": [
    "train.head()"
   ]
  },
  {
   "cell_type": "code",
   "execution_count": 11,
   "metadata": {},
   "outputs": [
    {
     "data": {
      "text/plain": [
       "tensor([0.0138, 0.0449, 0.1138, 0.1784, 0.3016, 0.1672, 0.1266, 0.1583, 0.2326,\n",
       "        0.1956, 0.2777, 0.1348, 0.2416, 0.1878, 0.1444, 0.1688, 0.1344, 0.1670,\n",
       "        0.1325, 0.0792, 0.1016, 0.1159, 0.1290, 0.0804, 0.1102, 0.0791, 0.1411,\n",
       "        0.1004, 0.1436, 0.0731, 0.0940, 0.0458, 0.0695, 0.1099, 0.0930, 0.0743,\n",
       "        0.0462, 0.0637, 0.0516, 0.0362, 0.0737, 0.0517, 0.0508, 0.0215, 0.0237,\n",
       "        0.0380, 0.0238, 0.0174, 0.0266, 0.0300, 0.0245, 0.0259, 0.0185, 0.0717,\n",
       "        0.0664, 0.0589, 0.0899, 0.1092, 0.0774, 0.0780, 0.0871, 0.0531, 0.1240,\n",
       "        0.0776, 0.0798, 0.0686, 0.0476, 0.0323, 0.0354, 0.0381, 0.0414, 0.0378,\n",
       "        0.0357, 0.0278, 0.0237, 0.0274, 0.0280, 0.0304, 0.0609, 0.0374, 0.0515,\n",
       "        0.0381, 0.0621, 0.0314, 0.0348, 0.0482, 0.0406, 0.0341, 0.0341, 0.0213,\n",
       "        0.0298, 0.0256, 0.0533, 0.0441, 0.0402, 0.0315, 0.0413, 0.0222, 0.0235,\n",
       "        0.0230, 0.0149, 0.0272, 0.0220, 0.0233, 0.0316, 0.0269, 0.0364, 0.0287,\n",
       "        0.0311, 0.0381, 0.0357, 0.0274, 0.0366, 0.0381, 0.0288, 0.0345, 0.0297,\n",
       "        0.0287, 0.0282, 0.0364, 0.0365, 0.0490, 0.0279, 0.0278, 0.0294, 0.0355,\n",
       "        0.0153, 0.0196, 0.0175, 0.0190, 0.0256, 0.0227, 0.0172, 0.0220, 0.0205,\n",
       "        0.0157, 0.0265, 0.0122, 0.0213, 0.0264, 0.0096, 0.0071, 0.0039, 0.0175,\n",
       "        0.0238, 0.0401, 0.0370, 0.0346, 0.0112, 0.0163, 0.0155, 0.0161, 0.0358,\n",
       "        0.0192, 0.0196, 0.0178, 0.0485, 0.0511, 0.0342, 0.0480, 0.0384, 0.0357,\n",
       "        0.0467, 0.0391, 0.0277, 0.0458, 0.0383, 0.0590, 0.0467, 0.0571, 0.0357,\n",
       "        0.0435, 0.0517, 0.0533, 0.0527, 0.0529, 0.0608, 0.0445, 0.0659, 0.0440,\n",
       "        0.0486, 0.0360, 0.0315, 0.0443, 0.0491, 0.0563, 0.0469, 0.0327, 0.0414,\n",
       "        0.0378, 0.0157, 0.0188, 0.0285, 0.0204, 0.0251, 0.0237, 0.0172, 0.0165,\n",
       "        0.0169, 0.0133, 0.0159, 0.0126, 0.0187, 0.0322, 0.0237, 0.0352, 0.0239,\n",
       "        0.0475, 0.0330, 0.0512, 0.0482, 0.0587, 0.0431, 0.0167, 0.0110, 0.0494,\n",
       "        0.0408, 0.0292, 0.0438, 0.0406, 0.0365, 0.0398, 0.0455, 0.0331, 0.0466,\n",
       "        0.0382, 0.0351, 0.0357, 0.0482, 0.0448, 0.0416, 0.0623, 0.0353, 0.0512,\n",
       "        0.0366, 0.0411, 0.0486, 0.0312, 0.0423, 0.0452, 0.0559, 0.0425, 0.0454,\n",
       "        0.0691, 0.0473, 0.0348, 0.0219, 0.0382, 0.0332, 0.0367, 0.0440, 0.0548,\n",
       "        0.0371, 0.0286, 0.0299, 0.0367, 0.0994, 0.0993, 0.0992, 0.0602, 0.1390,\n",
       "        0.6042, 0.4684, 0.4671, 0.3153, 0.2039, 0.2168, 0.2037, 0.2222, 0.1836,\n",
       "        0.2543, 0.0424, 0.1776, 0.1500, 0.1735, 0.1882, 0.1262, 0.1265, 0.1244,\n",
       "        0.0759, 0.1221, 0.1623, 0.0980, 0.0594, 0.0759, 0.0511, 0.0335, 0.0653,\n",
       "        0.0926, 0.0412, 0.0790, 0.0558, 0.0395, 0.0952, 0.0839, 0.0810, 0.0874,\n",
       "        0.0410, 0.0639, 0.0412, 0.0224, 0.0364, 0.0223, 0.0298, 0.0198, 0.0554,\n",
       "        0.0354, 0.0253, 0.0388, 0.0359, 0.0469, 0.0514, 0.0476, 0.0612, 0.0677,\n",
       "        0.1031, 0.0811, 0.0749, 0.0453, 0.0867, 0.0903, 0.0715, 0.0527, 0.0305,\n",
       "        0.0251, 0.0223, 0.0158, 0.0234, 0.0177, 0.0242, 0.0357, 0.0284, 0.0327,\n",
       "        0.0437, 0.0307, 0.0262, 0.0295, 0.0418, 0.0611, 0.0860, 0.1033, 0.1113,\n",
       "        0.0603, 0.0532, 0.0642, 0.1143, 0.0404, 0.0344, 0.0326, 0.0200, 0.0369,\n",
       "        0.0499, 0.0533, 0.0559, 0.0303, 0.0232, 0.0344, 0.0411, 0.0383, 0.0159,\n",
       "        0.0252, 0.0193, 0.0239, 0.0371, 0.0401, 0.0293, 0.0367, 0.0224, 0.0238,\n",
       "        0.0392, 0.0225, 0.0284, 0.0249, 0.0347, 0.0227, 0.0206, 0.0210, 0.0169,\n",
       "        0.0161, 0.0140, 0.0219, 0.0149, 0.0257, 0.0195, 0.0244, 0.0195, 0.0258,\n",
       "        0.0253, 0.0284, 0.0346, 0.0299, 0.0283, 0.0253, 0.0173, 0.0205, 0.0508,\n",
       "        0.0286, 0.0281, 0.0257, 0.0220, 0.0107, 0.0241, 0.0162, 0.0127, 0.0165,\n",
       "        0.0346, 0.0396, 0.0267, 0.0138, 0.0164, 0.0107, 0.0174, 0.0158, 0.0170,\n",
       "        0.0098, 0.0191, 0.0247, 0.0269, 0.0309, 0.0365, 0.0323, 0.0514, 0.0847,\n",
       "        0.0664, 0.0505, 0.0853, 0.1029, 0.0718, 0.0529, 0.0886, 0.0792, 0.0745,\n",
       "        0.0693, 0.0654, 0.0804, 0.0662, 0.0636, 0.0410, 0.0425, 0.0551, 0.0398,\n",
       "        0.0381, 0.0302, 0.0335, 0.0469, 0.0337, 0.0349, 0.0481, 0.0386, 0.0445,\n",
       "        0.0617, 0.0356, 0.0528, 0.0490, 0.0511, 0.0497, 0.0868, 0.0628, 0.0540,\n",
       "        0.0740, 0.0443, 0.0296, 0.0461, 0.0378, 0.0287, 0.0414, 0.0305, 0.0281,\n",
       "        0.0359, 0.0312, 0.0597, 0.0612, 0.0345, 0.0163, 0.0141, 0.0475, 0.0613,\n",
       "        0.0339, 0.0767, 0.0620, 0.0651, 0.0591, 0.0655, 0.0474, 0.0674, 0.0699,\n",
       "        0.0544, 0.0466, 0.0596, 0.0396, 0.0421, 0.0349, 0.0403, 0.0547, 0.0399,\n",
       "        0.0645, 0.0534, 0.0642, 0.0312, 0.0346, 0.0370, 0.0280, 0.0225, 0.0324,\n",
       "        0.0341, 0.0352, 0.0185, 0.0389, 0.0332, 0.0382, 0.0475, 0.0447, 0.0261,\n",
       "        0.0243, 0.0368, 0.0263, 0.0837, 0.0766, 0.0868, 0.0291],\n",
       "       dtype=torch.float64)"
      ]
     },
     "execution_count": 11,
     "metadata": {},
     "output_type": "execute_result"
    }
   ],
   "source": [
    "x_tr[0]"
   ]
  },
  {
   "cell_type": "code",
   "execution_count": 12,
   "metadata": {},
   "outputs": [
    {
     "data": {
      "text/plain": [
       "torch.Size([10008, 520])"
      ]
     },
     "execution_count": 12,
     "metadata": {},
     "output_type": "execute_result"
    }
   ],
   "source": [
    "x_tr = x_tr.float()\n",
    "y_tr = y_tr.float()\n",
    "x_tr.shape"
   ]
  },
  {
   "cell_type": "code",
   "execution_count": 13,
   "metadata": {},
   "outputs": [
    {
     "data": {
      "text/plain": [
       "torch.Size([10008, 1, 520])"
      ]
     },
     "execution_count": 13,
     "metadata": {},
     "output_type": "execute_result"
    }
   ],
   "source": [
    "x3d = x_tr.view(x_tr.shape[0],1,x_tr.shape[1])\n",
    "x3d.shape"
   ]
  },
  {
   "cell_type": "code",
   "execution_count": 14,
   "metadata": {},
   "outputs": [
    {
     "data": {
      "text/plain": [
       "torch.Size([10008, 520])"
      ]
     },
     "execution_count": 14,
     "metadata": {},
     "output_type": "execute_result"
    }
   ],
   "source": [
    "x_sq = torch.flatten(x3d, start_dim = 1)\n",
    "x_sq.shape"
   ]
  },
  {
   "cell_type": "code",
   "execution_count": 15,
   "metadata": {},
   "outputs": [
    {
     "data": {
      "text/plain": [
       "tensor(True)"
      ]
     },
     "execution_count": 15,
     "metadata": {},
     "output_type": "execute_result"
    }
   ],
   "source": [
    "x_sq[0,-1] == x3d[0,0,-1]"
   ]
  },
  {
   "cell_type": "code",
   "execution_count": 16,
   "metadata": {},
   "outputs": [
    {
     "data": {
      "text/plain": [
       "tensor([0.0138, 0.0449, 0.1138, 0.1784, 0.3016, 0.1672, 0.1266, 0.1583, 0.2326,\n",
       "        0.1956])"
      ]
     },
     "execution_count": 16,
     "metadata": {},
     "output_type": "execute_result"
    }
   ],
   "source": [
    "x3d[0,0,0:10]"
   ]
  },
  {
   "cell_type": "code",
   "execution_count": 17,
   "metadata": {},
   "outputs": [
    {
     "data": {
      "text/plain": [
       "tensor([0.0138, 0.0449, 0.1138, 0.1784, 0.3016, 0.1672, 0.1266, 0.1583, 0.2326,\n",
       "        0.1956])"
      ]
     },
     "execution_count": 17,
     "metadata": {},
     "output_type": "execute_result"
    }
   ],
   "source": [
    "x_sq[0,0:10]"
   ]
  },
  {
   "cell_type": "code",
   "execution_count": 18,
   "metadata": {},
   "outputs": [],
   "source": [
    "m = torch.nn.Conv1d(1,1,5)"
   ]
  },
  {
   "cell_type": "code",
   "execution_count": 19,
   "metadata": {},
   "outputs": [
    {
     "data": {
      "text/plain": [
       "torch.Size([10008, 1, 516])"
      ]
     },
     "execution_count": 19,
     "metadata": {},
     "output_type": "execute_result"
    }
   ],
   "source": [
    "output = m(x3d)\n",
    "output.shape"
   ]
  },
  {
   "cell_type": "code",
   "execution_count": 20,
   "metadata": {},
   "outputs": [],
   "source": [
    "x_tr = x_tr.cuda()\n",
    "y_tr = y_tr.cuda()"
   ]
  },
  {
   "cell_type": "code",
   "execution_count": 21,
   "metadata": {},
   "outputs": [],
   "source": [
    "x_te = x_te.float().cuda()\n",
    "y_te = y_te.float().cuda()"
   ]
  },
  {
   "cell_type": "code",
   "execution_count": 22,
   "metadata": {},
   "outputs": [],
   "source": [
    "x_va = x_te.float().cuda()\n",
    "y_va = y_te.float().cuda()"
   ]
  },
  {
   "cell_type": "code",
   "execution_count": null,
   "metadata": {},
   "outputs": [],
   "source": []
  },
  {
   "cell_type": "code",
   "execution_count": 23,
   "metadata": {},
   "outputs": [],
   "source": [
    "l_rate = 1e-6\n",
    "\n",
    "input_dim, hiden_dim, h2, h3, h4, h5, h6, output_dim = 520, 250, 250, 125, 125, 30, 30, y_tr.shape[1]\n",
    "model = torch.nn.Sequential(\n",
    "#     torch.nn.Conv1d(1,1,5),\n",
    "#     torch.nn.ReLU(),\n",
    "#     torch.nn.Flatten(start_dim =1),\n",
    "    torch.nn.Linear(input_dim, hiden_dim),\n",
    "    torch.nn.ReLU(),\n",
    "    torch.nn.Linear(hiden_dim, h2),\n",
    "    torch.nn.ReLU(),\n",
    "    torch.nn.Linear(h2, h3),\n",
    "    torch.nn.ReLU(),\n",
    "    torch.nn.Linear(h3, h4),\n",
    "    torch.nn.ReLU(),\n",
    "    torch.nn.Linear(h4, h5),\n",
    "    torch.nn.ReLU(),\n",
    "    torch.nn.Linear(h5, h6),\n",
    "    torch.nn.ReLU(),\n",
    "    torch.nn.Linear(h6, output_dim),\n",
    ")\n",
    "model.cuda()\n",
    "loss_fn = torch.nn.MSELoss(reduction=\"sum\")\n",
    "losses_train = []\n",
    "losses_test = []\n",
    "times = []"
   ]
  },
  {
   "cell_type": "code",
   "execution_count": 24,
   "metadata": {},
   "outputs": [],
   "source": [
    "x_tr_3d = x_tr.view(x_tr.shape[0], 1, x_tr.shape[1])\n",
    "x_te_3d = x_te.view(x_te.shape[0], 1, x_te.shape[1])\n",
    "x_va_3d = x_va.view(x_va.shape[0], 1, x_va.shape[1])\n",
    "losses_train = []\n",
    "losses_test = []\n",
    "times = []"
   ]
  },
  {
   "cell_type": "code",
   "execution_count": 25,
   "metadata": {},
   "outputs": [
    {
     "data": {
      "text/plain": [
       "torch.Size([10008, 1, 520])"
      ]
     },
     "execution_count": 25,
     "metadata": {},
     "output_type": "execute_result"
    }
   ],
   "source": [
    "x_tr_3d.shape"
   ]
  },
  {
   "cell_type": "code",
   "execution_count": null,
   "metadata": {},
   "outputs": [
    {
     "name": "stdout",
     "output_type": "stream",
     "text": [
      "training error:     99  29027.125\n",
      "test error:         99  56819.914\n",
      "training error:   1099  28223.393\n",
      "test error:       1099  56745.359\n",
      "training error:   2099  27102.459\n",
      "test error:       2099  56617.703\n",
      "training error:   3099  25900.334\n",
      "test error:       3099  56478.297\n",
      "training error:   4099  24709.824\n",
      "test error:       4099  56267.891\n"
     ]
    }
   ],
   "source": [
    "# scheduler = optim.X(optimizer,...)      # create lr scheduler\n",
    "# scheduler.step()                        # update lr at start of epoch\n",
    "# optim.lr_scheduler.X                    # where X is LambdaLR, StepLR, MultiStepLR,\n",
    "              # ExponentialLR or ReduceLROnPLateau\n",
    "learning_rate = 1e-6\n",
    "optimizer = torch.optim.Adam(model.parameters(), lr=learning_rate)\n",
    "# scheduler = torch.optim.lr_scheduler.ReduceLROnPlateau(optimizer, 'min', factor = 0.2, verbose = True)\n",
    "for t in range(50000):\n",
    "    # Forward pass: compute predicted y by passing x to the model.\n",
    "    y_pred = model(x_tr)\n",
    "\n",
    "    # Compute and print loss.\n",
    "    loss = loss_fn(y_pred, y_tr)\n",
    "    if t % 1000 == 99:\n",
    "        print(\"{:16}{:6}  {:5.3f}\".format(\"training error:\", t, loss.item()))\n",
    "        y_test = model(x_te)\n",
    "        loss_te = loss_fn(y_test, y_te)\n",
    "        print(\"{:16}{:6}  {:5.3f}\".format(\"test error:\", t, loss_te.item()))\n",
    "    if t % 100 == 99:\n",
    "#         print(\"{:16}{:6}  {:5.3f}\".format(\"training error:\", t, loss.item()))\n",
    "        y_test = model(x_te)\n",
    "        loss_te = loss_fn(y_test, y_te)\n",
    "#         print(\"{:16}{:6}  {:5.3f}\".format(\"test error:\", t, loss_te.item()))\n",
    "        losses_train.append(loss.item())\n",
    "        losses_test.append(loss_te.item())\n",
    "        times.append(t)\n",
    "\n",
    "    # Before the backward pass, use the optimizer object to zero all of the\n",
    "    # gradients for the variables it will update (which are the learnable\n",
    "    # weights of the model). This is because by default, gradients are\n",
    "    # accumulated in buffers( i.e, not overwritten) whenever .backward()\n",
    "    # is called. Checkout docs of torch.autograd.backward for more details.\n",
    "    optimizer.zero_grad()\n",
    "\n",
    "    # Backward pass: compute gradient of the loss with respect to model\n",
    "    # parameters\n",
    "    loss.backward()\n",
    "\n",
    "    # Calling the step function on an Optimizer makes an update to its\n",
    "    # parameters\n",
    "    optimizer.step()\n",
    "#     scheduler.step(loss)\n",
    "stats = pd.DataFrame({\"train_l\":losses_train, \"test_l\":losses_test, \"time\":times})\n",
    "# stats.plot(x=\"time\", y=[\"train_l\", \"test_l\"], kind=\"scatter\")\n",
    "stats.plot(x=\"time\", y=\"train_l\", kind=\"scatter\")\n",
    "stats.plot(x=\"time\", y=\"test_l\", kind=\"scatter\")"
   ]
  },
  {
   "cell_type": "code",
   "execution_count": null,
   "metadata": {},
   "outputs": [],
   "source": [
    "stats.iloc[5:,:].plot(x=\"time\", y=\"train_l\", kind=\"scatter\")\n",
    "stats.iloc[5:,:].plot(x=\"time\", y=\"test_l\", kind=\"scatter\")"
   ]
  },
  {
   "cell_type": "code",
   "execution_count": null,
   "metadata": {},
   "outputs": [],
   "source": [
    "stats.iloc[50:,:].plot(x=\"time\", y=\"train_l\", kind=\"scatter\")\n",
    "stats.iloc[50:,:].plot(x=\"time\", y=\"test_l\", kind=\"scatter\")"
   ]
  },
  {
   "cell_type": "code",
   "execution_count": 29,
   "metadata": {},
   "outputs": [],
   "source": [
    "from ray import tune"
   ]
  },
  {
   "cell_type": "code",
   "execution_count": 30,
   "metadata": {},
   "outputs": [],
   "source": [
    "# l_rate = 1e-5"
   ]
  },
  {
   "cell_type": "code",
   "execution_count": 31,
   "metadata": {},
   "outputs": [],
   "source": [
    "\n",
    "# for t in range(500):\n",
    "# #     y_pred = model(xc).to(device)\n",
    "#     y_pred = model(x_tr)\n",
    "    \n",
    "# #     y_c_pred = y_pred.to(dev)\n",
    "#     loss = loss_fn(y_pred, y_tr)\n",
    "    \n",
    "#     if t % 1000 == 99:\n",
    "#         print(\"{:16}{:6}   {:5.3}\".format(\"training error:\", t, loss.item()))\n",
    "#         y_test = model(x_te)\n",
    "#         loss_te = loss_fn(y_test, y_te)\n",
    "#         print(\"{:16}{:6}  {:5.3}\".format(\"test error:\", t, loss_te.item()))\n",
    "#     if t % 100 == 1:\n",
    "# #         print(\"training error:\", t, loss.item())\n",
    "#         y_test = model(x_te)\n",
    "#         loss_te = loss_fn(y_test, y_te)\n",
    "# #         print(\"test error:\", t, loss_te.item())\n",
    "#         losses_train.append(loss.item())\n",
    "#         losses_test.append(loss_te.item())\n",
    "#         times.append(t)\n",
    "#     model.zero_grad()\n",
    "#     loss.backward()\n",
    "#     with torch.no_grad():\n",
    "#         for param in model.parameters():\n",
    "#             param -= l_rate * param.grad"
   ]
  },
  {
   "cell_type": "code",
   "execution_count": 32,
   "metadata": {},
   "outputs": [],
   "source": [
    "# stats = pd.DataFrame({\"train_l\":losses_train, \"test_l\":losses_test, \"time\":times})\n",
    "# # stats.plot(x=\"time\", y=[\"train_l\", \"test_l\"], kind=\"scatter\")\n",
    "# stats.plot(x=\"time\", y=\"train_l\", kind=\"scatter\")\n",
    "# stats.plot(x=\"time\", y=\"test_l\", kind=\"scatter\")"
   ]
  },
  {
   "cell_type": "markdown",
   "metadata": {},
   "source": [
    "to do:\n",
    "    Randomize the order of the input data\n",
    "    training/test set split\n",
    "    optimise architecture\n",
    "    test by plotting predicted speeds of other runs\n",
    "    investigate 1d convolution layer\n",
    "    print the validation set score with loss\n",
    "    \n",
    "    Build alternate model using raw acceleration data (down sample data) - investigate embedding/embedding layer"
   ]
  },
  {
   "cell_type": "code",
   "execution_count": 33,
   "metadata": {},
   "outputs": [],
   "source": [
    "# checkpoint = {'input_size': xc.shape[1],\n",
    "#               'output_size': yc.shape[1],\n",
    "#               \"model_dets\": model,\n",
    "#               'state_dict': model.state_dict()}\n",
    "\n",
    "# torch.save(checkpoint, 'checkpoint.pth')"
   ]
  },
  {
   "cell_type": "code",
   "execution_count": 34,
   "metadata": {},
   "outputs": [
    {
     "data": {
      "text/plain": [
       "Sequential(\n",
       "  (0): Linear(in_features=520, out_features=250, bias=True)\n",
       "  (1): ReLU()\n",
       "  (2): Linear(in_features=250, out_features=250, bias=True)\n",
       "  (3): ReLU()\n",
       "  (4): Linear(in_features=250, out_features=125, bias=True)\n",
       "  (5): ReLU()\n",
       "  (6): Linear(in_features=125, out_features=125, bias=True)\n",
       "  (7): ReLU()\n",
       "  (8): Linear(in_features=125, out_features=30, bias=True)\n",
       "  (9): ReLU()\n",
       "  (10): Linear(in_features=30, out_features=30, bias=True)\n",
       "  (11): ReLU()\n",
       "  (12): Linear(in_features=30, out_features=1, bias=True)\n",
       ")"
      ]
     },
     "execution_count": 34,
     "metadata": {},
     "output_type": "execute_result"
    }
   ],
   "source": [
    "model"
   ]
  },
  {
   "cell_type": "code",
   "execution_count": 35,
   "metadata": {},
   "outputs": [],
   "source": [
    "df1 = pd.read_csv(\"01-08-19-V118_ch1.big\" , index_col = 0)\n",
    "df2 = pd.read_csv(\"01-08-19-V118_ch2.big\" , index_col = 0)"
   ]
  },
  {
   "cell_type": "code",
   "execution_count": 36,
   "metadata": {},
   "outputs": [],
   "source": [
    "df1 = df1.reset_index()\n",
    "df2 = df2.reset_index()"
   ]
  },
  {
   "cell_type": "code",
   "execution_count": 37,
   "metadata": {},
   "outputs": [
    {
     "data": {
      "text/html": [
       "<div>\n",
       "<style scoped>\n",
       "    .dataframe tbody tr th:only-of-type {\n",
       "        vertical-align: middle;\n",
       "    }\n",
       "\n",
       "    .dataframe tbody tr th {\n",
       "        vertical-align: top;\n",
       "    }\n",
       "\n",
       "    .dataframe thead th {\n",
       "        text-align: right;\n",
       "    }\n",
       "</style>\n",
       "<table border=\"1\" class=\"dataframe\">\n",
       "  <thead>\n",
       "    <tr style=\"text-align: right;\">\n",
       "      <th></th>\n",
       "      <th>index</th>\n",
       "      <th>0_x</th>\n",
       "      <th>10_x</th>\n",
       "      <th>20_x</th>\n",
       "      <th>30_x</th>\n",
       "      <th>40_x</th>\n",
       "      <th>50_x</th>\n",
       "      <th>60_x</th>\n",
       "      <th>70_x</th>\n",
       "      <th>80_x</th>\n",
       "      <th>...</th>\n",
       "      <th>2500_y</th>\n",
       "      <th>2510_y</th>\n",
       "      <th>2520_y</th>\n",
       "      <th>2530_y</th>\n",
       "      <th>2540_y</th>\n",
       "      <th>2550_y</th>\n",
       "      <th>mean_acc_y</th>\n",
       "      <th>median_y</th>\n",
       "      <th>95_acc_y</th>\n",
       "      <th>max_acc_y</th>\n",
       "    </tr>\n",
       "  </thead>\n",
       "  <tbody>\n",
       "    <tr>\n",
       "      <th>0</th>\n",
       "      <td>0</td>\n",
       "      <td>0.002283</td>\n",
       "      <td>0.001861</td>\n",
       "      <td>0.001776</td>\n",
       "      <td>0.002652</td>\n",
       "      <td>0.004631</td>\n",
       "      <td>0.009036</td>\n",
       "      <td>0.007076</td>\n",
       "      <td>0.006394</td>\n",
       "      <td>0.007697</td>\n",
       "      <td>...</td>\n",
       "      <td>0.002245</td>\n",
       "      <td>0.001517</td>\n",
       "      <td>0.001681</td>\n",
       "      <td>0.001096</td>\n",
       "      <td>0.001384</td>\n",
       "      <td>0.001165</td>\n",
       "      <td>1.198058</td>\n",
       "      <td>0.982748</td>\n",
       "      <td>3.083282</td>\n",
       "      <td>7.179362</td>\n",
       "    </tr>\n",
       "    <tr>\n",
       "      <th>1</th>\n",
       "      <td>1</td>\n",
       "      <td>0.002964</td>\n",
       "      <td>0.002919</td>\n",
       "      <td>0.003401</td>\n",
       "      <td>0.003421</td>\n",
       "      <td>0.005504</td>\n",
       "      <td>0.007987</td>\n",
       "      <td>0.007737</td>\n",
       "      <td>0.006090</td>\n",
       "      <td>0.006359</td>\n",
       "      <td>...</td>\n",
       "      <td>0.001800</td>\n",
       "      <td>0.001058</td>\n",
       "      <td>0.001129</td>\n",
       "      <td>0.001639</td>\n",
       "      <td>0.001557</td>\n",
       "      <td>0.001575</td>\n",
       "      <td>1.226540</td>\n",
       "      <td>1.033503</td>\n",
       "      <td>3.092825</td>\n",
       "      <td>6.464596</td>\n",
       "    </tr>\n",
       "    <tr>\n",
       "      <th>2</th>\n",
       "      <td>2</td>\n",
       "      <td>0.004012</td>\n",
       "      <td>0.003644</td>\n",
       "      <td>0.004012</td>\n",
       "      <td>0.004476</td>\n",
       "      <td>0.006040</td>\n",
       "      <td>0.007929</td>\n",
       "      <td>0.008039</td>\n",
       "      <td>0.007646</td>\n",
       "      <td>0.011035</td>\n",
       "      <td>...</td>\n",
       "      <td>0.000736</td>\n",
       "      <td>0.001267</td>\n",
       "      <td>0.001046</td>\n",
       "      <td>0.001271</td>\n",
       "      <td>0.000913</td>\n",
       "      <td>0.001316</td>\n",
       "      <td>1.040367</td>\n",
       "      <td>0.884531</td>\n",
       "      <td>2.612213</td>\n",
       "      <td>5.477276</td>\n",
       "    </tr>\n",
       "    <tr>\n",
       "      <th>3</th>\n",
       "      <td>3</td>\n",
       "      <td>0.001981</td>\n",
       "      <td>0.002050</td>\n",
       "      <td>0.003021</td>\n",
       "      <td>0.002484</td>\n",
       "      <td>0.004625</td>\n",
       "      <td>0.006709</td>\n",
       "      <td>0.007154</td>\n",
       "      <td>0.006420</td>\n",
       "      <td>0.006462</td>\n",
       "      <td>...</td>\n",
       "      <td>0.001464</td>\n",
       "      <td>0.001167</td>\n",
       "      <td>0.001430</td>\n",
       "      <td>0.001136</td>\n",
       "      <td>0.001324</td>\n",
       "      <td>0.000884</td>\n",
       "      <td>1.173504</td>\n",
       "      <td>1.040558</td>\n",
       "      <td>2.719463</td>\n",
       "      <td>5.129313</td>\n",
       "    </tr>\n",
       "    <tr>\n",
       "      <th>4</th>\n",
       "      <td>4</td>\n",
       "      <td>0.001982</td>\n",
       "      <td>0.001520</td>\n",
       "      <td>0.002056</td>\n",
       "      <td>0.002422</td>\n",
       "      <td>0.006100</td>\n",
       "      <td>0.005771</td>\n",
       "      <td>0.007166</td>\n",
       "      <td>0.006682</td>\n",
       "      <td>0.012416</td>\n",
       "      <td>...</td>\n",
       "      <td>0.001787</td>\n",
       "      <td>0.001507</td>\n",
       "      <td>0.001729</td>\n",
       "      <td>0.001084</td>\n",
       "      <td>0.001341</td>\n",
       "      <td>0.001238</td>\n",
       "      <td>1.194421</td>\n",
       "      <td>0.971220</td>\n",
       "      <td>3.084037</td>\n",
       "      <td>7.484677</td>\n",
       "    </tr>\n",
       "  </tbody>\n",
       "</table>\n",
       "<p>5 rows × 521 columns</p>\n",
       "</div>"
      ],
      "text/plain": [
       "   index       0_x      10_x      20_x      30_x      40_x      50_x  \\\n",
       "0      0  0.002283  0.001861  0.001776  0.002652  0.004631  0.009036   \n",
       "1      1  0.002964  0.002919  0.003401  0.003421  0.005504  0.007987   \n",
       "2      2  0.004012  0.003644  0.004012  0.004476  0.006040  0.007929   \n",
       "3      3  0.001981  0.002050  0.003021  0.002484  0.004625  0.006709   \n",
       "4      4  0.001982  0.001520  0.002056  0.002422  0.006100  0.005771   \n",
       "\n",
       "       60_x      70_x      80_x  ...    2500_y    2510_y    2520_y    2530_y  \\\n",
       "0  0.007076  0.006394  0.007697  ...  0.002245  0.001517  0.001681  0.001096   \n",
       "1  0.007737  0.006090  0.006359  ...  0.001800  0.001058  0.001129  0.001639   \n",
       "2  0.008039  0.007646  0.011035  ...  0.000736  0.001267  0.001046  0.001271   \n",
       "3  0.007154  0.006420  0.006462  ...  0.001464  0.001167  0.001430  0.001136   \n",
       "4  0.007166  0.006682  0.012416  ...  0.001787  0.001507  0.001729  0.001084   \n",
       "\n",
       "     2540_y    2550_y  mean_acc_y  median_y  95_acc_y  max_acc_y  \n",
       "0  0.001384  0.001165    1.198058  0.982748  3.083282   7.179362  \n",
       "1  0.001557  0.001575    1.226540  1.033503  3.092825   6.464596  \n",
       "2  0.000913  0.001316    1.040367  0.884531  2.612213   5.477276  \n",
       "3  0.001324  0.000884    1.173504  1.040558  2.719463   5.129313  \n",
       "4  0.001341  0.001238    1.194421  0.971220  3.084037   7.484677  \n",
       "\n",
       "[5 rows x 521 columns]"
      ]
     },
     "execution_count": 37,
     "metadata": {},
     "output_type": "execute_result"
    }
   ],
   "source": [
    "df = pd.merge(df1, df2, how = \"outer\", on = \"index\")\n",
    "df.head()"
   ]
  },
  {
   "cell_type": "code",
   "execution_count": 38,
   "metadata": {},
   "outputs": [
    {
     "data": {
      "text/plain": [
       "tensor(0.0096, dtype=torch.float64)"
      ]
     },
     "execution_count": 38,
     "metadata": {},
     "output_type": "execute_result"
    }
   ],
   "source": [
    "x_ch = torch.from_numpy(min_max_scaler.transform(df.iloc[:,1:].values))\n",
    "x_ch[0,0]"
   ]
  },
  {
   "cell_type": "code",
   "execution_count": 39,
   "metadata": {},
   "outputs": [
    {
     "data": {
      "text/plain": [
       "tensor(0.0096)"
      ]
     },
     "execution_count": 39,
     "metadata": {},
     "output_type": "execute_result"
    }
   ],
   "source": [
    "x_ch = x_ch.float()\n",
    "x_ch[0,0]"
   ]
  },
  {
   "cell_type": "code",
   "execution_count": 40,
   "metadata": {},
   "outputs": [
    {
     "data": {
      "text/plain": [
       "tensor(0.0096, device='cuda:0')"
      ]
     },
     "execution_count": 40,
     "metadata": {},
     "output_type": "execute_result"
    }
   ],
   "source": [
    "x_ch = x_ch.to(device)\n",
    "x_ch[0,0]"
   ]
  },
  {
   "cell_type": "code",
   "execution_count": 41,
   "metadata": {},
   "outputs": [
    {
     "data": {
      "text/plain": [
       "device(type='cuda', index=0)"
      ]
     },
     "execution_count": 41,
     "metadata": {},
     "output_type": "execute_result"
    }
   ],
   "source": [
    "x_ch.device"
   ]
  },
  {
   "cell_type": "code",
   "execution_count": 42,
   "metadata": {},
   "outputs": [
    {
     "data": {
      "text/plain": [
       "torch.Size([10030, 520])"
      ]
     },
     "execution_count": 42,
     "metadata": {},
     "output_type": "execute_result"
    }
   ],
   "source": [
    "x_ch.shape"
   ]
  },
  {
   "cell_type": "code",
   "execution_count": 43,
   "metadata": {},
   "outputs": [
    {
     "data": {
      "text/plain": [
       "torch.Size([10030, 1, 520])"
      ]
     },
     "execution_count": 43,
     "metadata": {},
     "output_type": "execute_result"
    }
   ],
   "source": [
    "x_ch_3d = x_ch.view(x_ch.shape[0], 1, x_ch.shape[1])\n",
    "x_ch_3d.shape"
   ]
  },
  {
   "cell_type": "code",
   "execution_count": 44,
   "metadata": {},
   "outputs": [],
   "source": [
    "y_ch = model(x_ch_3d)"
   ]
  },
  {
   "cell_type": "code",
   "execution_count": 45,
   "metadata": {},
   "outputs": [
    {
     "data": {
      "text/plain": [
       "torch.Size([10030, 1, 1])"
      ]
     },
     "execution_count": 45,
     "metadata": {},
     "output_type": "execute_result"
    }
   ],
   "source": [
    "y_ch.shape"
   ]
  },
  {
   "cell_type": "code",
   "execution_count": 46,
   "metadata": {},
   "outputs": [
    {
     "data": {
      "text/plain": [
       "numpy.ndarray"
      ]
     },
     "execution_count": 46,
     "metadata": {},
     "output_type": "execute_result"
    }
   ],
   "source": [
    "ch_np = y_ch.cpu().detach().numpy()\n",
    "type(ch_np)"
   ]
  },
  {
   "cell_type": "code",
   "execution_count": 47,
   "metadata": {},
   "outputs": [
    {
     "data": {
      "text/plain": [
       "(10030, 1, 1)"
      ]
     },
     "execution_count": 47,
     "metadata": {},
     "output_type": "execute_result"
    }
   ],
   "source": [
    "ch_np.shape"
   ]
  },
  {
   "cell_type": "code",
   "execution_count": 48,
   "metadata": {},
   "outputs": [],
   "source": [
    "df4 = pd.DataFrame(min_max_scaler.fit_transform(df.iloc[:,1:].values))"
   ]
  },
  {
   "cell_type": "code",
   "execution_count": 49,
   "metadata": {},
   "outputs": [
    {
     "ename": "ValueError",
     "evalue": "Wrong number of dimensions. values.ndim != ndim [3 != 2]",
     "output_type": "error",
     "traceback": [
      "\u001b[1;31m---------------------------------------------------------------------------\u001b[0m",
      "\u001b[1;31mKeyError\u001b[0m                                  Traceback (most recent call last)",
      "\u001b[1;32mC:\\ProgramData\\Anaconda3\\envs\\PyTorch_37\\lib\\site-packages\\pandas\\core\\generic.py\u001b[0m in \u001b[0;36m_set_item\u001b[1;34m(self, key, value)\u001b[0m\n\u001b[0;32m   3570\u001b[0m         \u001b[1;32mtry\u001b[0m\u001b[1;33m:\u001b[0m\u001b[1;33m\u001b[0m\u001b[1;33m\u001b[0m\u001b[0m\n\u001b[1;32m-> 3571\u001b[1;33m             \u001b[0mloc\u001b[0m \u001b[1;33m=\u001b[0m \u001b[0mself\u001b[0m\u001b[1;33m.\u001b[0m\u001b[0m_info_axis\u001b[0m\u001b[1;33m.\u001b[0m\u001b[0mget_loc\u001b[0m\u001b[1;33m(\u001b[0m\u001b[0mkey\u001b[0m\u001b[1;33m)\u001b[0m\u001b[1;33m\u001b[0m\u001b[1;33m\u001b[0m\u001b[0m\n\u001b[0m\u001b[0;32m   3572\u001b[0m         \u001b[1;32mexcept\u001b[0m \u001b[0mKeyError\u001b[0m\u001b[1;33m:\u001b[0m\u001b[1;33m\u001b[0m\u001b[1;33m\u001b[0m\u001b[0m\n",
      "\u001b[1;32mC:\\ProgramData\\Anaconda3\\envs\\PyTorch_37\\lib\\site-packages\\pandas\\core\\indexes\\range.py\u001b[0m in \u001b[0;36mget_loc\u001b[1;34m(self, key, method, tolerance)\u001b[0m\n\u001b[0;32m    357\u001b[0m                     \u001b[1;32mraise\u001b[0m \u001b[0mKeyError\u001b[0m\u001b[1;33m(\u001b[0m\u001b[0mkey\u001b[0m\u001b[1;33m)\u001b[0m \u001b[1;32mfrom\u001b[0m \u001b[0merr\u001b[0m\u001b[1;33m\u001b[0m\u001b[1;33m\u001b[0m\u001b[0m\n\u001b[1;32m--> 358\u001b[1;33m             \u001b[1;32mraise\u001b[0m \u001b[0mKeyError\u001b[0m\u001b[1;33m(\u001b[0m\u001b[0mkey\u001b[0m\u001b[1;33m)\u001b[0m\u001b[1;33m\u001b[0m\u001b[1;33m\u001b[0m\u001b[0m\n\u001b[0m\u001b[0;32m    359\u001b[0m         \u001b[1;32mreturn\u001b[0m \u001b[0msuper\u001b[0m\u001b[1;33m(\u001b[0m\u001b[1;33m)\u001b[0m\u001b[1;33m.\u001b[0m\u001b[0mget_loc\u001b[0m\u001b[1;33m(\u001b[0m\u001b[0mkey\u001b[0m\u001b[1;33m,\u001b[0m \u001b[0mmethod\u001b[0m\u001b[1;33m=\u001b[0m\u001b[0mmethod\u001b[0m\u001b[1;33m,\u001b[0m \u001b[0mtolerance\u001b[0m\u001b[1;33m=\u001b[0m\u001b[0mtolerance\u001b[0m\u001b[1;33m)\u001b[0m\u001b[1;33m\u001b[0m\u001b[1;33m\u001b[0m\u001b[0m\n",
      "\u001b[1;31mKeyError\u001b[0m: 'speed'",
      "\nDuring handling of the above exception, another exception occurred:\n",
      "\u001b[1;31mValueError\u001b[0m                                Traceback (most recent call last)",
      "\u001b[1;32m<ipython-input-49-620cd7ac009d>\u001b[0m in \u001b[0;36m<module>\u001b[1;34m\u001b[0m\n\u001b[1;32m----> 1\u001b[1;33m \u001b[0mdf4\u001b[0m\u001b[1;33m[\u001b[0m\u001b[1;34m\"speed\"\u001b[0m\u001b[1;33m]\u001b[0m \u001b[1;33m=\u001b[0m \u001b[0mch_np\u001b[0m\u001b[1;33m\u001b[0m\u001b[1;33m\u001b[0m\u001b[0m\n\u001b[0m",
      "\u001b[1;32mC:\\ProgramData\\Anaconda3\\envs\\PyTorch_37\\lib\\site-packages\\pandas\\core\\frame.py\u001b[0m in \u001b[0;36m__setitem__\u001b[1;34m(self, key, value)\u001b[0m\n\u001b[0;32m   3038\u001b[0m         \u001b[1;32melse\u001b[0m\u001b[1;33m:\u001b[0m\u001b[1;33m\u001b[0m\u001b[1;33m\u001b[0m\u001b[0m\n\u001b[0;32m   3039\u001b[0m             \u001b[1;31m# set column\u001b[0m\u001b[1;33m\u001b[0m\u001b[1;33m\u001b[0m\u001b[1;33m\u001b[0m\u001b[0m\n\u001b[1;32m-> 3040\u001b[1;33m             \u001b[0mself\u001b[0m\u001b[1;33m.\u001b[0m\u001b[0m_set_item\u001b[0m\u001b[1;33m(\u001b[0m\u001b[0mkey\u001b[0m\u001b[1;33m,\u001b[0m \u001b[0mvalue\u001b[0m\u001b[1;33m)\u001b[0m\u001b[1;33m\u001b[0m\u001b[1;33m\u001b[0m\u001b[0m\n\u001b[0m\u001b[0;32m   3041\u001b[0m \u001b[1;33m\u001b[0m\u001b[0m\n\u001b[0;32m   3042\u001b[0m     \u001b[1;32mdef\u001b[0m \u001b[0m_setitem_slice\u001b[0m\u001b[1;33m(\u001b[0m\u001b[0mself\u001b[0m\u001b[1;33m,\u001b[0m \u001b[0mkey\u001b[0m\u001b[1;33m:\u001b[0m \u001b[0mslice\u001b[0m\u001b[1;33m,\u001b[0m \u001b[0mvalue\u001b[0m\u001b[1;33m)\u001b[0m\u001b[1;33m:\u001b[0m\u001b[1;33m\u001b[0m\u001b[1;33m\u001b[0m\u001b[0m\n",
      "\u001b[1;32mC:\\ProgramData\\Anaconda3\\envs\\PyTorch_37\\lib\\site-packages\\pandas\\core\\frame.py\u001b[0m in \u001b[0;36m_set_item\u001b[1;34m(self, key, value)\u001b[0m\n\u001b[0;32m   3115\u001b[0m         \u001b[0mself\u001b[0m\u001b[1;33m.\u001b[0m\u001b[0m_ensure_valid_index\u001b[0m\u001b[1;33m(\u001b[0m\u001b[0mvalue\u001b[0m\u001b[1;33m)\u001b[0m\u001b[1;33m\u001b[0m\u001b[1;33m\u001b[0m\u001b[0m\n\u001b[0;32m   3116\u001b[0m         \u001b[0mvalue\u001b[0m \u001b[1;33m=\u001b[0m \u001b[0mself\u001b[0m\u001b[1;33m.\u001b[0m\u001b[0m_sanitize_column\u001b[0m\u001b[1;33m(\u001b[0m\u001b[0mkey\u001b[0m\u001b[1;33m,\u001b[0m \u001b[0mvalue\u001b[0m\u001b[1;33m)\u001b[0m\u001b[1;33m\u001b[0m\u001b[1;33m\u001b[0m\u001b[0m\n\u001b[1;32m-> 3117\u001b[1;33m         \u001b[0mNDFrame\u001b[0m\u001b[1;33m.\u001b[0m\u001b[0m_set_item\u001b[0m\u001b[1;33m(\u001b[0m\u001b[0mself\u001b[0m\u001b[1;33m,\u001b[0m \u001b[0mkey\u001b[0m\u001b[1;33m,\u001b[0m \u001b[0mvalue\u001b[0m\u001b[1;33m)\u001b[0m\u001b[1;33m\u001b[0m\u001b[1;33m\u001b[0m\u001b[0m\n\u001b[0m\u001b[0;32m   3118\u001b[0m \u001b[1;33m\u001b[0m\u001b[0m\n\u001b[0;32m   3119\u001b[0m         \u001b[1;31m# check if we are modifying a copy\u001b[0m\u001b[1;33m\u001b[0m\u001b[1;33m\u001b[0m\u001b[1;33m\u001b[0m\u001b[0m\n",
      "\u001b[1;32mC:\\ProgramData\\Anaconda3\\envs\\PyTorch_37\\lib\\site-packages\\pandas\\core\\generic.py\u001b[0m in \u001b[0;36m_set_item\u001b[1;34m(self, key, value)\u001b[0m\n\u001b[0;32m   3572\u001b[0m         \u001b[1;32mexcept\u001b[0m \u001b[0mKeyError\u001b[0m\u001b[1;33m:\u001b[0m\u001b[1;33m\u001b[0m\u001b[1;33m\u001b[0m\u001b[0m\n\u001b[0;32m   3573\u001b[0m             \u001b[1;31m# This item wasn't present, just insert at end\u001b[0m\u001b[1;33m\u001b[0m\u001b[1;33m\u001b[0m\u001b[1;33m\u001b[0m\u001b[0m\n\u001b[1;32m-> 3574\u001b[1;33m             \u001b[0mself\u001b[0m\u001b[1;33m.\u001b[0m\u001b[0m_mgr\u001b[0m\u001b[1;33m.\u001b[0m\u001b[0minsert\u001b[0m\u001b[1;33m(\u001b[0m\u001b[0mlen\u001b[0m\u001b[1;33m(\u001b[0m\u001b[0mself\u001b[0m\u001b[1;33m.\u001b[0m\u001b[0m_info_axis\u001b[0m\u001b[1;33m)\u001b[0m\u001b[1;33m,\u001b[0m \u001b[0mkey\u001b[0m\u001b[1;33m,\u001b[0m \u001b[0mvalue\u001b[0m\u001b[1;33m)\u001b[0m\u001b[1;33m\u001b[0m\u001b[1;33m\u001b[0m\u001b[0m\n\u001b[0m\u001b[0;32m   3575\u001b[0m             \u001b[1;32mreturn\u001b[0m\u001b[1;33m\u001b[0m\u001b[1;33m\u001b[0m\u001b[0m\n\u001b[0;32m   3576\u001b[0m \u001b[1;33m\u001b[0m\u001b[0m\n",
      "\u001b[1;32mC:\\ProgramData\\Anaconda3\\envs\\PyTorch_37\\lib\\site-packages\\pandas\\core\\internals\\managers.py\u001b[0m in \u001b[0;36minsert\u001b[1;34m(self, loc, item, value, allow_duplicates)\u001b[0m\n\u001b[0;32m   1187\u001b[0m             \u001b[0mvalue\u001b[0m \u001b[1;33m=\u001b[0m \u001b[0m_safe_reshape\u001b[0m\u001b[1;33m(\u001b[0m\u001b[0mvalue\u001b[0m\u001b[1;33m,\u001b[0m \u001b[1;33m(\u001b[0m\u001b[1;36m1\u001b[0m\u001b[1;33m,\u001b[0m\u001b[1;33m)\u001b[0m \u001b[1;33m+\u001b[0m \u001b[0mvalue\u001b[0m\u001b[1;33m.\u001b[0m\u001b[0mshape\u001b[0m\u001b[1;33m)\u001b[0m\u001b[1;33m\u001b[0m\u001b[1;33m\u001b[0m\u001b[0m\n\u001b[0;32m   1188\u001b[0m \u001b[1;33m\u001b[0m\u001b[0m\n\u001b[1;32m-> 1189\u001b[1;33m         \u001b[0mblock\u001b[0m \u001b[1;33m=\u001b[0m \u001b[0mmake_block\u001b[0m\u001b[1;33m(\u001b[0m\u001b[0mvalues\u001b[0m\u001b[1;33m=\u001b[0m\u001b[0mvalue\u001b[0m\u001b[1;33m,\u001b[0m \u001b[0mndim\u001b[0m\u001b[1;33m=\u001b[0m\u001b[0mself\u001b[0m\u001b[1;33m.\u001b[0m\u001b[0mndim\u001b[0m\u001b[1;33m,\u001b[0m \u001b[0mplacement\u001b[0m\u001b[1;33m=\u001b[0m\u001b[0mslice\u001b[0m\u001b[1;33m(\u001b[0m\u001b[0mloc\u001b[0m\u001b[1;33m,\u001b[0m \u001b[0mloc\u001b[0m \u001b[1;33m+\u001b[0m \u001b[1;36m1\u001b[0m\u001b[1;33m)\u001b[0m\u001b[1;33m)\u001b[0m\u001b[1;33m\u001b[0m\u001b[1;33m\u001b[0m\u001b[0m\n\u001b[0m\u001b[0;32m   1190\u001b[0m \u001b[1;33m\u001b[0m\u001b[0m\n\u001b[0;32m   1191\u001b[0m         \u001b[1;32mfor\u001b[0m \u001b[0mblkno\u001b[0m\u001b[1;33m,\u001b[0m \u001b[0mcount\u001b[0m \u001b[1;32min\u001b[0m \u001b[0m_fast_count_smallints\u001b[0m\u001b[1;33m(\u001b[0m\u001b[0mself\u001b[0m\u001b[1;33m.\u001b[0m\u001b[0mblknos\u001b[0m\u001b[1;33m[\u001b[0m\u001b[0mloc\u001b[0m\u001b[1;33m:\u001b[0m\u001b[1;33m]\u001b[0m\u001b[1;33m)\u001b[0m\u001b[1;33m:\u001b[0m\u001b[1;33m\u001b[0m\u001b[1;33m\u001b[0m\u001b[0m\n",
      "\u001b[1;32mC:\\ProgramData\\Anaconda3\\envs\\PyTorch_37\\lib\\site-packages\\pandas\\core\\internals\\blocks.py\u001b[0m in \u001b[0;36mmake_block\u001b[1;34m(values, placement, klass, ndim, dtype)\u001b[0m\n\u001b[0;32m   2717\u001b[0m         \u001b[0mvalues\u001b[0m \u001b[1;33m=\u001b[0m \u001b[0mDatetimeArray\u001b[0m\u001b[1;33m.\u001b[0m\u001b[0m_simple_new\u001b[0m\u001b[1;33m(\u001b[0m\u001b[0mvalues\u001b[0m\u001b[1;33m,\u001b[0m \u001b[0mdtype\u001b[0m\u001b[1;33m=\u001b[0m\u001b[0mdtype\u001b[0m\u001b[1;33m)\u001b[0m\u001b[1;33m\u001b[0m\u001b[1;33m\u001b[0m\u001b[0m\n\u001b[0;32m   2718\u001b[0m \u001b[1;33m\u001b[0m\u001b[0m\n\u001b[1;32m-> 2719\u001b[1;33m     \u001b[1;32mreturn\u001b[0m \u001b[0mklass\u001b[0m\u001b[1;33m(\u001b[0m\u001b[0mvalues\u001b[0m\u001b[1;33m,\u001b[0m \u001b[0mndim\u001b[0m\u001b[1;33m=\u001b[0m\u001b[0mndim\u001b[0m\u001b[1;33m,\u001b[0m \u001b[0mplacement\u001b[0m\u001b[1;33m=\u001b[0m\u001b[0mplacement\u001b[0m\u001b[1;33m)\u001b[0m\u001b[1;33m\u001b[0m\u001b[1;33m\u001b[0m\u001b[0m\n\u001b[0m\u001b[0;32m   2720\u001b[0m \u001b[1;33m\u001b[0m\u001b[0m\n\u001b[0;32m   2721\u001b[0m \u001b[1;33m\u001b[0m\u001b[0m\n",
      "\u001b[1;32mC:\\ProgramData\\Anaconda3\\envs\\PyTorch_37\\lib\\site-packages\\pandas\\core\\internals\\blocks.py\u001b[0m in \u001b[0;36m__init__\u001b[1;34m(self, values, placement, ndim)\u001b[0m\n\u001b[0;32m    122\u001b[0m \u001b[1;33m\u001b[0m\u001b[0m\n\u001b[0;32m    123\u001b[0m     \u001b[1;32mdef\u001b[0m \u001b[0m__init__\u001b[0m\u001b[1;33m(\u001b[0m\u001b[0mself\u001b[0m\u001b[1;33m,\u001b[0m \u001b[0mvalues\u001b[0m\u001b[1;33m,\u001b[0m \u001b[0mplacement\u001b[0m\u001b[1;33m,\u001b[0m \u001b[0mndim\u001b[0m\u001b[1;33m=\u001b[0m\u001b[1;32mNone\u001b[0m\u001b[1;33m)\u001b[0m\u001b[1;33m:\u001b[0m\u001b[1;33m\u001b[0m\u001b[1;33m\u001b[0m\u001b[0m\n\u001b[1;32m--> 124\u001b[1;33m         \u001b[0mself\u001b[0m\u001b[1;33m.\u001b[0m\u001b[0mndim\u001b[0m \u001b[1;33m=\u001b[0m \u001b[0mself\u001b[0m\u001b[1;33m.\u001b[0m\u001b[0m_check_ndim\u001b[0m\u001b[1;33m(\u001b[0m\u001b[0mvalues\u001b[0m\u001b[1;33m,\u001b[0m \u001b[0mndim\u001b[0m\u001b[1;33m)\u001b[0m\u001b[1;33m\u001b[0m\u001b[1;33m\u001b[0m\u001b[0m\n\u001b[0m\u001b[0;32m    125\u001b[0m         \u001b[0mself\u001b[0m\u001b[1;33m.\u001b[0m\u001b[0mmgr_locs\u001b[0m \u001b[1;33m=\u001b[0m \u001b[0mplacement\u001b[0m\u001b[1;33m\u001b[0m\u001b[1;33m\u001b[0m\u001b[0m\n\u001b[0;32m    126\u001b[0m         \u001b[0mself\u001b[0m\u001b[1;33m.\u001b[0m\u001b[0mvalues\u001b[0m \u001b[1;33m=\u001b[0m \u001b[0mvalues\u001b[0m\u001b[1;33m\u001b[0m\u001b[1;33m\u001b[0m\u001b[0m\n",
      "\u001b[1;32mC:\\ProgramData\\Anaconda3\\envs\\PyTorch_37\\lib\\site-packages\\pandas\\core\\internals\\blocks.py\u001b[0m in \u001b[0;36m_check_ndim\u001b[1;34m(self, values, ndim)\u001b[0m\n\u001b[0;32m    158\u001b[0m         \u001b[1;32mif\u001b[0m \u001b[0mself\u001b[0m\u001b[1;33m.\u001b[0m\u001b[0m_validate_ndim\u001b[0m \u001b[1;32mand\u001b[0m \u001b[0mvalues\u001b[0m\u001b[1;33m.\u001b[0m\u001b[0mndim\u001b[0m \u001b[1;33m!=\u001b[0m \u001b[0mndim\u001b[0m\u001b[1;33m:\u001b[0m\u001b[1;33m\u001b[0m\u001b[1;33m\u001b[0m\u001b[0m\n\u001b[0;32m    159\u001b[0m             raise ValueError(\n\u001b[1;32m--> 160\u001b[1;33m                 \u001b[1;34m\"Wrong number of dimensions. \"\u001b[0m\u001b[1;33m\u001b[0m\u001b[1;33m\u001b[0m\u001b[0m\n\u001b[0m\u001b[0;32m    161\u001b[0m                 \u001b[1;34mf\"values.ndim != ndim [{values.ndim} != {ndim}]\"\u001b[0m\u001b[1;33m\u001b[0m\u001b[1;33m\u001b[0m\u001b[0m\n\u001b[0;32m    162\u001b[0m             )\n",
      "\u001b[1;31mValueError\u001b[0m: Wrong number of dimensions. values.ndim != ndim [3 != 2]"
     ]
    }
   ],
   "source": [
    "df4[\"speed\"] = ch_np"
   ]
  },
  {
   "cell_type": "code",
   "execution_count": null,
   "metadata": {},
   "outputs": [],
   "source": [
    "df4.head()"
   ]
  },
  {
   "cell_type": "code",
   "execution_count": null,
   "metadata": {},
   "outputs": [],
   "source": []
  },
  {
   "cell_type": "code",
   "execution_count": null,
   "metadata": {},
   "outputs": [],
   "source": [
    "import seaborn as sb\n",
    "import matplotlib.pyplot as plt"
   ]
  },
  {
   "cell_type": "code",
   "execution_count": null,
   "metadata": {},
   "outputs": [],
   "source": [
    "df4.plot(\"speed\")"
   ]
  },
  {
   "cell_type": "code",
   "execution_count": null,
   "metadata": {},
   "outputs": [],
   "source": [
    "plotdf = df4.reset_index()"
   ]
  },
  {
   "cell_type": "code",
   "execution_count": null,
   "metadata": {},
   "outputs": [],
   "source": [
    "plotdf.head()"
   ]
  },
  {
   "cell_type": "code",
   "execution_count": null,
   "metadata": {},
   "outputs": [],
   "source": [
    "plt.figure(figsize= (30, 30))\n",
    "g = sb.scatterplot(x = \"index\", y = \"speed\", data = plotdf, alpha = 0.2, color =\"b\")\n",
    "g = sb.scatterplot(x = \"index\", y = data.iloc[:,-2], data = plotdf, alpha = 0.2, color =\"r\")"
   ]
  },
  {
   "cell_type": "code",
   "execution_count": null,
   "metadata": {},
   "outputs": [],
   "source": [
    "plt.figure(figsize= (30, 30))\n",
    "sb.lineplot(x = \"index\", y = \"speed\", data = plotdf.iloc[0:1000,:], color =\"b\")\n",
    "# sb.lineplot(x = \"index\", y = \"speed\", data = plotdf.iloc[0:1000,:], alpha = 0.2, color =\"b\")"
   ]
  },
  {
   "cell_type": "code",
   "execution_count": null,
   "metadata": {},
   "outputs": [],
   "source": [
    "plt.figure(figsize= (30, 30))\n",
    "g = sb.lineplot(x = \"index\", y = \"speed\", data = plotdf, alpha = 0.2, color =\"b\")\n",
    "g = sb.lineplot(x = \"index\", y = data.iloc[:,-2], data = plotdf, alpha = 0.2, color =\"r\")"
   ]
  },
  {
   "cell_type": "code",
   "execution_count": null,
   "metadata": {},
   "outputs": [],
   "source": []
  }
 ],
 "metadata": {
  "kernelspec": {
   "display_name": "Python 3",
   "language": "python",
   "name": "python3"
  },
  "language_info": {
   "codemirror_mode": {
    "name": "ipython",
    "version": 3
   },
   "file_extension": ".py",
   "mimetype": "text/x-python",
   "name": "python",
   "nbconvert_exporter": "python",
   "pygments_lexer": "ipython3",
   "version": "3.7.8"
  }
 },
 "nbformat": 4,
 "nbformat_minor": 4
}
