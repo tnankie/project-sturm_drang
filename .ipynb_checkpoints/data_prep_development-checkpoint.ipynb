{
 "cells": [
  {
   "cell_type": "code",
   "execution_count": 1,
   "metadata": {},
   "outputs": [],
   "source": [
    "import pandas as pd\n",
    "import matplotlib.pyplot as plt\n",
    "import seaborn as sb\n",
    "import numpy as np\n",
    "import os\n",
    "import re\n",
    "import scipy as sci\n",
    "import time"
   ]
  },
  {
   "cell_type": "code",
   "execution_count": 2,
   "metadata": {},
   "outputs": [],
   "source": [
    "# global vars\n",
    "samp_rt = 5120 #sampling rate Hz\n",
    "time_import = 3000 # time to analyse seconds\n",
    "data_import = samp_rt * time_import # lines of data to import"
   ]
  },
  {
   "cell_type": "code",
   "execution_count": 3,
   "metadata": {},
   "outputs": [],
   "source": [
    "def list_o_list(big_list, lil_size):\n",
    "    l_o_l = []\n",
    "    for i in range(0, len(big_list), lil_size):\n",
    "        lil = big_list[i : min(i + lil_size, len(big_list))]\n",
    "        l_o_l.append(lil)\n",
    "    return(l_o_l)"
   ]
  },
  {
   "cell_type": "code",
   "execution_count": 4,
   "metadata": {},
   "outputs": [],
   "source": [
    "# def freq_analysis(sample , ttime, responsefrq =1, sampfrq = 5120):\n",
    "#     mmtic = time.perf_counter()\n",
    "#     frqs = \"\"\n",
    "#     amps = []\n",
    "#     samp_int = 1/sampfrq\n",
    "#     ft = np.fft.fft(sample)/len(sample)\n",
    "# #     mmhic = time.perf_counter()\n",
    "#     ft = ft[range(int(len(sample)/2))]\n",
    "#     tpCount = len(sample)\n",
    "#     values = np.arange(int(tpCount/2))\n",
    "#     timePeriod = tpCount/sampfrq\n",
    "#     frequencies = values/timePeriod\n",
    "#     ft = abs(ft)\n",
    "# #     mmcup = time.perf_counter()\n",
    "#     #print(len(ft))\n",
    "#     #print(len(frequencies))\n",
    "#     feq = pd.DataFrame(data = {\"freq\":frequencies})\n",
    "# #     l1 = time.perf_counter()\n",
    "#     feq[\"amp\"] = ft\n",
    "# #     l2 = time.perf_counter()\n",
    "#     frqs = np.arange(0, 1 + int(feq.freq.max()), responsefrq)\n",
    "# #     l3 = time.perf_counter()\n",
    "#     #print(len(frqs))\n",
    "#     mmbless = time.perf_counter()\n",
    "#     for n in frqs:\n",
    "#         cu = feq.loc[(feq.freq > n ) & (feq.freq <= n + responsefrq),\"amp\"].mean()\n",
    "        \n",
    "#         amps.append(cu)\n",
    "# #     l4 = time.perf_counter()\n",
    "# #     mmtoc = time.perf_counter()\n",
    "# #     print(\"init:\", mmhic-mmtic)\n",
    "# #     print(\"fft:\", mmcup - mmhic, \"total:\", mmcup - mmtic)\n",
    "# #     print(\"df1:\", mmbless - mmcup, \"total:\", mmbless - mmtic)\n",
    "# #     print(\"done:\", mmtoc - mmbless, \"total:\", mmtoc - mmtic)\n",
    "# #     print(\"l1, l2, l3, l4:\", l1-mmcup, l2-mmcup, l3-mmcup, l4-mmcup)\n",
    "# #     print(\"for:\", l4 - l3)\n",
    "#     return(frqs, amps, feq)"
   ]
  },
  {
   "cell_type": "code",
   "execution_count": 5,
   "metadata": {},
   "outputs": [],
   "source": [
    "def freq_analysis(sample , ttime, responsefrq =1, sampfrq = 5120):\n",
    "#     mmtic = time.perf_counter()\n",
    "    frqs = \"\"\n",
    "    amps = []\n",
    "    samp_int = 1/sampfrq\n",
    "    ft = np.fft.fft(sample)/len(sample)\n",
    "#     mmhic = time.perf_counter()\n",
    "    ft = ft[range(int(len(sample)/2))]\n",
    "    tpCount = len(sample)\n",
    "    values = np.arange(int(tpCount/2))\n",
    "    timePeriod = tpCount/sampfrq\n",
    "    frequencies = values/timePeriod\n",
    "    ft = abs(ft)\n",
    "#     mmcup = time.perf_counter()\n",
    "    #print(len(ft))\n",
    "    #print(len(frequencies))\n",
    "    feq = pd.DataFrame(data = {\"freq\":frequencies})\n",
    "#     l1 = time.perf_counter()\n",
    "    feq[\"amp\"] = ft\n",
    "#     l2 = time.perf_counter()\n",
    "    frqs = np.arange(0, 1 + int(feq.freq.max()), responsefrq)\n",
    "#     l3 = time.perf_counter()\n",
    "    #print(len(frqs))\n",
    "#     mmbless = time.perf_counter()\n",
    "    wow = feq.amp.rolling(10).mean()\n",
    "    yep = np.arange(responsefrq - 1, len(wow) + responsefrq  -1, responsefrq)\n",
    "    amps = wow[yep]\n",
    "#     l4 = time.perf_counter()\n",
    "#     mmtoc = time.perf_counter()\n",
    "#     print(\"init:\", mmhic-mmtic)\n",
    "#     print(\"fft:\", mmcup - mmhic, \"total:\", mmcup - mmtic)\n",
    "#     print(\"df1:\", mmbless - mmcup, \"total:\", mmbless - mmtic)\n",
    "#     print(\"done:\", mmtoc - mmbless, \"total:\", mmtoc - mmtic)\n",
    "#     print(\"l1, l2, l3, l4:\", l1-mmcup, l2-mmcup, l3-mmcup, l4-mmcup)\n",
    "#     print(\"for:\", l4 - l3)\n",
    "    return(frqs, amps)"
   ]
  },
  {
   "cell_type": "code",
   "execution_count": 6,
   "metadata": {},
   "outputs": [
    {
     "name": "stdout",
     "output_type": "stream",
     "text": [
      "[[1, 5, 9, 13, 17, 21, 25, 29]]\n"
     ]
    }
   ],
   "source": [
    "test_list  = list(range(1,33,4))\n",
    "test_chop = 9\n",
    "print(list_o_list(test_list, test_chop))\n"
   ]
  },
  {
   "cell_type": "code",
   "execution_count": 7,
   "metadata": {},
   "outputs": [
    {
     "data": {
      "text/plain": [
       "['.git',\n",
       " '.gitignore',\n",
       " '.ipynb_checkpoints',\n",
       " '01-08-19-V118',\n",
       " '03-05-19-V118',\n",
       " '03-26-19-V118',\n",
       " '08-14-18-V118',\n",
       " 'data_prep.ipynb',\n",
       " 'EDA.ipynb',\n",
       " 'EDA2.ipynb',\n",
       " 'eda2_b.ipynb',\n",
       " 'GPS Files',\n",
       " 'July 6, 2020 Vehicle 118 Expo Line Test Train Data.xlsx',\n",
       " 'Skytrain Linear Asset Database - Consolidated.xlsx',\n",
       " 'SMC DATALOG FOR MAR. 5 TEST TRAIN 118-6.xlsx',\n",
       " 'Switch Maint Works to date - April 2019.xlsx',\n",
       " 'Test Train Sample Noise Data',\n",
       " 'Test Train Sample Noise Data.zip']"
      ]
     },
     "execution_count": 7,
     "metadata": {},
     "output_type": "execute_result"
    }
   ],
   "source": [
    "os.listdir()"
   ]
  },
  {
   "cell_type": "code",
   "execution_count": 8,
   "metadata": {},
   "outputs": [],
   "source": [
    "home = os.getcwd()\n"
   ]
  },
  {
   "cell_type": "code",
   "execution_count": 9,
   "metadata": {},
   "outputs": [
    {
     "data": {
      "text/plain": [
       "'C:\\\\Users\\\\work_cbdvl\\\\Documents\\\\GitHub\\\\sturm\\\\08-14-18-V118'"
      ]
     },
     "execution_count": 9,
     "metadata": {},
     "output_type": "execute_result"
    }
   ],
   "source": [
    "\n",
    "os.chdir(\"08-14-18-V118\")\n",
    "os.getcwd()"
   ]
  },
  {
   "cell_type": "code",
   "execution_count": 10,
   "metadata": {},
   "outputs": [],
   "source": [
    "files = os.listdir()\n",
    "csv_files = []\n",
    "for n in files:\n",
    "    if re.search(\".csv\", n):\n",
    "        csv_files.append(n)"
   ]
  },
  {
   "cell_type": "code",
   "execution_count": 11,
   "metadata": {},
   "outputs": [
    {
     "name": "stdout",
     "output_type": "stream",
     "text": [
      "['.hubstorinfo', '08-14-18-V118_ch1.csv', '08-14-18-V118_ch2.csv', 'ft_first_3000.csv']\n"
     ]
    }
   ],
   "source": [
    "print(files)"
   ]
  },
  {
   "cell_type": "code",
   "execution_count": 12,
   "metadata": {},
   "outputs": [],
   "source": [
    "df = pd.read_csv(csv_files[0], header=15, names=[\"time\", \"acceleration_a\"], nrows = data_import)\n",
    "df.head()\n",
    "df2 = pd.read_csv(csv_files[1], header=15, names=[\"time\", \"acceleration_b\"], nrows = data_import)\n",
    "df2.head()\n",
    "raw = pd.merge(left=df, right=df2, how = \"outer\")"
   ]
  },
  {
   "cell_type": "code",
   "execution_count": 13,
   "metadata": {},
   "outputs": [
    {
     "name": "stdout",
     "output_type": "stream",
     "text": [
      "<class 'pandas.core.frame.DataFrame'>\n",
      "Int64Index: 15360000 entries, 0 to 15359999\n",
      "Data columns (total 3 columns):\n",
      " #   Column          Dtype  \n",
      "---  ------          -----  \n",
      " 0   time            float64\n",
      " 1   acceleration_a  float64\n",
      " 2   acceleration_b  float64\n",
      "dtypes: float64(3)\n",
      "memory usage: 468.8 MB\n"
     ]
    }
   ],
   "source": [
    "raw.info()"
   ]
  },
  {
   "cell_type": "code",
   "execution_count": 14,
   "metadata": {},
   "outputs": [],
   "source": [
    "acc_a = list(raw.acceleration_a)\n",
    "acc_b = list(raw.acceleration_b)"
   ]
  },
  {
   "cell_type": "code",
   "execution_count": 15,
   "metadata": {},
   "outputs": [],
   "source": [
    "l1 = list_o_list(acc_a, 5120)\n"
   ]
  },
  {
   "cell_type": "code",
   "execution_count": 16,
   "metadata": {},
   "outputs": [],
   "source": [
    "l2 = list_o_list(acc_b, 5120)"
   ]
  },
  {
   "cell_type": "code",
   "execution_count": 17,
   "metadata": {},
   "outputs": [
    {
     "data": {
      "text/plain": [
       "5120"
      ]
     },
     "execution_count": 17,
     "metadata": {},
     "output_type": "execute_result"
    }
   ],
   "source": [
    "len(l1[0])"
   ]
  },
  {
   "cell_type": "code",
   "execution_count": 18,
   "metadata": {},
   "outputs": [
    {
     "ename": "ValueError",
     "evalue": "not enough values to unpack (expected 3, got 2)",
     "output_type": "error",
     "traceback": [
      "\u001b[1;31m---------------------------------------------------------------------------\u001b[0m",
      "\u001b[1;31mValueError\u001b[0m                                Traceback (most recent call last)",
      "\u001b[1;32m<ipython-input-18-b27575e6afd8>\u001b[0m in \u001b[0;36m<module>\u001b[1;34m\u001b[0m\n\u001b[1;32m----> 1\u001b[1;33m \u001b[0mtst_fr\u001b[0m\u001b[1;33m,\u001b[0m \u001b[0mtst_amp\u001b[0m\u001b[1;33m,\u001b[0m \u001b[0mtst_df\u001b[0m \u001b[1;33m=\u001b[0m \u001b[0mfreq_analysis\u001b[0m\u001b[1;33m(\u001b[0m\u001b[0ml1\u001b[0m\u001b[1;33m[\u001b[0m\u001b[1;36m0\u001b[0m\u001b[1;33m]\u001b[0m\u001b[1;33m,\u001b[0m \u001b[1;36m1\u001b[0m\u001b[1;33m,\u001b[0m \u001b[1;36m10\u001b[0m\u001b[1;33m,\u001b[0m \u001b[0msamp_rt\u001b[0m\u001b[1;33m)\u001b[0m\u001b[1;33m\u001b[0m\u001b[1;33m\u001b[0m\u001b[0m\n\u001b[0m\u001b[0;32m      2\u001b[0m \u001b[0mtst_fr_alt\u001b[0m\u001b[1;33m,\u001b[0m \u001b[0mtst_amp_alt\u001b[0m\u001b[1;33m,\u001b[0m \u001b[0mtst_df_alt\u001b[0m \u001b[1;33m=\u001b[0m \u001b[0mfreq_analysis_alt\u001b[0m\u001b[1;33m(\u001b[0m\u001b[0ml1\u001b[0m\u001b[1;33m[\u001b[0m\u001b[1;36m0\u001b[0m\u001b[1;33m]\u001b[0m\u001b[1;33m,\u001b[0m \u001b[1;36m1\u001b[0m\u001b[1;33m,\u001b[0m \u001b[1;36m10\u001b[0m\u001b[1;33m,\u001b[0m \u001b[0msamp_rt\u001b[0m\u001b[1;33m)\u001b[0m\u001b[1;33m\u001b[0m\u001b[1;33m\u001b[0m\u001b[0m\n",
      "\u001b[1;31mValueError\u001b[0m: not enough values to unpack (expected 3, got 2)"
     ]
    }
   ],
   "source": [
    "tst_fr, tst_amp, tst_df = freq_analysis(l1[0], 1, 10, samp_rt)\n",
    "tst_fr_alt, tst_amp_alt, tst_df_alt = freq_analysis_alt(l1[0], 1, 10, samp_rt)"
   ]
  },
  {
   "cell_type": "code",
   "execution_count": null,
   "metadata": {},
   "outputs": [],
   "source": [
    "tst_fr, tst_amp, tst_df = freq_analysis(l1[0], 1, 10, samp_rt)\n",
    "tst_fr_alt, tst_amp_alt, tst_df_alt = freq_analysis_alt(l1[0], 1, 10, samp_rt)"
   ]
  },
  {
   "cell_type": "code",
   "execution_count": null,
   "metadata": {},
   "outputs": [],
   "source": [
    "tst_fr, tst_amp, tst_df = freq_analysis(l1[0], 1, 10, samp_rt)\n",
    "tst_fr_alt, tst_amp_alt, tst_df_alt = freq_analysis_alt(l1[0], 1, 10, samp_rt)"
   ]
  },
  {
   "cell_type": "code",
   "execution_count": null,
   "metadata": {},
   "outputs": [],
   "source": [
    "tst_fr, tst_amp, tst_df = freq_analysis(l1[0], 1, 10, samp_rt)\n",
    "tst_fr_alt, tst_amp_alt, tst_df_alt = freq_analysis_alt(l1[0], 1, 10, samp_rt)"
   ]
  },
  {
   "cell_type": "code",
   "execution_count": null,
   "metadata": {
    "jupyter": {
     "source_hidden": true
    }
   },
   "outputs": [],
   "source": [
    "tst_fr, tst_amp, tst_df = freq_analysis(l1[0], 1, 10, samp_rt)\n",
    "tst_fr_alt, tst_amp_alt, tst_df_alt = freq_analysis_alt(l1[0], 1, 10, samp_rt)"
   ]
  },
  {
   "cell_type": "code",
   "execution_count": null,
   "metadata": {},
   "outputs": [],
   "source": []
  },
  {
   "cell_type": "code",
   "execution_count": null,
   "metadata": {},
   "outputs": [],
   "source": [
    "tst_df.info()"
   ]
  },
  {
   "cell_type": "code",
   "execution_count": null,
   "metadata": {},
   "outputs": [],
   "source": [
    "tst_df.describe()"
   ]
  },
  {
   "cell_type": "code",
   "execution_count": null,
   "metadata": {},
   "outputs": [],
   "source": [
    "tst_df.head()"
   ]
  },
  {
   "cell_type": "code",
   "execution_count": null,
   "metadata": {},
   "outputs": [],
   "source": [
    "print(np.arange(0, len(tst_df)+10, 10))\n",
    "tst = pd.cut(tst_df.freq, np.arange(0, len(tst_df)+10, 10))"
   ]
  },
  {
   "cell_type": "code",
   "execution_count": null,
   "metadata": {},
   "outputs": [],
   "source": [
    "print(tst)\n",
    "print(len(tst))"
   ]
  },
  {
   "cell_type": "code",
   "execution_count": null,
   "metadata": {},
   "outputs": [],
   "source": [
    "group = tst_df.groupby(tst).amp.mean()"
   ]
  },
  {
   "cell_type": "code",
   "execution_count": null,
   "metadata": {},
   "outputs": [],
   "source": [
    "print(group)\n",
    "print(type(group))"
   ]
  },
  {
   "cell_type": "code",
   "execution_count": null,
   "metadata": {},
   "outputs": [],
   "source": [
    "wow = tst_df.amp.rolling(10).mean()"
   ]
  },
  {
   "cell_type": "code",
   "execution_count": null,
   "metadata": {},
   "outputs": [],
   "source": [
    "step = 10\n",
    "yep = np.arange(step - 1, len(wow) + step  -1, step)"
   ]
  },
  {
   "cell_type": "code",
   "execution_count": null,
   "metadata": {},
   "outputs": [],
   "source": [
    "print(yep)"
   ]
  },
  {
   "cell_type": "code",
   "execution_count": null,
   "metadata": {},
   "outputs": [],
   "source": [
    "wow.head(10)"
   ]
  },
  {
   "cell_type": "code",
   "execution_count": null,
   "metadata": {},
   "outputs": [],
   "source": [
    "wow.tail(10)"
   ]
  },
  {
   "cell_type": "code",
   "execution_count": null,
   "metadata": {},
   "outputs": [],
   "source": [
    "wow[yep]"
   ]
  },
  {
   "cell_type": "code",
   "execution_count": null,
   "metadata": {},
   "outputs": [],
   "source": []
  },
  {
   "cell_type": "code",
   "execution_count": null,
   "metadata": {},
   "outputs": [],
   "source": [
    "print(len(tst_fr))"
   ]
  },
  {
   "cell_type": "code",
   "execution_count": null,
   "metadata": {},
   "outputs": [],
   "source": [
    "len(tst_amp)"
   ]
  },
  {
   "cell_type": "code",
   "execution_count": null,
   "metadata": {},
   "outputs": [],
   "source": [
    "tic_a = time.perf_counter()\n",
    "ft_l1 = []\n",
    "frq_l1 = []\n",
    "for i in l1:\n",
    "    frq_l1, amp = freq_analysis(i, 1, 10, samp_rt)\n",
    "    ft_l1.append(amp)\n",
    "toc_a = time.perf_counter()\n",
    "print(\"time diff:\", toc_a - tic_a)\n",
    "    "
   ]
  },
  {
   "cell_type": "code",
   "execution_count": null,
   "metadata": {},
   "outputs": [],
   "source": [
    "tic_b = time.perf_counter()\n",
    "ft_l2 = []\n",
    "frq_l2 = []\n",
    "count = 0\n",
    "for i in l2:\n",
    "    mtic = time.perf_counter()\n",
    "    frq_l2, amp = freq_analysis(i, 1, 10, samp_rt)\n",
    "    ft_l2.append(amp)\n",
    "    mtoc = time.perf_counter()\n",
    "    print(count, mtoc-mtic)\n",
    "    count += 1\n",
    "toc_b = time.perf_counter()\n",
    "print(\"time diff:\", toc_b - tic_b)"
   ]
  },
  {
   "cell_type": "code",
   "execution_count": null,
   "metadata": {},
   "outputs": [],
   "source": [
    "len(ft_l1)"
   ]
  },
  {
   "cell_type": "code",
   "execution_count": null,
   "metadata": {},
   "outputs": [],
   "source": [
    "len(ft_l1[0])"
   ]
  },
  {
   "cell_type": "code",
   "execution_count": null,
   "metadata": {},
   "outputs": [],
   "source": [
    "len(frq_l1)"
   ]
  },
  {
   "cell_type": "code",
   "execution_count": null,
   "metadata": {},
   "outputs": [],
   "source": [
    "type(ft_l1)"
   ]
  },
  {
   "cell_type": "code",
   "execution_count": null,
   "metadata": {},
   "outputs": [],
   "source": [
    "dic_ = {}\n",
    "for c,v in enumerate(frq_l1):\n",
    "    value = []\n",
    "    for i in ft_l1:\n",
    "        value.append(i[c])\n",
    "    key = str(v) + \"_a\"\n",
    "    dic_[key] = value\n",
    "        \n",
    "    \n",
    "    \n",
    "    "
   ]
  },
  {
   "cell_type": "code",
   "execution_count": null,
   "metadata": {},
   "outputs": [],
   "source": [
    "for c,v in enumerate(frq_l2):\n",
    "    value = []\n",
    "    for i in ft_l1:\n",
    "        value.append(i[c])\n",
    "    key =  str(v) + \"_b\"\n",
    "    dic_[key] = value"
   ]
  },
  {
   "cell_type": "code",
   "execution_count": null,
   "metadata": {},
   "outputs": [],
   "source": [
    "dic_.keys()"
   ]
  },
  {
   "cell_type": "code",
   "execution_count": null,
   "metadata": {},
   "outputs": [],
   "source": [
    "df = pd.DataFrame(data = dic_)"
   ]
  },
  {
   "cell_type": "code",
   "execution_count": null,
   "metadata": {},
   "outputs": [],
   "source": [
    "df.info()"
   ]
  },
  {
   "cell_type": "code",
   "execution_count": null,
   "metadata": {},
   "outputs": [],
   "source": [
    "df.describe()"
   ]
  },
  {
   "cell_type": "code",
   "execution_count": null,
   "metadata": {},
   "outputs": [],
   "source": [
    "name = \"ft_first_\" + str(time_import) + \".csv\"\n",
    "df.to_csv(name)"
   ]
  },
  {
   "cell_type": "code",
   "execution_count": null,
   "metadata": {},
   "outputs": [],
   "source": [
    "from sklearn.decomposition import PCA\n",
    "pca = PCA(n_components=2)\n",
    "pca.fit(df)\n",
    "print(pca.explained_variance_)\n"
   ]
  },
  {
   "cell_type": "code",
   "execution_count": null,
   "metadata": {},
   "outputs": [],
   "source": [
    "p_scores = []\n",
    "for i in np.arange(1,100):\n",
    "    pca_n = PCA(n_components = i)\n",
    "    pca_n.fit(df)\n",
    "    p_scores.append(sum(pca_n.explained_variance_))"
   ]
  },
  {
   "cell_type": "code",
   "execution_count": null,
   "metadata": {},
   "outputs": [],
   "source": [
    "plt.figure(figsize=(20,20))\n",
    "sb.scatterplot(x=np.arange(1,100), y=p_scores, alpha=0.2)\n",
    "plt.show()"
   ]
  },
  {
   "cell_type": "code",
   "execution_count": null,
   "metadata": {},
   "outputs": [],
   "source": [
    "tic_a = time.perf_counter()\n",
    "ft_l1 = []\n",
    "frq_l1 = []\n",
    "for i in l1:\n",
    "    frq_l1, amp = freq_analysis(i, 1, 1, samp_rt)\n",
    "    ft_l1.append(amp)\n",
    "toc_a = time.perf_counter()\n",
    "print(\"time diff:\", toc_a - tic_a)\n",
    "   "
   ]
  },
  {
   "cell_type": "code",
   "execution_count": null,
   "metadata": {},
   "outputs": [],
   "source": []
  },
  {
   "cell_type": "code",
   "execution_count": null,
   "metadata": {},
   "outputs": [],
   "source": [
    "tic_b = time.perf_counter()\n",
    "ft_l2 = []\n",
    "frq_l2 = []\n",
    "count = 0\n",
    "for i in l2:\n",
    "    mtic = time.perf_counter()\n",
    "    frq_l2, amp = freq_analysis(i, 1, 1, samp_rt)\n",
    "    ft_l2.append(amp)\n",
    "    mtoc = time.perf_counter()\n",
    "    print(count, mtoc- mtic)\n",
    "    count += 1\n",
    "toc_b = time.perf_counter()\n",
    "print(\"time diff:\", toc_b - tic_b)"
   ]
  },
  {
   "cell_type": "code",
   "execution_count": null,
   "metadata": {},
   "outputs": [],
   "source": [
    "len(ft_l1)"
   ]
  },
  {
   "cell_type": "code",
   "execution_count": null,
   "metadata": {},
   "outputs": [],
   "source": [
    "len(ft_l1[0])"
   ]
  },
  {
   "cell_type": "code",
   "execution_count": null,
   "metadata": {},
   "outputs": [],
   "source": [
    "len(frq_l1)"
   ]
  },
  {
   "cell_type": "code",
   "execution_count": null,
   "metadata": {},
   "outputs": [],
   "source": [
    "type(ft_l1)"
   ]
  },
  {
   "cell_type": "code",
   "execution_count": null,
   "metadata": {},
   "outputs": [],
   "source": [
    "dic_1 = {}\n",
    "for c,v in enumerate(frq_l1):\n",
    "    value = []\n",
    "    for i in ft_l1:\n",
    "        value.append(i[c])\n",
    "    key = str(v) + \"_a\"\n",
    "    dic_[key] = value\n",
    "        \n",
    "    \n",
    "    \n",
    "    "
   ]
  },
  {
   "cell_type": "code",
   "execution_count": null,
   "metadata": {},
   "outputs": [],
   "source": [
    "for c,v in enumerate(frq_l2):\n",
    "    value = []\n",
    "    for i in ft_l1:\n",
    "        value.append(i[c])\n",
    "    key =  str(v) + \"_b\"\n",
    "    dic_[key] = value"
   ]
  },
  {
   "cell_type": "code",
   "execution_count": null,
   "metadata": {},
   "outputs": [],
   "source": [
    "df_1 = pd.DataFrame(data = dic_1)"
   ]
  },
  {
   "cell_type": "code",
   "execution_count": null,
   "metadata": {},
   "outputs": [],
   "source": [
    "p_scores_1 = []\n",
    "for i in np.arange(1,100):\n",
    "    pca_n = PCA(n_components = i)\n",
    "    pca_n.fit(df_1)\n",
    "    p_scores.append(sum(pca_n.explained_variance_))"
   ]
  },
  {
   "cell_type": "code",
   "execution_count": null,
   "metadata": {},
   "outputs": [],
   "source": [
    "plt.figure(figsize=(20,20))\n",
    "sb.scatterplot(x=np.arange(1,100), y=p_scores_1, alpha=0.2)\n",
    "plt.show()"
   ]
  },
  {
   "cell_type": "code",
   "execution_count": null,
   "metadata": {},
   "outputs": [],
   "source": [
    "p_scores_1 = []\n",
    "for i in np.arange(1,1000):\n",
    "    pca_n = PCA(n_components = i)\n",
    "    pca_n.fit(df_1)\n",
    "    p_scores.append(sum(pca_n.explained_variance_))"
   ]
  },
  {
   "cell_type": "code",
   "execution_count": null,
   "metadata": {},
   "outputs": [],
   "source": [
    "plt.figure(figsize=(20,20))\n",
    "sb.scatterplot(x=np.arange(1,1000), y=p_scores_1, alpha=0.2)\n",
    "plt.show()"
   ]
  },
  {
   "cell_type": "code",
   "execution_count": null,
   "metadata": {},
   "outputs": [],
   "source": []
  }
 ],
 "metadata": {
  "kernelspec": {
   "display_name": "Python 3",
   "language": "python",
   "name": "python3"
  },
  "language_info": {
   "codemirror_mode": {
    "name": "ipython",
    "version": 3
   },
   "file_extension": ".py",
   "mimetype": "text/x-python",
   "name": "python",
   "nbconvert_exporter": "python",
   "pygments_lexer": "ipython3",
   "version": "3.7.6"
  }
 },
 "nbformat": 4,
 "nbformat_minor": 4
}
