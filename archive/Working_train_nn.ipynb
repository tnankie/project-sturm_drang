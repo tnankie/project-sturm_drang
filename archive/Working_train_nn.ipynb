{
 "cells": [
  {
   "cell_type": "code",
   "execution_count": 1,
   "metadata": {},
   "outputs": [],
   "source": [
    "import pandas as pd\n",
    "import numpy as np\n",
    "import torch\n",
    "from sklearn import preprocessing\n",
    "dtype = torch.float64\n",
    "device = torch.device(\"cuda:0\")\n",
    "torch.manual_seed(42)\n",
    "data = pd.read_csv(\"NN_training.nn\")\n",
    "np.random.seed(42)"
   ]
  },
  {
   "cell_type": "code",
   "execution_count": 2,
   "metadata": {},
   "outputs": [
    {
     "data": {
      "text/plain": [
       "(9331, 522)"
      ]
     },
     "execution_count": 2,
     "metadata": {},
     "output_type": "execute_result"
    }
   ],
   "source": [
    "data = data.set_index(\"Unnamed: 0\")\n",
    "data.shape"
   ]
  },
  {
   "cell_type": "code",
   "execution_count": 3,
   "metadata": {},
   "outputs": [
    {
     "data": {
      "text/plain": [
       "(9331, 522)"
      ]
     },
     "execution_count": 3,
     "metadata": {},
     "output_type": "execute_result"
    }
   ],
   "source": [
    "data.dropna().shape"
   ]
  },
  {
   "cell_type": "code",
   "execution_count": 4,
   "metadata": {},
   "outputs": [
    {
     "data": {
      "text/plain": [
       "0"
      ]
     },
     "execution_count": 4,
     "metadata": {},
     "output_type": "execute_result"
    }
   ],
   "source": [
    "data[\"Actual Velocity\"].isna().sum()"
   ]
  },
  {
   "cell_type": "code",
   "execution_count": 5,
   "metadata": {},
   "outputs": [
    {
     "data": {
      "text/plain": [
       "24.0"
      ]
     },
     "execution_count": 5,
     "metadata": {},
     "output_type": "execute_result"
    }
   ],
   "source": [
    "data.iloc[0,0]"
   ]
  },
  {
   "cell_type": "code",
   "execution_count": 6,
   "metadata": {},
   "outputs": [
    {
     "data": {
      "text/html": [
       "<div>\n",
       "<style scoped>\n",
       "    .dataframe tbody tr th:only-of-type {\n",
       "        vertical-align: middle;\n",
       "    }\n",
       "\n",
       "    .dataframe tbody tr th {\n",
       "        vertical-align: top;\n",
       "    }\n",
       "\n",
       "    .dataframe thead th {\n",
       "        text-align: right;\n",
       "    }\n",
       "</style>\n",
       "<table border=\"1\" class=\"dataframe\">\n",
       "  <thead>\n",
       "    <tr style=\"text-align: right;\">\n",
       "      <th></th>\n",
       "      <th>Actual Velocity</th>\n",
       "      <th>Track Section</th>\n",
       "      <th>0_x</th>\n",
       "      <th>10_x</th>\n",
       "      <th>20_x</th>\n",
       "      <th>30_x</th>\n",
       "      <th>40_x</th>\n",
       "      <th>50_x</th>\n",
       "      <th>60_x</th>\n",
       "      <th>70_x</th>\n",
       "      <th>...</th>\n",
       "      <th>2500_y</th>\n",
       "      <th>2510_y</th>\n",
       "      <th>2520_y</th>\n",
       "      <th>2530_y</th>\n",
       "      <th>2540_y</th>\n",
       "      <th>2550_y</th>\n",
       "      <th>mean_acc_y</th>\n",
       "      <th>median_y</th>\n",
       "      <th>95_acc_y</th>\n",
       "      <th>max_acc_y</th>\n",
       "    </tr>\n",
       "    <tr>\n",
       "      <th>Unnamed: 0</th>\n",
       "      <th></th>\n",
       "      <th></th>\n",
       "      <th></th>\n",
       "      <th></th>\n",
       "      <th></th>\n",
       "      <th></th>\n",
       "      <th></th>\n",
       "      <th></th>\n",
       "      <th></th>\n",
       "      <th></th>\n",
       "      <th></th>\n",
       "      <th></th>\n",
       "      <th></th>\n",
       "      <th></th>\n",
       "      <th></th>\n",
       "      <th></th>\n",
       "      <th></th>\n",
       "      <th></th>\n",
       "      <th></th>\n",
       "      <th></th>\n",
       "      <th></th>\n",
       "    </tr>\n",
       "  </thead>\n",
       "  <tbody>\n",
       "    <tr>\n",
       "      <th>0</th>\n",
       "      <td>24.0</td>\n",
       "      <td>0.0</td>\n",
       "      <td>0.002890</td>\n",
       "      <td>0.002176</td>\n",
       "      <td>0.004270</td>\n",
       "      <td>0.007065</td>\n",
       "      <td>0.009169</td>\n",
       "      <td>0.008229</td>\n",
       "      <td>0.006080</td>\n",
       "      <td>0.010589</td>\n",
       "      <td>...</td>\n",
       "      <td>0.001342</td>\n",
       "      <td>0.001679</td>\n",
       "      <td>0.001001</td>\n",
       "      <td>0.001741</td>\n",
       "      <td>0.001173</td>\n",
       "      <td>0.001034</td>\n",
       "      <td>0.441387</td>\n",
       "      <td>0.353673</td>\n",
       "      <td>1.135934</td>\n",
       "      <td>6.148501</td>\n",
       "    </tr>\n",
       "    <tr>\n",
       "      <th>2</th>\n",
       "      <td>25.0</td>\n",
       "      <td>0.0</td>\n",
       "      <td>0.006483</td>\n",
       "      <td>0.012145</td>\n",
       "      <td>0.016721</td>\n",
       "      <td>0.014323</td>\n",
       "      <td>0.019283</td>\n",
       "      <td>0.015196</td>\n",
       "      <td>0.018086</td>\n",
       "      <td>0.011794</td>\n",
       "      <td>...</td>\n",
       "      <td>0.001500</td>\n",
       "      <td>0.001161</td>\n",
       "      <td>0.001255</td>\n",
       "      <td>0.001117</td>\n",
       "      <td>0.000859</td>\n",
       "      <td>0.001176</td>\n",
       "      <td>0.435271</td>\n",
       "      <td>0.328850</td>\n",
       "      <td>1.205422</td>\n",
       "      <td>6.901017</td>\n",
       "    </tr>\n",
       "    <tr>\n",
       "      <th>5</th>\n",
       "      <td>25.0</td>\n",
       "      <td>2580.0</td>\n",
       "      <td>0.006075</td>\n",
       "      <td>0.026636</td>\n",
       "      <td>0.049570</td>\n",
       "      <td>0.035475</td>\n",
       "      <td>0.045464</td>\n",
       "      <td>0.058989</td>\n",
       "      <td>0.035533</td>\n",
       "      <td>0.054188</td>\n",
       "      <td>...</td>\n",
       "      <td>0.001636</td>\n",
       "      <td>0.000910</td>\n",
       "      <td>0.001677</td>\n",
       "      <td>0.001872</td>\n",
       "      <td>0.001693</td>\n",
       "      <td>0.001617</td>\n",
       "      <td>0.492657</td>\n",
       "      <td>0.398906</td>\n",
       "      <td>1.274077</td>\n",
       "      <td>2.885397</td>\n",
       "    </tr>\n",
       "    <tr>\n",
       "      <th>6</th>\n",
       "      <td>25.0</td>\n",
       "      <td>2580.0</td>\n",
       "      <td>0.006267</td>\n",
       "      <td>0.005948</td>\n",
       "      <td>0.009482</td>\n",
       "      <td>0.013067</td>\n",
       "      <td>0.011271</td>\n",
       "      <td>0.009465</td>\n",
       "      <td>0.012031</td>\n",
       "      <td>0.016119</td>\n",
       "      <td>...</td>\n",
       "      <td>0.001607</td>\n",
       "      <td>0.001065</td>\n",
       "      <td>0.001259</td>\n",
       "      <td>0.001687</td>\n",
       "      <td>0.001401</td>\n",
       "      <td>0.001769</td>\n",
       "      <td>0.452549</td>\n",
       "      <td>0.330364</td>\n",
       "      <td>1.290717</td>\n",
       "      <td>3.406660</td>\n",
       "    </tr>\n",
       "    <tr>\n",
       "      <th>7</th>\n",
       "      <td>24.0</td>\n",
       "      <td>2580.0</td>\n",
       "      <td>0.006267</td>\n",
       "      <td>0.005948</td>\n",
       "      <td>0.009482</td>\n",
       "      <td>0.013067</td>\n",
       "      <td>0.011271</td>\n",
       "      <td>0.009465</td>\n",
       "      <td>0.012031</td>\n",
       "      <td>0.016119</td>\n",
       "      <td>...</td>\n",
       "      <td>0.001607</td>\n",
       "      <td>0.001065</td>\n",
       "      <td>0.001259</td>\n",
       "      <td>0.001687</td>\n",
       "      <td>0.001401</td>\n",
       "      <td>0.001769</td>\n",
       "      <td>0.452549</td>\n",
       "      <td>0.330364</td>\n",
       "      <td>1.290717</td>\n",
       "      <td>3.406660</td>\n",
       "    </tr>\n",
       "  </tbody>\n",
       "</table>\n",
       "<p>5 rows × 522 columns</p>\n",
       "</div>"
      ],
      "text/plain": [
       "            Actual Velocity  Track Section       0_x      10_x      20_x  \\\n",
       "Unnamed: 0                                                                 \n",
       "0                      24.0            0.0  0.002890  0.002176  0.004270   \n",
       "2                      25.0            0.0  0.006483  0.012145  0.016721   \n",
       "5                      25.0         2580.0  0.006075  0.026636  0.049570   \n",
       "6                      25.0         2580.0  0.006267  0.005948  0.009482   \n",
       "7                      24.0         2580.0  0.006267  0.005948  0.009482   \n",
       "\n",
       "                30_x      40_x      50_x      60_x      70_x  ...    2500_y  \\\n",
       "Unnamed: 0                                                    ...             \n",
       "0           0.007065  0.009169  0.008229  0.006080  0.010589  ...  0.001342   \n",
       "2           0.014323  0.019283  0.015196  0.018086  0.011794  ...  0.001500   \n",
       "5           0.035475  0.045464  0.058989  0.035533  0.054188  ...  0.001636   \n",
       "6           0.013067  0.011271  0.009465  0.012031  0.016119  ...  0.001607   \n",
       "7           0.013067  0.011271  0.009465  0.012031  0.016119  ...  0.001607   \n",
       "\n",
       "              2510_y    2520_y    2530_y    2540_y    2550_y  mean_acc_y  \\\n",
       "Unnamed: 0                                                                 \n",
       "0           0.001679  0.001001  0.001741  0.001173  0.001034    0.441387   \n",
       "2           0.001161  0.001255  0.001117  0.000859  0.001176    0.435271   \n",
       "5           0.000910  0.001677  0.001872  0.001693  0.001617    0.492657   \n",
       "6           0.001065  0.001259  0.001687  0.001401  0.001769    0.452549   \n",
       "7           0.001065  0.001259  0.001687  0.001401  0.001769    0.452549   \n",
       "\n",
       "            median_y  95_acc_y  max_acc_y  \n",
       "Unnamed: 0                                 \n",
       "0           0.353673  1.135934   6.148501  \n",
       "2           0.328850  1.205422   6.901017  \n",
       "5           0.398906  1.274077   2.885397  \n",
       "6           0.330364  1.290717   3.406660  \n",
       "7           0.330364  1.290717   3.406660  \n",
       "\n",
       "[5 rows x 522 columns]"
      ]
     },
     "execution_count": 6,
     "metadata": {},
     "output_type": "execute_result"
    }
   ],
   "source": [
    "data.head()"
   ]
  },
  {
   "cell_type": "code",
   "execution_count": 7,
   "metadata": {},
   "outputs": [],
   "source": [
    "x = data.iloc[:,2:].values #returns a numpy array\n",
    "min_max_scaler = preprocessing.MinMaxScaler()\n",
    "x_scaled = min_max_scaler.fit_transform(data)\n",
    "d2 = pd.DataFrame(x_scaled)\n",
    "d2[\"speed\"] = data.iloc[:,0]\n",
    "d2[\"position\"] = data.iloc[:,1]\n",
    "train, validate, test = np.split(d2.sample(frac=1), [int(.6*len(d2)), int(.8*len(d2))])"
   ]
  },
  {
   "cell_type": "code",
   "execution_count": 8,
   "metadata": {},
   "outputs": [
    {
     "data": {
      "text/html": [
       "<div>\n",
       "<style scoped>\n",
       "    .dataframe tbody tr th:only-of-type {\n",
       "        vertical-align: middle;\n",
       "    }\n",
       "\n",
       "    .dataframe tbody tr th {\n",
       "        vertical-align: top;\n",
       "    }\n",
       "\n",
       "    .dataframe thead th {\n",
       "        text-align: right;\n",
       "    }\n",
       "</style>\n",
       "<table border=\"1\" class=\"dataframe\">\n",
       "  <thead>\n",
       "    <tr style=\"text-align: right;\">\n",
       "      <th></th>\n",
       "      <th>0</th>\n",
       "      <th>1</th>\n",
       "      <th>2</th>\n",
       "      <th>3</th>\n",
       "      <th>4</th>\n",
       "      <th>5</th>\n",
       "      <th>6</th>\n",
       "      <th>7</th>\n",
       "      <th>8</th>\n",
       "      <th>9</th>\n",
       "      <th>...</th>\n",
       "      <th>514</th>\n",
       "      <th>515</th>\n",
       "      <th>516</th>\n",
       "      <th>517</th>\n",
       "      <th>518</th>\n",
       "      <th>519</th>\n",
       "      <th>520</th>\n",
       "      <th>521</th>\n",
       "      <th>speed</th>\n",
       "      <th>position</th>\n",
       "    </tr>\n",
       "  </thead>\n",
       "  <tbody>\n",
       "    <tr>\n",
       "      <th>0</th>\n",
       "      <td>0.296296</td>\n",
       "      <td>0.000000</td>\n",
       "      <td>0.012672</td>\n",
       "      <td>0.010053</td>\n",
       "      <td>0.022331</td>\n",
       "      <td>0.039810</td>\n",
       "      <td>0.067267</td>\n",
       "      <td>0.061797</td>\n",
       "      <td>0.045089</td>\n",
       "      <td>0.056358</td>\n",
       "      <td>...</td>\n",
       "      <td>0.037567</td>\n",
       "      <td>0.082659</td>\n",
       "      <td>0.053812</td>\n",
       "      <td>0.039585</td>\n",
       "      <td>0.056502</td>\n",
       "      <td>0.060794</td>\n",
       "      <td>0.052717</td>\n",
       "      <td>0.021361</td>\n",
       "      <td>24.0</td>\n",
       "      <td>0.0</td>\n",
       "    </tr>\n",
       "    <tr>\n",
       "      <th>1</th>\n",
       "      <td>0.308642</td>\n",
       "      <td>0.000000</td>\n",
       "      <td>0.032173</td>\n",
       "      <td>0.059526</td>\n",
       "      <td>0.089143</td>\n",
       "      <td>0.081217</td>\n",
       "      <td>0.142102</td>\n",
       "      <td>0.114948</td>\n",
       "      <td>0.134987</td>\n",
       "      <td>0.062800</td>\n",
       "      <td>...</td>\n",
       "      <td>0.047197</td>\n",
       "      <td>0.052917</td>\n",
       "      <td>0.039308</td>\n",
       "      <td>0.045075</td>\n",
       "      <td>0.055713</td>\n",
       "      <td>0.056493</td>\n",
       "      <td>0.055965</td>\n",
       "      <td>0.023981</td>\n",
       "      <td>NaN</td>\n",
       "      <td>NaN</td>\n",
       "    </tr>\n",
       "    <tr>\n",
       "      <th>2</th>\n",
       "      <td>0.308642</td>\n",
       "      <td>0.580558</td>\n",
       "      <td>0.029955</td>\n",
       "      <td>0.131441</td>\n",
       "      <td>0.265416</td>\n",
       "      <td>0.201901</td>\n",
       "      <td>0.335824</td>\n",
       "      <td>0.449037</td>\n",
       "      <td>0.265629</td>\n",
       "      <td>0.289605</td>\n",
       "      <td>...</td>\n",
       "      <td>0.063182</td>\n",
       "      <td>0.088886</td>\n",
       "      <td>0.077823</td>\n",
       "      <td>0.062092</td>\n",
       "      <td>0.063115</td>\n",
       "      <td>0.068633</td>\n",
       "      <td>0.059175</td>\n",
       "      <td>0.009997</td>\n",
       "      <td>25.0</td>\n",
       "      <td>0.0</td>\n",
       "    </tr>\n",
       "    <tr>\n",
       "      <th>3</th>\n",
       "      <td>0.308642</td>\n",
       "      <td>0.580558</td>\n",
       "      <td>0.030999</td>\n",
       "      <td>0.028773</td>\n",
       "      <td>0.050298</td>\n",
       "      <td>0.074051</td>\n",
       "      <td>0.082824</td>\n",
       "      <td>0.071224</td>\n",
       "      <td>0.089650</td>\n",
       "      <td>0.085941</td>\n",
       "      <td>...</td>\n",
       "      <td>0.047350</td>\n",
       "      <td>0.080089</td>\n",
       "      <td>0.064348</td>\n",
       "      <td>0.067926</td>\n",
       "      <td>0.057942</td>\n",
       "      <td>0.056755</td>\n",
       "      <td>0.059953</td>\n",
       "      <td>0.011812</td>\n",
       "      <td>NaN</td>\n",
       "      <td>NaN</td>\n",
       "    </tr>\n",
       "    <tr>\n",
       "      <th>4</th>\n",
       "      <td>0.296296</td>\n",
       "      <td>0.580558</td>\n",
       "      <td>0.030999</td>\n",
       "      <td>0.028773</td>\n",
       "      <td>0.050298</td>\n",
       "      <td>0.074051</td>\n",
       "      <td>0.082824</td>\n",
       "      <td>0.071224</td>\n",
       "      <td>0.089650</td>\n",
       "      <td>0.085941</td>\n",
       "      <td>...</td>\n",
       "      <td>0.047350</td>\n",
       "      <td>0.080089</td>\n",
       "      <td>0.064348</td>\n",
       "      <td>0.067926</td>\n",
       "      <td>0.057942</td>\n",
       "      <td>0.056755</td>\n",
       "      <td>0.059953</td>\n",
       "      <td>0.011812</td>\n",
       "      <td>NaN</td>\n",
       "      <td>NaN</td>\n",
       "    </tr>\n",
       "  </tbody>\n",
       "</table>\n",
       "<p>5 rows × 524 columns</p>\n",
       "</div>"
      ],
      "text/plain": [
       "          0         1         2         3         4         5         6  \\\n",
       "0  0.296296  0.000000  0.012672  0.010053  0.022331  0.039810  0.067267   \n",
       "1  0.308642  0.000000  0.032173  0.059526  0.089143  0.081217  0.142102   \n",
       "2  0.308642  0.580558  0.029955  0.131441  0.265416  0.201901  0.335824   \n",
       "3  0.308642  0.580558  0.030999  0.028773  0.050298  0.074051  0.082824   \n",
       "4  0.296296  0.580558  0.030999  0.028773  0.050298  0.074051  0.082824   \n",
       "\n",
       "          7         8         9  ...       514       515       516       517  \\\n",
       "0  0.061797  0.045089  0.056358  ...  0.037567  0.082659  0.053812  0.039585   \n",
       "1  0.114948  0.134987  0.062800  ...  0.047197  0.052917  0.039308  0.045075   \n",
       "2  0.449037  0.265629  0.289605  ...  0.063182  0.088886  0.077823  0.062092   \n",
       "3  0.071224  0.089650  0.085941  ...  0.047350  0.080089  0.064348  0.067926   \n",
       "4  0.071224  0.089650  0.085941  ...  0.047350  0.080089  0.064348  0.067926   \n",
       "\n",
       "        518       519       520       521  speed  position  \n",
       "0  0.056502  0.060794  0.052717  0.021361   24.0       0.0  \n",
       "1  0.055713  0.056493  0.055965  0.023981    NaN       NaN  \n",
       "2  0.063115  0.068633  0.059175  0.009997   25.0       0.0  \n",
       "3  0.057942  0.056755  0.059953  0.011812    NaN       NaN  \n",
       "4  0.057942  0.056755  0.059953  0.011812    NaN       NaN  \n",
       "\n",
       "[5 rows x 524 columns]"
      ]
     },
     "execution_count": 8,
     "metadata": {},
     "output_type": "execute_result"
    }
   ],
   "source": [
    "d2.head()"
   ]
  },
  {
   "cell_type": "code",
   "execution_count": 9,
   "metadata": {},
   "outputs": [
    {
     "data": {
      "text/plain": [
       "array([0.2962963 , 0.        , 0.01267242, 0.01005332, 0.02233109,\n",
       "       0.03981009, 0.06726672, 0.06179678, 0.04508938, 0.05635821,\n",
       "       0.10375106, 0.13456194, 0.14023017, 0.18479218, 0.16986342,\n",
       "       0.286599  , 0.14427274, 0.17469264, 0.26310061, 0.16540796,\n",
       "       0.09204636, 0.08019606, 0.07367775, 0.04049933, 0.05694063,\n",
       "       0.05128955, 0.13183701, 0.09957645, 0.06947675, 0.09277417,\n",
       "       0.08115094, 0.05998524, 0.06169809, 0.03805582, 0.04744997,\n",
       "       0.05848697, 0.06124184, 0.03764432, 0.02545195, 0.03795332,\n",
       "       0.04650699, 0.01825841, 0.06049976, 0.03327567, 0.02192893,\n",
       "       0.01987099, 0.01676501, 0.03444323, 0.02058551, 0.00977345,\n",
       "       0.01490439, 0.02453682, 0.01413714, 0.02002122, 0.02363129,\n",
       "       0.04019039, 0.02550453, 0.03482801, 0.01738612, 0.02372306,\n",
       "       0.01319014, 0.0168854 , 0.02082492, 0.02246789, 0.02904975,\n",
       "       0.02387394, 0.01718946, 0.02788139, 0.02696037, 0.01976725,\n",
       "       0.0242053 , 0.02024602, 0.01015246, 0.01493769, 0.01484926,\n",
       "       0.01064635, 0.01115892, 0.01395503, 0.01385474, 0.01513918,\n",
       "       0.01430963, 0.01993403, 0.01935749, 0.02545054, 0.01795981,\n",
       "       0.01370375, 0.02057193, 0.01312659, 0.01793226, 0.01086482,\n",
       "       0.01181296, 0.00709737, 0.0118449 , 0.01851857, 0.02512272,\n",
       "       0.01726911, 0.01562124, 0.02258204, 0.01144985, 0.00782096,\n",
       "       0.008159  , 0.01378531, 0.0065342 , 0.0120235 , 0.00904561,\n",
       "       0.00709227, 0.00597435, 0.00613678, 0.00931438, 0.01000285,\n",
       "       0.01373342, 0.00884189, 0.0137125 , 0.01187174, 0.01775743,\n",
       "       0.01510976, 0.01662633, 0.017298  , 0.01285108, 0.00834961,\n",
       "       0.00979822, 0.00917539, 0.01209107, 0.01479517, 0.01501054,\n",
       "       0.01566116, 0.00926766, 0.00923201, 0.00634985, 0.00623018,\n",
       "       0.00550577, 0.00986205, 0.00873216, 0.00984737, 0.01157803,\n",
       "       0.01103368, 0.00737047, 0.00876749, 0.01323294, 0.01263688,\n",
       "       0.01122595, 0.01048396, 0.00743049, 0.01258987, 0.0149627 ,\n",
       "       0.00745542, 0.02040326, 0.02840676, 0.02083251, 0.02732239,\n",
       "       0.01776566, 0.01247492, 0.01107167, 0.01203186, 0.02214153,\n",
       "       0.02587714, 0.02057739, 0.01565222, 0.01825957, 0.02663696,\n",
       "       0.02387533, 0.03940085, 0.02457061, 0.03030004, 0.03162066,\n",
       "       0.03792985, 0.02181072, 0.03788657, 0.02807983, 0.02108545,\n",
       "       0.02697351, 0.02781295, 0.04498471, 0.02617472, 0.0276972 ,\n",
       "       0.02949321, 0.0381239 , 0.03804976, 0.03222034, 0.04438069,\n",
       "       0.0452091 , 0.04457276, 0.03724376, 0.03109657, 0.01886664,\n",
       "       0.03671451, 0.02498655, 0.02799869, 0.03391393, 0.02967462,\n",
       "       0.02839264, 0.02552738, 0.04421771, 0.03126775, 0.02594327,\n",
       "       0.0251419 , 0.02455272, 0.03501795, 0.0260298 , 0.01577151,\n",
       "       0.02287809, 0.027964  , 0.03970663, 0.0257773 , 0.01941759,\n",
       "       0.02290394, 0.02750778, 0.01860408, 0.02407993, 0.03726964,\n",
       "       0.04457431, 0.02613299, 0.04770239, 0.03421801, 0.0490246 ,\n",
       "       0.04380328, 0.03934501, 0.02574693, 0.02961119, 0.04843231,\n",
       "       0.0358479 , 0.05687159, 0.03834076, 0.04255576, 0.05280826,\n",
       "       0.05216785, 0.03453457, 0.05171289, 0.03024744, 0.02781152,\n",
       "       0.03846461, 0.05254763, 0.07358037, 0.0413193 , 0.04947741,\n",
       "       0.0337968 , 0.05420458, 0.04388409, 0.02382086, 0.03752305,\n",
       "       0.0287826 , 0.03032105, 0.04237773, 0.04221968, 0.02747287,\n",
       "       0.0467536 , 0.03783066, 0.03967522, 0.05199295, 0.05302439,\n",
       "       0.04032354, 0.07355512, 0.04952646, 0.0599379 , 0.03604587,\n",
       "       0.04732528, 0.03722208, 0.0299532 , 0.05959983, 0.04903855,\n",
       "       0.06308645, 0.01878862, 0.0158066 , 0.07625103, 0.10288253,\n",
       "       0.17079001, 0.20510883, 0.11521252, 0.0518604 , 0.05490383,\n",
       "       0.09975406, 0.07782214, 0.10589907, 0.03118692, 0.12972836,\n",
       "       0.12597544, 0.10428461, 0.13003989, 0.18378327, 0.11494384,\n",
       "       0.11212888, 0.06371447, 0.06765825, 0.09072473, 0.06784333,\n",
       "       0.03307348, 0.04266515, 0.02630847, 0.01908532, 0.03263889,\n",
       "       0.02765709, 0.02997526, 0.04279982, 0.0189925 , 0.01633384,\n",
       "       0.03204521, 0.02499282, 0.02831257, 0.0332489 , 0.01608349,\n",
       "       0.02630027, 0.01805868, 0.01546977, 0.02986505, 0.01896344,\n",
       "       0.02807412, 0.04667794, 0.08197118, 0.03993939, 0.02319623,\n",
       "       0.01801472, 0.01502116, 0.01261001, 0.01350775, 0.01414753,\n",
       "       0.01642113, 0.01865612, 0.01296667, 0.01296849, 0.01867222,\n",
       "       0.01733764, 0.02540595, 0.01303618, 0.01287338, 0.01644479,\n",
       "       0.015368  , 0.01775815, 0.01365138, 0.01034998, 0.01031567,\n",
       "       0.01762299, 0.02574142, 0.01887689, 0.01664945, 0.01837199,\n",
       "       0.02486012, 0.01064222, 0.00768815, 0.01034613, 0.01360259,\n",
       "       0.01299329, 0.02864849, 0.03933081, 0.03000763, 0.02764842,\n",
       "       0.01699039, 0.03425422, 0.02530466, 0.02384171, 0.02993528,\n",
       "       0.03250567, 0.03120279, 0.04551558, 0.04614339, 0.04031428,\n",
       "       0.01294877, 0.00986524, 0.01097461, 0.016872  , 0.01371968,\n",
       "       0.01622555, 0.02559313, 0.02576433, 0.02643698, 0.01723625,\n",
       "       0.01768175, 0.01978987, 0.01911599, 0.02195578, 0.01829162,\n",
       "       0.01364157, 0.02131188, 0.02298908, 0.02371657, 0.01532142,\n",
       "       0.02326021, 0.01876761, 0.0141971 , 0.01123882, 0.0068266 ,\n",
       "       0.01094314, 0.00977464, 0.01198515, 0.00775048, 0.01495893,\n",
       "       0.01941727, 0.02501552, 0.01381376, 0.0105212 , 0.02804733,\n",
       "       0.03285505, 0.02701395, 0.02238924, 0.0241932 , 0.02091344,\n",
       "       0.02586608, 0.02440589, 0.03708547, 0.02842143, 0.02616178,\n",
       "       0.0181861 , 0.01243703, 0.01460066, 0.01016167, 0.01362143,\n",
       "       0.01688696, 0.01358959, 0.02200714, 0.01682777, 0.02216494,\n",
       "       0.02041778, 0.01089706, 0.01042642, 0.0102683 , 0.01153959,\n",
       "       0.01818417, 0.03428789, 0.02160789, 0.02055442, 0.02483427,\n",
       "       0.02000688, 0.03443397, 0.02555378, 0.04670006, 0.05892258,\n",
       "       0.05691145, 0.0357961 , 0.03633806, 0.04039368, 0.04600555,\n",
       "       0.04665404, 0.04214189, 0.02870578, 0.03155063, 0.03183196,\n",
       "       0.0224804 , 0.04257611, 0.0324539 , 0.03090666, 0.01921231,\n",
       "       0.01430531, 0.01344786, 0.02272988, 0.01992411, 0.02214618,\n",
       "       0.02206582, 0.02226338, 0.02592376, 0.02040071, 0.03942871,\n",
       "       0.03225925, 0.02418122, 0.0313097 , 0.03663475, 0.03792432,\n",
       "       0.01974573, 0.0353025 , 0.02893968, 0.04032866, 0.0310962 ,\n",
       "       0.03374148, 0.04654905, 0.05209201, 0.04537687, 0.02602219,\n",
       "       0.01617848, 0.02069299, 0.02196977, 0.02344786, 0.01654212,\n",
       "       0.01436036, 0.03035195, 0.02326808, 0.04532183, 0.02349935,\n",
       "       0.02028087, 0.03822328, 0.03907755, 0.02532819, 0.05549787,\n",
       "       0.05556524, 0.05139009, 0.04763548, 0.06079909, 0.06291932,\n",
       "       0.04193766, 0.03728555, 0.04252096, 0.03422444, 0.06216735,\n",
       "       0.05495148, 0.03562909, 0.03300122, 0.03236565, 0.0364797 ,\n",
       "       0.04238796, 0.05154354, 0.05209326, 0.05136818, 0.04951881,\n",
       "       0.03637781, 0.03711791, 0.03397284, 0.03335584, 0.02869289,\n",
       "       0.02273249, 0.03625169, 0.02506999, 0.03761352, 0.03430514,\n",
       "       0.03712376, 0.04233801, 0.04071122, 0.06344338, 0.03756661,\n",
       "       0.08265929, 0.05381237, 0.039585  , 0.05650185, 0.06079439,\n",
       "       0.0527168 , 0.0213607 ])"
      ]
     },
     "execution_count": 9,
     "metadata": {},
     "output_type": "execute_result"
    }
   ],
   "source": [
    "x_scaled[0,:]"
   ]
  },
  {
   "cell_type": "code",
   "execution_count": 10,
   "metadata": {},
   "outputs": [],
   "source": [
    "y_tr = torch.from_numpy(train.iloc[:,0].to_numpy())\n",
    "y_tr = y_tr.view(y_tr.shape[0], 1)\n",
    "y_te = torch.from_numpy(test.iloc[:,0].to_numpy())\n",
    "y_te = y_te.view(y_te.shape[0], 1)\n",
    "y_va = torch.from_numpy(validate.iloc[:,0].to_numpy())\n",
    "y_va = y_va.view(y_va.shape[0], 1)"
   ]
  },
  {
   "cell_type": "code",
   "execution_count": 11,
   "metadata": {},
   "outputs": [],
   "source": [
    "x_tr = torch.from_numpy(train.iloc[:,1:].to_numpy())\n",
    "x_te = torch.from_numpy(test.iloc[:,1:].to_numpy())\n",
    "x_va = torch.from_numpy(validate.iloc[:,1:].to_numpy())"
   ]
  },
  {
   "cell_type": "code",
   "execution_count": 12,
   "metadata": {},
   "outputs": [
    {
     "name": "stdout",
     "output_type": "stream",
     "text": [
      "torch.Size([5598, 523]) torch.Size([5598, 1])\n"
     ]
    }
   ],
   "source": [
    "print(x_tr.shape, y_tr.shape)"
   ]
  },
  {
   "cell_type": "code",
   "execution_count": 13,
   "metadata": {},
   "outputs": [],
   "source": [
    "x_tr = x_tr.float()\n",
    "y_tr = y_tr.float()"
   ]
  },
  {
   "cell_type": "code",
   "execution_count": 14,
   "metadata": {},
   "outputs": [],
   "source": [
    "x_tr = x_tr.cuda()\n",
    "y_tr = y_tr.cuda()"
   ]
  },
  {
   "cell_type": "code",
   "execution_count": 15,
   "metadata": {},
   "outputs": [],
   "source": [
    "x_te = x_te.float().cuda()\n",
    "y_te = y_te.float().cuda()"
   ]
  },
  {
   "cell_type": "code",
   "execution_count": 16,
   "metadata": {},
   "outputs": [],
   "source": [
    "x_va = x_te.float().cuda()\n",
    "y_va = y_te.float().cuda()"
   ]
  },
  {
   "cell_type": "code",
   "execution_count": 17,
   "metadata": {},
   "outputs": [],
   "source": [
    "l_rate = 1e-6\n",
    "\n",
    "input_dim, hiden_dim, h2, output_dim = x_tr.shape[1], 500, 30, y_tr.shape[1]\n",
    "model = torch.nn.Sequential(\n",
    "    torch.nn.Linear(input_dim, hiden_dim),\n",
    "    torch.nn.ReLU(),\n",
    "    torch.nn.Linear(hiden_dim, h2),\n",
    "    torch.nn.ReLU(),\n",
    "    torch.nn.Linear(h2, output_dim),\n",
    ")\n",
    "model.cuda()\n",
    "loss_fn = torch.nn.MSELoss(reduction=\"sum\")\n",
    "losses_train = []\n",
    "losses_test = []\n",
    "times = []"
   ]
  },
  {
   "cell_type": "code",
   "execution_count": 18,
   "metadata": {},
   "outputs": [],
   "source": [
    "l_rate = 1e-4"
   ]
  },
  {
   "cell_type": "code",
   "execution_count": 19,
   "metadata": {},
   "outputs": [],
   "source": [
    "y_pred = model(x_tr)"
   ]
  },
  {
   "cell_type": "code",
   "execution_count": 20,
   "metadata": {},
   "outputs": [
    {
     "data": {
      "text/plain": [
       "tensor([0.2840], device='cuda:0')"
      ]
     },
     "execution_count": 20,
     "metadata": {},
     "output_type": "execute_result"
    }
   ],
   "source": [
    "y_tr[0]"
   ]
  },
  {
   "cell_type": "code",
   "execution_count": 21,
   "metadata": {},
   "outputs": [
    {
     "data": {
      "text/plain": [
       "tensor([-17.4904], device='cuda:0', grad_fn=<SelectBackward>)"
      ]
     },
     "execution_count": 21,
     "metadata": {},
     "output_type": "execute_result"
    }
   ],
   "source": [
    "y_pred[0]"
   ]
  },
  {
   "cell_type": "code",
   "execution_count": 26,
   "metadata": {},
   "outputs": [
    {
     "data": {
      "text/plain": [
       "tensor(nan, device='cuda:0', grad_fn=<MseLossBackward>)"
      ]
     },
     "execution_count": 26,
     "metadata": {},
     "output_type": "execute_result"
    }
   ],
   "source": [
    "loss_fn(y_pred, y_tr)"
   ]
  },
  {
   "cell_type": "code",
   "execution_count": 22,
   "metadata": {},
   "outputs": [
    {
     "name": "stdout",
     "output_type": "stream",
     "text": [
      "training error:      1     nan\n",
      "test error:          1    nan\n",
      "training error:    101     nan\n",
      "test error:        101    nan\n",
      "training error:    201     nan\n",
      "test error:        201    nan\n",
      "training error:    301     nan\n",
      "test error:        301    nan\n",
      "training error:    401     nan\n",
      "test error:        401    nan\n"
     ]
    }
   ],
   "source": [
    "\n",
    "for t in range(500):\n",
    "#     y_pred = model(xc).to(device)\n",
    "    y_pred = model(x_tr)\n",
    "    \n",
    "#     y_c_pred = y_pred.to(dev)\n",
    "    loss = loss_fn(y_pred, y_tr)\n",
    "    \n",
    "    if t % 100 == 1:\n",
    "        print(\"{:16}{:6}   {:5.3}\".format(\"training error:\", t, loss.item()))\n",
    "        y_test = model(x_te)\n",
    "        loss_te = loss_fn(y_test, y_te)\n",
    "        print(\"{:16}{:6}  {:5.3}\".format(\"test error:\", t, loss_te.item()))\n",
    "    if t % 100 == 1:\n",
    "#         print(\"training error:\", t, loss.item())\n",
    "        y_test = model(x_te)\n",
    "        loss_te = loss_fn(y_test, y_te)\n",
    "#         print(\"test error:\", t, loss_te.item())\n",
    "        losses_train.append(loss.item())\n",
    "        losses_test.append(loss_te.item())\n",
    "        times.append(t)\n",
    "    model.zero_grad()\n",
    "    loss.backward()\n",
    "    with torch.no_grad():\n",
    "        for param in model.parameters():\n",
    "            param -= l_rate * param.grad"
   ]
  },
  {
   "cell_type": "code",
   "execution_count": 23,
   "metadata": {},
   "outputs": [
    {
     "data": {
      "text/plain": [
       "<AxesSubplot:xlabel='time', ylabel='test_l'>"
      ]
     },
     "execution_count": 23,
     "metadata": {},
     "output_type": "execute_result"
    },
    {
     "data": {
      "image/png": "[encoded data removed]",
      "text/plain": [
       "<Figure size 432x288 with 1 Axes>"
      ]
     },
     "metadata": {
      "needs_background": "light"
     },
     "output_type": "display_data"
    },
    {
     "data": {
      "image/png": "[encoded data removed]",
      "text/plain": [
       "<Figure size 432x288 with 1 Axes>"
      ]
     },
     "metadata": {
      "needs_background": "light"
     },
     "output_type": "display_data"
    }
   ],
   "source": [
    "stats = pd.DataFrame({\"train_l\":losses_train, \"test_l\":losses_test, \"time\":times})\n",
    "# stats.plot(x=\"time\", y=[\"train_l\", \"test_l\"], kind=\"scatter\")\n",
    "stats.plot(x=\"time\", y=\"train_l\", kind=\"scatter\")\n",
    "stats.plot(x=\"time\", y=\"test_l\", kind=\"scatter\")"
   ]
  },
  {
   "cell_type": "markdown",
   "metadata": {},
   "source": [
    "to do:\n",
    "    Randomize the order of the input data\n",
    "    training/test set split\n",
    "    optimise architecture\n",
    "    test by plotting predicted speeds of other runs\n",
    "    investigate 1d convolution layer\n",
    "    print the validation set score with loss\n",
    "    \n",
    "    Build alternate model using raw acceleration data (down sample data) - investigate embedding/embedding layer"
   ]
  },
  {
   "cell_type": "code",
   "execution_count": 24,
   "metadata": {},
   "outputs": [],
   "source": [
    "# checkpoint = {'input_size': xc.shape[1],\n",
    "#               'output_size': yc.shape[1],\n",
    "#               \"model_dets\": model,\n",
    "#               'state_dict': model.state_dict()}\n",
    "\n",
    "# torch.save(checkpoint, 'checkpoint.pth')"
   ]
  },
  {
   "cell_type": "code",
   "execution_count": 25,
   "metadata": {},
   "outputs": [
    {
     "data": {
      "text/plain": [
       "Sequential(\n",
       "  (0): Linear(in_features=523, out_features=500, bias=True)\n",
       "  (1): ReLU()\n",
       "  (2): Linear(in_features=500, out_features=30, bias=True)\n",
       "  (3): ReLU()\n",
       "  (4): Linear(in_features=30, out_features=1, bias=True)\n",
       ")"
      ]
     },
     "execution_count": 25,
     "metadata": {},
     "output_type": "execute_result"
    }
   ],
   "source": [
    "model"
   ]
  },
  {
   "cell_type": "code",
   "execution_count": null,
   "metadata": {},
   "outputs": [],
   "source": []
  },
  {
   "cell_type": "code",
   "execution_count": null,
   "metadata": {},
   "outputs": [],
   "source": []
  },
  {
   "cell_type": "code",
   "execution_count": null,
   "metadata": {},
   "outputs": [],
   "source": []
  }
 ],
 "metadata": {
  "kernelspec": {
   "display_name": "Python 3",
   "language": "python",
   "name": "python3"
  },
  "language_info": {
   "codemirror_mode": {
    "name": "ipython",
    "version": 3
   },
   "file_extension": ".py",
   "mimetype": "text/x-python",
   "name": "python",
   "nbconvert_exporter": "python",
   "pygments_lexer": "ipython3",
   "version": "3.8.6"
  }
 },
 "nbformat": 4,
 "nbformat_minor": 4
}
