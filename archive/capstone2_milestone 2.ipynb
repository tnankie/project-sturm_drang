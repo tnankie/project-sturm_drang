{
 "cells": [
  {
   "cell_type": "markdown",
   "metadata": {},
   "source": [
    "Project overview\n",
    "\n",
    "Data Features: Two channels of accelerometer data sampled at 5120 Hz mounted on a test train for a circuit of a light rail network.\n",
    "Data labels: Train Control system readout of train speed and track section at a variable ~1 Hz sampling rate.\n",
    "\n",
    "Ideal outcome: A model that takes the acceleration data and identifies track sections that require maintenance.\n",
    "\n",
    "Initial dataset is one circuit of the track network. The intent is to develop an inital model to identify speed and position with this data set. Once these models are developed, additional recordings of the network a second model may be developed to classify track condition."
   ]
  },
  {
   "cell_type": "markdown",
   "metadata": {},
   "source": [
    "The data is obtained by measuring the vertical acceleration of each side of the front axel of a train. As the axel is one piece these measurements are only partially independent as vibration can be transmited from oneside through the axel. The data collection setup is completely separate from the train command and control system and is manually initiated before the automated test train is dispatched. The data recorder is retrieved after the test train completes the circuit of the track network. The labels are the event log files pertaining to the test train from the command and control network. \n",
    "\n",
    "While both the accerometer data and event log have time stamps these are not sychronised and have substantially different temporal resolution. The event log data is given to the second while the accelerometer is given to the ten thousandth of a second. The acceleration data begins at 10:05 AM and goes to XXX for YYY minutes of data. The first logged event occurs at CCC AM and the last event occurs at VVV for spanning BBB minutes."
   ]
  },
  {
   "cell_type": "markdown",
   "metadata": {},
   "source": [
    "The first step in data familiarisation was examining the raw accelleration data"
   ]
  },
  {
   "cell_type": "code",
   "execution_count": null,
   "metadata": {},
   "outputs": [],
   "source": []
  },
  {
   "cell_type": "markdown",
   "metadata": {},
   "source": [
    "As there was substantial acceleration data but only limited labels I explored options to simplify the data using dimension reduction.\n",
    "The first option was PCA"
   ]
  },
  {
   "cell_type": "code",
   "execution_count": null,
   "metadata": {},
   "outputs": [],
   "source": []
  },
  {
   "cell_type": "markdown",
   "metadata": {},
   "source": [
    "Future work:\n",
    "    Examine the label-feature synchronisation (possibly a missmatch of time scales is causing the poorly predicted regions, verify against a prominent feature mid run e.g. a terminus)\n",
    "    Maybe some data processing of the raw acceleration data (not sfft, or mccf) would work in a LSTM, I suggest looking at one seconds worth of data, potentially down sampled, but keep in mind that important vibrations occur up to XXX Hz and the sampling frequency should be at least double this value. \n",
    "   "
   ]
  },
  {
   "cell_type": "code",
   "execution_count": null,
   "metadata": {},
   "outputs": [],
   "source": []
  }
 ],
 "metadata": {
  "kernelspec": {
   "display_name": "Python 3",
   "language": "python",
   "name": "python3"
  },
  "language_info": {
   "codemirror_mode": {
    "name": "ipython",
    "version": 3
   },
   "file_extension": ".py",
   "mimetype": "text/x-python",
   "name": "python",
   "nbconvert_exporter": "python",
   "pygments_lexer": "ipython3",
   "version": "3.8.6"
  }
 },
 "nbformat": 4,
 "nbformat_minor": 4
}
