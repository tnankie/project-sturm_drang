{
 "cells": [
  {
   "cell_type": "code",
   "execution_count": 1,
   "metadata": {},
   "outputs": [
    {
     "ename": "ModuleNotFoundError",
     "evalue": "No module named 'torch'",
     "output_type": "error",
     "traceback": [
      "\u001b[1;31m---------------------------------------------------------------------------\u001b[0m",
      "\u001b[1;31mModuleNotFoundError\u001b[0m                       Traceback (most recent call last)",
      "\u001b[1;32m<ipython-input-1-a91836e80bd9>\u001b[0m in \u001b[0;36m<module>\u001b[1;34m\u001b[0m\n\u001b[0;32m      1\u001b[0m \u001b[1;32mimport\u001b[0m \u001b[0mpandas\u001b[0m \u001b[1;32mas\u001b[0m \u001b[0mpd\u001b[0m\u001b[1;33m\u001b[0m\u001b[1;33m\u001b[0m\u001b[0m\n\u001b[0;32m      2\u001b[0m \u001b[1;32mimport\u001b[0m \u001b[0mnumpy\u001b[0m \u001b[1;32mas\u001b[0m \u001b[0mnp\u001b[0m\u001b[1;33m\u001b[0m\u001b[1;33m\u001b[0m\u001b[0m\n\u001b[1;32m----> 3\u001b[1;33m \u001b[1;32mimport\u001b[0m \u001b[0mtorch\u001b[0m\u001b[1;33m\u001b[0m\u001b[1;33m\u001b[0m\u001b[0m\n\u001b[0m\u001b[0;32m      4\u001b[0m \u001b[1;32mfrom\u001b[0m \u001b[0msklearn\u001b[0m \u001b[1;32mimport\u001b[0m \u001b[0mpreprocessing\u001b[0m\u001b[1;33m\u001b[0m\u001b[1;33m\u001b[0m\u001b[0m\n\u001b[0;32m      5\u001b[0m \u001b[0mdtype\u001b[0m \u001b[1;33m=\u001b[0m \u001b[0mtorch\u001b[0m\u001b[1;33m.\u001b[0m\u001b[0mfloat64\u001b[0m\u001b[1;33m\u001b[0m\u001b[1;33m\u001b[0m\u001b[0m\n",
      "\u001b[1;31mModuleNotFoundError\u001b[0m: No module named 'torch'"
     ]
    }
   ],
   "source": [
    "import pandas as pd\n",
    "import numpy as np\n",
    "import torch\n",
    "from sklearn import preprocessing\n",
    "dtype = torch.float64\n",
    "device = torch.device(\"cuda:0\")\n",
    "torch.manual_seed(42)\n",
    "data = pd.read_csv(\"NN_training_big.nn\")\n",
    "np.random.seed(42)"
   ]
  },
  {
   "cell_type": "code",
   "execution_count": 2,
   "metadata": {},
   "outputs": [
    {
     "ename": "NameError",
     "evalue": "name 'data' is not defined",
     "output_type": "error",
     "traceback": [
      "\u001b[1;31m---------------------------------------------------------------------------\u001b[0m",
      "\u001b[1;31mNameError\u001b[0m                                 Traceback (most recent call last)",
      "\u001b[1;32m<ipython-input-2-304fa4ce4ebd>\u001b[0m in \u001b[0;36m<module>\u001b[1;34m\u001b[0m\n\u001b[1;32m----> 1\u001b[1;33m \u001b[0mdata\u001b[0m\u001b[1;33m.\u001b[0m\u001b[0mhead\u001b[0m\u001b[1;33m(\u001b[0m\u001b[1;33m)\u001b[0m\u001b[1;33m\u001b[0m\u001b[1;33m\u001b[0m\u001b[0m\n\u001b[0m",
      "\u001b[1;31mNameError\u001b[0m: name 'data' is not defined"
     ]
    }
   ],
   "source": [
    "data.head()"
   ]
  },
  {
   "cell_type": "code",
   "execution_count": 19,
   "metadata": {},
   "outputs": [
    {
     "data": {
      "text/plain": [
       "array([   0,    0, 2580, ...,    0,    0,    0])"
      ]
     },
     "execution_count": 19,
     "metadata": {},
     "output_type": "execute_result"
    }
   ],
   "source": [
    "sections = data[\"Track Section\"].to_numpy(dtype=int)\n",
    "sections"
   ]
  },
  {
   "cell_type": "code",
   "execution_count": 20,
   "metadata": {},
   "outputs": [
    {
     "data": {
      "text/plain": [
       "16681"
      ]
     },
     "execution_count": 20,
     "metadata": {},
     "output_type": "execute_result"
    }
   ],
   "source": [
    "len(sections)"
   ]
  },
  {
   "cell_type": "code",
   "execution_count": 21,
   "metadata": {},
   "outputs": [
    {
     "data": {
      "text/plain": [
       "3883"
      ]
     },
     "execution_count": 21,
     "metadata": {},
     "output_type": "execute_result"
    }
   ],
   "source": [
    "set_s = []\n",
    "for c, v in enumerate(sections):\n",
    "    \n",
    "    "
   ]
  },
  {
   "cell_type": "code",
   "execution_count": null,
   "metadata": {},
   "outputs": [],
   "source": [
    "identify transition to from track number to succesive track number as there is more data (rather than identifying track position)\n",
    "\n",
    "have a look at an embedding layer\n",
    "\n",
    "stock price with lstm example"
   ]
  },
  {
   "cell_type": "code",
   "execution_count": null,
   "metadata": {},
   "outputs": [],
   "source": []
  },
  {
   "cell_type": "code",
   "execution_count": null,
   "metadata": {},
   "outputs": [],
   "source": []
  },
  {
   "cell_type": "code",
   "execution_count": null,
   "metadata": {},
   "outputs": [],
   "source": []
  },
  {
   "cell_type": "code",
   "execution_count": 22,
   "metadata": {},
   "outputs": [
    {
     "data": {
      "text/plain": [
       "3883"
      ]
     },
     "execution_count": 22,
     "metadata": {},
     "output_type": "execute_result"
    }
   ],
   "source": [
    "lin_set = np.arange(0, len(set_s))\n",
    "len(lin_set)"
   ]
  },
  {
   "cell_type": "code",
   "execution_count": 26,
   "metadata": {},
   "outputs": [
    {
     "data": {
      "text/plain": [
       "array([0, 1, 2, 3, 4])"
      ]
     },
     "execution_count": 26,
     "metadata": {},
     "output_type": "execute_result"
    }
   ],
   "source": [
    "lin_set[0:5]"
   ]
  },
  {
   "cell_type": "code",
   "execution_count": 28,
   "metadata": {},
   "outputs": [
    {
     "data": {
      "text/plain": [
       "array([   0,    0, 2580, 2580, 2580])"
      ]
     },
     "execution_count": 28,
     "metadata": {},
     "output_type": "execute_result"
    }
   ],
   "source": [
    "sections[0:5]"
   ]
  },
  {
   "cell_type": "code",
   "execution_count": 23,
   "metadata": {},
   "outputs": [
    {
     "data": {
      "text/html": [
       "<div>\n",
       "<style scoped>\n",
       "    .dataframe tbody tr th:only-of-type {\n",
       "        vertical-align: middle;\n",
       "    }\n",
       "\n",
       "    .dataframe tbody tr th {\n",
       "        vertical-align: top;\n",
       "    }\n",
       "\n",
       "    .dataframe thead th {\n",
       "        text-align: right;\n",
       "    }\n",
       "</style>\n",
       "<table border=\"1\" class=\"dataframe\">\n",
       "  <thead>\n",
       "    <tr style=\"text-align: right;\">\n",
       "      <th></th>\n",
       "      <th>Unnamed: 0</th>\n",
       "      <th>Actual Velocity</th>\n",
       "      <th>Track Section</th>\n",
       "      <th>0_x</th>\n",
       "      <th>10_x</th>\n",
       "      <th>20_x</th>\n",
       "      <th>30_x</th>\n",
       "      <th>40_x</th>\n",
       "      <th>50_x</th>\n",
       "      <th>60_x</th>\n",
       "      <th>...</th>\n",
       "      <th>2510_y</th>\n",
       "      <th>2520_y</th>\n",
       "      <th>2530_y</th>\n",
       "      <th>2540_y</th>\n",
       "      <th>2550_y</th>\n",
       "      <th>mean_acc_y</th>\n",
       "      <th>median_y</th>\n",
       "      <th>95_acc_y</th>\n",
       "      <th>max_acc_y</th>\n",
       "      <th>n_sec</th>\n",
       "    </tr>\n",
       "  </thead>\n",
       "  <tbody>\n",
       "    <tr>\n",
       "      <th>0</th>\n",
       "      <td>0</td>\n",
       "      <td>24.0</td>\n",
       "      <td>0.0</td>\n",
       "      <td>0.002890</td>\n",
       "      <td>0.002176</td>\n",
       "      <td>0.004270</td>\n",
       "      <td>0.007065</td>\n",
       "      <td>0.009169</td>\n",
       "      <td>0.008229</td>\n",
       "      <td>0.006080</td>\n",
       "      <td>...</td>\n",
       "      <td>0.001679</td>\n",
       "      <td>0.001001</td>\n",
       "      <td>0.001741</td>\n",
       "      <td>0.001173</td>\n",
       "      <td>0.001034</td>\n",
       "      <td>0.441387</td>\n",
       "      <td>0.353673</td>\n",
       "      <td>1.135934</td>\n",
       "      <td>6.148501</td>\n",
       "      <td>0</td>\n",
       "    </tr>\n",
       "    <tr>\n",
       "      <th>1</th>\n",
       "      <td>3</td>\n",
       "      <td>25.0</td>\n",
       "      <td>0.0</td>\n",
       "      <td>0.006483</td>\n",
       "      <td>0.012145</td>\n",
       "      <td>0.016721</td>\n",
       "      <td>0.014323</td>\n",
       "      <td>0.019283</td>\n",
       "      <td>0.015196</td>\n",
       "      <td>0.018086</td>\n",
       "      <td>...</td>\n",
       "      <td>0.001161</td>\n",
       "      <td>0.001255</td>\n",
       "      <td>0.001117</td>\n",
       "      <td>0.000859</td>\n",
       "      <td>0.001176</td>\n",
       "      <td>0.435271</td>\n",
       "      <td>0.328850</td>\n",
       "      <td>1.205422</td>\n",
       "      <td>6.901017</td>\n",
       "      <td>0</td>\n",
       "    </tr>\n",
       "    <tr>\n",
       "      <th>2</th>\n",
       "      <td>5</td>\n",
       "      <td>25.0</td>\n",
       "      <td>2580.0</td>\n",
       "      <td>0.006075</td>\n",
       "      <td>0.026636</td>\n",
       "      <td>0.049570</td>\n",
       "      <td>0.035475</td>\n",
       "      <td>0.045464</td>\n",
       "      <td>0.058989</td>\n",
       "      <td>0.035533</td>\n",
       "      <td>...</td>\n",
       "      <td>0.000910</td>\n",
       "      <td>0.001677</td>\n",
       "      <td>0.001872</td>\n",
       "      <td>0.001693</td>\n",
       "      <td>0.001617</td>\n",
       "      <td>0.492657</td>\n",
       "      <td>0.398906</td>\n",
       "      <td>1.274077</td>\n",
       "      <td>2.885397</td>\n",
       "      <td>0</td>\n",
       "    </tr>\n",
       "    <tr>\n",
       "      <th>3</th>\n",
       "      <td>7</td>\n",
       "      <td>24.0</td>\n",
       "      <td>2580.0</td>\n",
       "      <td>0.006267</td>\n",
       "      <td>0.005948</td>\n",
       "      <td>0.009482</td>\n",
       "      <td>0.013067</td>\n",
       "      <td>0.011271</td>\n",
       "      <td>0.009465</td>\n",
       "      <td>0.012031</td>\n",
       "      <td>...</td>\n",
       "      <td>0.001065</td>\n",
       "      <td>0.001259</td>\n",
       "      <td>0.001687</td>\n",
       "      <td>0.001401</td>\n",
       "      <td>0.001769</td>\n",
       "      <td>0.452549</td>\n",
       "      <td>0.330364</td>\n",
       "      <td>1.290717</td>\n",
       "      <td>3.406660</td>\n",
       "      <td>0</td>\n",
       "    </tr>\n",
       "    <tr>\n",
       "      <th>4</th>\n",
       "      <td>6</td>\n",
       "      <td>25.0</td>\n",
       "      <td>2580.0</td>\n",
       "      <td>0.006267</td>\n",
       "      <td>0.005948</td>\n",
       "      <td>0.009482</td>\n",
       "      <td>0.013067</td>\n",
       "      <td>0.011271</td>\n",
       "      <td>0.009465</td>\n",
       "      <td>0.012031</td>\n",
       "      <td>...</td>\n",
       "      <td>0.001065</td>\n",
       "      <td>0.001259</td>\n",
       "      <td>0.001687</td>\n",
       "      <td>0.001401</td>\n",
       "      <td>0.001769</td>\n",
       "      <td>0.452549</td>\n",
       "      <td>0.330364</td>\n",
       "      <td>1.290717</td>\n",
       "      <td>3.406660</td>\n",
       "      <td>0</td>\n",
       "    </tr>\n",
       "  </tbody>\n",
       "</table>\n",
       "<p>5 rows × 524 columns</p>\n",
       "</div>"
      ],
      "text/plain": [
       "   Unnamed: 0  Actual Velocity  Track Section       0_x      10_x      20_x  \\\n",
       "0           0             24.0            0.0  0.002890  0.002176  0.004270   \n",
       "1           3             25.0            0.0  0.006483  0.012145  0.016721   \n",
       "2           5             25.0         2580.0  0.006075  0.026636  0.049570   \n",
       "3           7             24.0         2580.0  0.006267  0.005948  0.009482   \n",
       "4           6             25.0         2580.0  0.006267  0.005948  0.009482   \n",
       "\n",
       "       30_x      40_x      50_x      60_x  ...    2510_y    2520_y    2530_y  \\\n",
       "0  0.007065  0.009169  0.008229  0.006080  ...  0.001679  0.001001  0.001741   \n",
       "1  0.014323  0.019283  0.015196  0.018086  ...  0.001161  0.001255  0.001117   \n",
       "2  0.035475  0.045464  0.058989  0.035533  ...  0.000910  0.001677  0.001872   \n",
       "3  0.013067  0.011271  0.009465  0.012031  ...  0.001065  0.001259  0.001687   \n",
       "4  0.013067  0.011271  0.009465  0.012031  ...  0.001065  0.001259  0.001687   \n",
       "\n",
       "     2540_y    2550_y  mean_acc_y  median_y  95_acc_y  max_acc_y  n_sec  \n",
       "0  0.001173  0.001034    0.441387  0.353673  1.135934   6.148501      0  \n",
       "1  0.000859  0.001176    0.435271  0.328850  1.205422   6.901017      0  \n",
       "2  0.001693  0.001617    0.492657  0.398906  1.274077   2.885397      0  \n",
       "3  0.001401  0.001769    0.452549  0.330364  1.290717   3.406660      0  \n",
       "4  0.001401  0.001769    0.452549  0.330364  1.290717   3.406660      0  \n",
       "\n",
       "[5 rows x 524 columns]"
      ]
     },
     "execution_count": 23,
     "metadata": {},
     "output_type": "execute_result"
    }
   ],
   "source": [
    "data[\"n_sec\"] = 0\n",
    "data.head()"
   ]
  },
  {
   "cell_type": "code",
   "execution_count": 24,
   "metadata": {},
   "outputs": [
    {
     "data": {
      "text/html": [
       "<div>\n",
       "<style scoped>\n",
       "    .dataframe tbody tr th:only-of-type {\n",
       "        vertical-align: middle;\n",
       "    }\n",
       "\n",
       "    .dataframe tbody tr th {\n",
       "        vertical-align: top;\n",
       "    }\n",
       "\n",
       "    .dataframe thead th {\n",
       "        text-align: right;\n",
       "    }\n",
       "</style>\n",
       "<table border=\"1\" class=\"dataframe\">\n",
       "  <thead>\n",
       "    <tr style=\"text-align: right;\">\n",
       "      <th></th>\n",
       "      <th>Unnamed: 0</th>\n",
       "      <th>Actual Velocity</th>\n",
       "      <th>Track Section</th>\n",
       "      <th>0_x</th>\n",
       "      <th>10_x</th>\n",
       "      <th>20_x</th>\n",
       "      <th>30_x</th>\n",
       "      <th>40_x</th>\n",
       "      <th>50_x</th>\n",
       "      <th>60_x</th>\n",
       "      <th>...</th>\n",
       "      <th>2510_y</th>\n",
       "      <th>2520_y</th>\n",
       "      <th>2530_y</th>\n",
       "      <th>2540_y</th>\n",
       "      <th>2550_y</th>\n",
       "      <th>mean_acc_y</th>\n",
       "      <th>median_y</th>\n",
       "      <th>95_acc_y</th>\n",
       "      <th>max_acc_y</th>\n",
       "      <th>n_sec</th>\n",
       "    </tr>\n",
       "  </thead>\n",
       "  <tbody>\n",
       "    <tr>\n",
       "      <th>0</th>\n",
       "      <td>0</td>\n",
       "      <td>24.0</td>\n",
       "      <td>0.0</td>\n",
       "      <td>0.002890</td>\n",
       "      <td>0.002176</td>\n",
       "      <td>0.004270</td>\n",
       "      <td>0.007065</td>\n",
       "      <td>0.009169</td>\n",
       "      <td>0.008229</td>\n",
       "      <td>0.006080</td>\n",
       "      <td>...</td>\n",
       "      <td>0.001679</td>\n",
       "      <td>0.001001</td>\n",
       "      <td>0.001741</td>\n",
       "      <td>0.001173</td>\n",
       "      <td>0.001034</td>\n",
       "      <td>0.441387</td>\n",
       "      <td>0.353673</td>\n",
       "      <td>1.135934</td>\n",
       "      <td>6.148501</td>\n",
       "      <td>0</td>\n",
       "    </tr>\n",
       "    <tr>\n",
       "      <th>1</th>\n",
       "      <td>3</td>\n",
       "      <td>25.0</td>\n",
       "      <td>0.0</td>\n",
       "      <td>0.006483</td>\n",
       "      <td>0.012145</td>\n",
       "      <td>0.016721</td>\n",
       "      <td>0.014323</td>\n",
       "      <td>0.019283</td>\n",
       "      <td>0.015196</td>\n",
       "      <td>0.018086</td>\n",
       "      <td>...</td>\n",
       "      <td>0.001161</td>\n",
       "      <td>0.001255</td>\n",
       "      <td>0.001117</td>\n",
       "      <td>0.000859</td>\n",
       "      <td>0.001176</td>\n",
       "      <td>0.435271</td>\n",
       "      <td>0.328850</td>\n",
       "      <td>1.205422</td>\n",
       "      <td>6.901017</td>\n",
       "      <td>0</td>\n",
       "    </tr>\n",
       "    <tr>\n",
       "      <th>2</th>\n",
       "      <td>5</td>\n",
       "      <td>25.0</td>\n",
       "      <td>2580.0</td>\n",
       "      <td>0.006075</td>\n",
       "      <td>0.026636</td>\n",
       "      <td>0.049570</td>\n",
       "      <td>0.035475</td>\n",
       "      <td>0.045464</td>\n",
       "      <td>0.058989</td>\n",
       "      <td>0.035533</td>\n",
       "      <td>...</td>\n",
       "      <td>0.000910</td>\n",
       "      <td>0.001677</td>\n",
       "      <td>0.001872</td>\n",
       "      <td>0.001693</td>\n",
       "      <td>0.001617</td>\n",
       "      <td>0.492657</td>\n",
       "      <td>0.398906</td>\n",
       "      <td>1.274077</td>\n",
       "      <td>2.885397</td>\n",
       "      <td>1669</td>\n",
       "    </tr>\n",
       "    <tr>\n",
       "      <th>3</th>\n",
       "      <td>7</td>\n",
       "      <td>24.0</td>\n",
       "      <td>2580.0</td>\n",
       "      <td>0.006267</td>\n",
       "      <td>0.005948</td>\n",
       "      <td>0.009482</td>\n",
       "      <td>0.013067</td>\n",
       "      <td>0.011271</td>\n",
       "      <td>0.009465</td>\n",
       "      <td>0.012031</td>\n",
       "      <td>...</td>\n",
       "      <td>0.001065</td>\n",
       "      <td>0.001259</td>\n",
       "      <td>0.001687</td>\n",
       "      <td>0.001401</td>\n",
       "      <td>0.001769</td>\n",
       "      <td>0.452549</td>\n",
       "      <td>0.330364</td>\n",
       "      <td>1.290717</td>\n",
       "      <td>3.406660</td>\n",
       "      <td>1669</td>\n",
       "    </tr>\n",
       "    <tr>\n",
       "      <th>4</th>\n",
       "      <td>6</td>\n",
       "      <td>25.0</td>\n",
       "      <td>2580.0</td>\n",
       "      <td>0.006267</td>\n",
       "      <td>0.005948</td>\n",
       "      <td>0.009482</td>\n",
       "      <td>0.013067</td>\n",
       "      <td>0.011271</td>\n",
       "      <td>0.009465</td>\n",
       "      <td>0.012031</td>\n",
       "      <td>...</td>\n",
       "      <td>0.001065</td>\n",
       "      <td>0.001259</td>\n",
       "      <td>0.001687</td>\n",
       "      <td>0.001401</td>\n",
       "      <td>0.001769</td>\n",
       "      <td>0.452549</td>\n",
       "      <td>0.330364</td>\n",
       "      <td>1.290717</td>\n",
       "      <td>3.406660</td>\n",
       "      <td>1669</td>\n",
       "    </tr>\n",
       "    <tr>\n",
       "      <th>5</th>\n",
       "      <td>9</td>\n",
       "      <td>24.0</td>\n",
       "      <td>2580.0</td>\n",
       "      <td>0.006176</td>\n",
       "      <td>0.005300</td>\n",
       "      <td>0.005865</td>\n",
       "      <td>0.007127</td>\n",
       "      <td>0.013677</td>\n",
       "      <td>0.011861</td>\n",
       "      <td>0.011872</td>\n",
       "      <td>...</td>\n",
       "      <td>0.001229</td>\n",
       "      <td>0.001405</td>\n",
       "      <td>0.001101</td>\n",
       "      <td>0.001418</td>\n",
       "      <td>0.001193</td>\n",
       "      <td>0.730326</td>\n",
       "      <td>0.607439</td>\n",
       "      <td>1.828327</td>\n",
       "      <td>3.858335</td>\n",
       "      <td>1669</td>\n",
       "    </tr>\n",
       "    <tr>\n",
       "      <th>6</th>\n",
       "      <td>11</td>\n",
       "      <td>25.0</td>\n",
       "      <td>2580.0</td>\n",
       "      <td>0.001659</td>\n",
       "      <td>0.002093</td>\n",
       "      <td>0.005951</td>\n",
       "      <td>0.009888</td>\n",
       "      <td>0.013573</td>\n",
       "      <td>0.014407</td>\n",
       "      <td>0.018021</td>\n",
       "      <td>...</td>\n",
       "      <td>0.001471</td>\n",
       "      <td>0.001366</td>\n",
       "      <td>0.001166</td>\n",
       "      <td>0.001405</td>\n",
       "      <td>0.001772</td>\n",
       "      <td>0.780648</td>\n",
       "      <td>0.637179</td>\n",
       "      <td>2.027838</td>\n",
       "      <td>3.911854</td>\n",
       "      <td>1669</td>\n",
       "    </tr>\n",
       "    <tr>\n",
       "      <th>7</th>\n",
       "      <td>12</td>\n",
       "      <td>24.0</td>\n",
       "      <td>2580.0</td>\n",
       "      <td>0.001659</td>\n",
       "      <td>0.002093</td>\n",
       "      <td>0.005951</td>\n",
       "      <td>0.009888</td>\n",
       "      <td>0.013573</td>\n",
       "      <td>0.014407</td>\n",
       "      <td>0.018021</td>\n",
       "      <td>...</td>\n",
       "      <td>0.001471</td>\n",
       "      <td>0.001366</td>\n",
       "      <td>0.001166</td>\n",
       "      <td>0.001405</td>\n",
       "      <td>0.001772</td>\n",
       "      <td>0.780648</td>\n",
       "      <td>0.637179</td>\n",
       "      <td>2.027838</td>\n",
       "      <td>3.911854</td>\n",
       "      <td>1669</td>\n",
       "    </tr>\n",
       "    <tr>\n",
       "      <th>8</th>\n",
       "      <td>15</td>\n",
       "      <td>24.0</td>\n",
       "      <td>2580.0</td>\n",
       "      <td>0.002486</td>\n",
       "      <td>0.003253</td>\n",
       "      <td>0.006224</td>\n",
       "      <td>0.007712</td>\n",
       "      <td>0.009611</td>\n",
       "      <td>0.010210</td>\n",
       "      <td>0.015296</td>\n",
       "      <td>...</td>\n",
       "      <td>0.001624</td>\n",
       "      <td>0.001523</td>\n",
       "      <td>0.001350</td>\n",
       "      <td>0.001761</td>\n",
       "      <td>0.001668</td>\n",
       "      <td>1.339070</td>\n",
       "      <td>1.127216</td>\n",
       "      <td>3.261054</td>\n",
       "      <td>9.142879</td>\n",
       "      <td>1669</td>\n",
       "    </tr>\n",
       "    <tr>\n",
       "      <th>9</th>\n",
       "      <td>13</td>\n",
       "      <td>25.0</td>\n",
       "      <td>2580.0</td>\n",
       "      <td>0.002486</td>\n",
       "      <td>0.003253</td>\n",
       "      <td>0.006224</td>\n",
       "      <td>0.007712</td>\n",
       "      <td>0.009611</td>\n",
       "      <td>0.010210</td>\n",
       "      <td>0.015296</td>\n",
       "      <td>...</td>\n",
       "      <td>0.001624</td>\n",
       "      <td>0.001523</td>\n",
       "      <td>0.001350</td>\n",
       "      <td>0.001761</td>\n",
       "      <td>0.001668</td>\n",
       "      <td>1.339070</td>\n",
       "      <td>1.127216</td>\n",
       "      <td>3.261054</td>\n",
       "      <td>9.142879</td>\n",
       "      <td>1669</td>\n",
       "    </tr>\n",
       "  </tbody>\n",
       "</table>\n",
       "<p>10 rows × 524 columns</p>\n",
       "</div>"
      ],
      "text/plain": [
       "   Unnamed: 0  Actual Velocity  Track Section       0_x      10_x      20_x  \\\n",
       "0           0             24.0            0.0  0.002890  0.002176  0.004270   \n",
       "1           3             25.0            0.0  0.006483  0.012145  0.016721   \n",
       "2           5             25.0         2580.0  0.006075  0.026636  0.049570   \n",
       "3           7             24.0         2580.0  0.006267  0.005948  0.009482   \n",
       "4           6             25.0         2580.0  0.006267  0.005948  0.009482   \n",
       "5           9             24.0         2580.0  0.006176  0.005300  0.005865   \n",
       "6          11             25.0         2580.0  0.001659  0.002093  0.005951   \n",
       "7          12             24.0         2580.0  0.001659  0.002093  0.005951   \n",
       "8          15             24.0         2580.0  0.002486  0.003253  0.006224   \n",
       "9          13             25.0         2580.0  0.002486  0.003253  0.006224   \n",
       "\n",
       "       30_x      40_x      50_x      60_x  ...    2510_y    2520_y    2530_y  \\\n",
       "0  0.007065  0.009169  0.008229  0.006080  ...  0.001679  0.001001  0.001741   \n",
       "1  0.014323  0.019283  0.015196  0.018086  ...  0.001161  0.001255  0.001117   \n",
       "2  0.035475  0.045464  0.058989  0.035533  ...  0.000910  0.001677  0.001872   \n",
       "3  0.013067  0.011271  0.009465  0.012031  ...  0.001065  0.001259  0.001687   \n",
       "4  0.013067  0.011271  0.009465  0.012031  ...  0.001065  0.001259  0.001687   \n",
       "5  0.007127  0.013677  0.011861  0.011872  ...  0.001229  0.001405  0.001101   \n",
       "6  0.009888  0.013573  0.014407  0.018021  ...  0.001471  0.001366  0.001166   \n",
       "7  0.009888  0.013573  0.014407  0.018021  ...  0.001471  0.001366  0.001166   \n",
       "8  0.007712  0.009611  0.010210  0.015296  ...  0.001624  0.001523  0.001350   \n",
       "9  0.007712  0.009611  0.010210  0.015296  ...  0.001624  0.001523  0.001350   \n",
       "\n",
       "     2540_y    2550_y  mean_acc_y  median_y  95_acc_y  max_acc_y  n_sec  \n",
       "0  0.001173  0.001034    0.441387  0.353673  1.135934   6.148501      0  \n",
       "1  0.000859  0.001176    0.435271  0.328850  1.205422   6.901017      0  \n",
       "2  0.001693  0.001617    0.492657  0.398906  1.274077   2.885397   1669  \n",
       "3  0.001401  0.001769    0.452549  0.330364  1.290717   3.406660   1669  \n",
       "4  0.001401  0.001769    0.452549  0.330364  1.290717   3.406660   1669  \n",
       "5  0.001418  0.001193    0.730326  0.607439  1.828327   3.858335   1669  \n",
       "6  0.001405  0.001772    0.780648  0.637179  2.027838   3.911854   1669  \n",
       "7  0.001405  0.001772    0.780648  0.637179  2.027838   3.911854   1669  \n",
       "8  0.001761  0.001668    1.339070  1.127216  3.261054   9.142879   1669  \n",
       "9  0.001761  0.001668    1.339070  1.127216  3.261054   9.142879   1669  \n",
       "\n",
       "[10 rows x 524 columns]"
      ]
     },
     "execution_count": 24,
     "metadata": {},
     "output_type": "execute_result"
    }
   ],
   "source": [
    "for c,v in enumerate(set_s):\n",
    "    data.loc[data[\"Track Section\"] == v,\"n_sec\"] = lin_set[c]\n",
    "data.head(10)"
   ]
  },
  {
   "cell_type": "code",
   "execution_count": null,
   "metadata": {},
   "outputs": [],
   "source": []
  },
  {
   "cell_type": "code",
   "execution_count": 25,
   "metadata": {},
   "outputs": [
    {
     "data": {
      "text/html": [
       "<div>\n",
       "<style scoped>\n",
       "    .dataframe tbody tr th:only-of-type {\n",
       "        vertical-align: middle;\n",
       "    }\n",
       "\n",
       "    .dataframe tbody tr th {\n",
       "        vertical-align: top;\n",
       "    }\n",
       "\n",
       "    .dataframe thead th {\n",
       "        text-align: right;\n",
       "    }\n",
       "</style>\n",
       "<table border=\"1\" class=\"dataframe\">\n",
       "  <thead>\n",
       "    <tr style=\"text-align: right;\">\n",
       "      <th></th>\n",
       "      <th>Unnamed: 0</th>\n",
       "      <th>Actual Velocity</th>\n",
       "      <th>Track Section</th>\n",
       "      <th>0_x</th>\n",
       "      <th>10_x</th>\n",
       "      <th>20_x</th>\n",
       "      <th>30_x</th>\n",
       "      <th>40_x</th>\n",
       "      <th>50_x</th>\n",
       "      <th>60_x</th>\n",
       "      <th>...</th>\n",
       "      <th>2510_y</th>\n",
       "      <th>2520_y</th>\n",
       "      <th>2530_y</th>\n",
       "      <th>2540_y</th>\n",
       "      <th>2550_y</th>\n",
       "      <th>mean_acc_y</th>\n",
       "      <th>median_y</th>\n",
       "      <th>95_acc_y</th>\n",
       "      <th>max_acc_y</th>\n",
       "      <th>n_sec</th>\n",
       "    </tr>\n",
       "  </thead>\n",
       "  <tbody>\n",
       "    <tr>\n",
       "      <th>549</th>\n",
       "      <td>739</td>\n",
       "      <td>11.0</td>\n",
       "      <td>2287.0</td>\n",
       "      <td>0.002738</td>\n",
       "      <td>0.003522</td>\n",
       "      <td>0.004387</td>\n",
       "      <td>0.008377</td>\n",
       "      <td>0.014554</td>\n",
       "      <td>0.011013</td>\n",
       "      <td>0.012808</td>\n",
       "      <td>...</td>\n",
       "      <td>0.000308</td>\n",
       "      <td>0.000466</td>\n",
       "      <td>0.000285</td>\n",
       "      <td>0.000277</td>\n",
       "      <td>0.000422</td>\n",
       "      <td>0.191980</td>\n",
       "      <td>0.157971</td>\n",
       "      <td>0.485452</td>\n",
       "      <td>0.982235</td>\n",
       "      <td>1408</td>\n",
       "    </tr>\n",
       "    <tr>\n",
       "      <th>550</th>\n",
       "      <td>740</td>\n",
       "      <td>13.0</td>\n",
       "      <td>2287.0</td>\n",
       "      <td>0.002738</td>\n",
       "      <td>0.003522</td>\n",
       "      <td>0.004387</td>\n",
       "      <td>0.008377</td>\n",
       "      <td>0.014554</td>\n",
       "      <td>0.011013</td>\n",
       "      <td>0.012808</td>\n",
       "      <td>...</td>\n",
       "      <td>0.000308</td>\n",
       "      <td>0.000466</td>\n",
       "      <td>0.000285</td>\n",
       "      <td>0.000277</td>\n",
       "      <td>0.000422</td>\n",
       "      <td>0.191980</td>\n",
       "      <td>0.157971</td>\n",
       "      <td>0.485452</td>\n",
       "      <td>0.982235</td>\n",
       "      <td>1408</td>\n",
       "    </tr>\n",
       "    <tr>\n",
       "      <th>551</th>\n",
       "      <td>741</td>\n",
       "      <td>14.0</td>\n",
       "      <td>2286.0</td>\n",
       "      <td>0.002275</td>\n",
       "      <td>0.005443</td>\n",
       "      <td>0.007341</td>\n",
       "      <td>0.010291</td>\n",
       "      <td>0.017490</td>\n",
       "      <td>0.009256</td>\n",
       "      <td>0.010632</td>\n",
       "      <td>...</td>\n",
       "      <td>0.000358</td>\n",
       "      <td>0.000462</td>\n",
       "      <td>0.000438</td>\n",
       "      <td>0.000464</td>\n",
       "      <td>0.000518</td>\n",
       "      <td>0.275826</td>\n",
       "      <td>0.230450</td>\n",
       "      <td>0.680601</td>\n",
       "      <td>1.381370</td>\n",
       "      <td>1407</td>\n",
       "    </tr>\n",
       "    <tr>\n",
       "      <th>552</th>\n",
       "      <td>742</td>\n",
       "      <td>16.0</td>\n",
       "      <td>2286.0</td>\n",
       "      <td>0.002275</td>\n",
       "      <td>0.005443</td>\n",
       "      <td>0.007341</td>\n",
       "      <td>0.010291</td>\n",
       "      <td>0.017490</td>\n",
       "      <td>0.009256</td>\n",
       "      <td>0.010632</td>\n",
       "      <td>...</td>\n",
       "      <td>0.000358</td>\n",
       "      <td>0.000462</td>\n",
       "      <td>0.000438</td>\n",
       "      <td>0.000464</td>\n",
       "      <td>0.000518</td>\n",
       "      <td>0.275826</td>\n",
       "      <td>0.230450</td>\n",
       "      <td>0.680601</td>\n",
       "      <td>1.381370</td>\n",
       "      <td>1407</td>\n",
       "    </tr>\n",
       "    <tr>\n",
       "      <th>553</th>\n",
       "      <td>743</td>\n",
       "      <td>17.0</td>\n",
       "      <td>2286.0</td>\n",
       "      <td>0.002752</td>\n",
       "      <td>0.005463</td>\n",
       "      <td>0.012324</td>\n",
       "      <td>0.015007</td>\n",
       "      <td>0.011506</td>\n",
       "      <td>0.010475</td>\n",
       "      <td>0.016560</td>\n",
       "      <td>...</td>\n",
       "      <td>0.000751</td>\n",
       "      <td>0.000724</td>\n",
       "      <td>0.000490</td>\n",
       "      <td>0.000610</td>\n",
       "      <td>0.000519</td>\n",
       "      <td>0.331725</td>\n",
       "      <td>0.278312</td>\n",
       "      <td>0.830921</td>\n",
       "      <td>2.938875</td>\n",
       "      <td>1407</td>\n",
       "    </tr>\n",
       "    <tr>\n",
       "      <th>554</th>\n",
       "      <td>744</td>\n",
       "      <td>19.0</td>\n",
       "      <td>2286.0</td>\n",
       "      <td>0.002752</td>\n",
       "      <td>0.005463</td>\n",
       "      <td>0.012324</td>\n",
       "      <td>0.015007</td>\n",
       "      <td>0.011506</td>\n",
       "      <td>0.010475</td>\n",
       "      <td>0.016560</td>\n",
       "      <td>...</td>\n",
       "      <td>0.000751</td>\n",
       "      <td>0.000724</td>\n",
       "      <td>0.000490</td>\n",
       "      <td>0.000610</td>\n",
       "      <td>0.000519</td>\n",
       "      <td>0.331725</td>\n",
       "      <td>0.278312</td>\n",
       "      <td>0.830921</td>\n",
       "      <td>2.938875</td>\n",
       "      <td>1407</td>\n",
       "    </tr>\n",
       "  </tbody>\n",
       "</table>\n",
       "<p>6 rows × 524 columns</p>\n",
       "</div>"
      ],
      "text/plain": [
       "     Unnamed: 0  Actual Velocity  Track Section       0_x      10_x      20_x  \\\n",
       "549         739             11.0         2287.0  0.002738  0.003522  0.004387   \n",
       "550         740             13.0         2287.0  0.002738  0.003522  0.004387   \n",
       "551         741             14.0         2286.0  0.002275  0.005443  0.007341   \n",
       "552         742             16.0         2286.0  0.002275  0.005443  0.007341   \n",
       "553         743             17.0         2286.0  0.002752  0.005463  0.012324   \n",
       "554         744             19.0         2286.0  0.002752  0.005463  0.012324   \n",
       "\n",
       "         30_x      40_x      50_x      60_x  ...    2510_y    2520_y  \\\n",
       "549  0.008377  0.014554  0.011013  0.012808  ...  0.000308  0.000466   \n",
       "550  0.008377  0.014554  0.011013  0.012808  ...  0.000308  0.000466   \n",
       "551  0.010291  0.017490  0.009256  0.010632  ...  0.000358  0.000462   \n",
       "552  0.010291  0.017490  0.009256  0.010632  ...  0.000358  0.000462   \n",
       "553  0.015007  0.011506  0.010475  0.016560  ...  0.000751  0.000724   \n",
       "554  0.015007  0.011506  0.010475  0.016560  ...  0.000751  0.000724   \n",
       "\n",
       "       2530_y    2540_y    2550_y  mean_acc_y  median_y  95_acc_y  max_acc_y  \\\n",
       "549  0.000285  0.000277  0.000422    0.191980  0.157971  0.485452   0.982235   \n",
       "550  0.000285  0.000277  0.000422    0.191980  0.157971  0.485452   0.982235   \n",
       "551  0.000438  0.000464  0.000518    0.275826  0.230450  0.680601   1.381370   \n",
       "552  0.000438  0.000464  0.000518    0.275826  0.230450  0.680601   1.381370   \n",
       "553  0.000490  0.000610  0.000519    0.331725  0.278312  0.830921   2.938875   \n",
       "554  0.000490  0.000610  0.000519    0.331725  0.278312  0.830921   2.938875   \n",
       "\n",
       "     n_sec  \n",
       "549   1408  \n",
       "550   1408  \n",
       "551   1407  \n",
       "552   1407  \n",
       "553   1407  \n",
       "554   1407  \n",
       "\n",
       "[6 rows x 524 columns]"
      ]
     },
     "execution_count": 25,
     "metadata": {},
     "output_type": "execute_result"
    }
   ],
   "source": [
    "data.iloc[549:555,:]"
   ]
  },
  {
   "cell_type": "code",
   "execution_count": 3,
   "metadata": {},
   "outputs": [
    {
     "data": {
      "text/plain": [
       "0.0"
      ]
     },
     "execution_count": 3,
     "metadata": {},
     "output_type": "execute_result"
    }
   ],
   "source": [
    "data.iloc[0,2]"
   ]
  },
  {
   "cell_type": "markdown",
   "metadata": {},
   "source": [
    "next cell is a little confusing\n",
    "we scale the acceleration data (and not the target variables, actual velocity and track section)\n",
    "then we add back in the target variable speed.\n",
    "Then we split into training, test and validate datasets."
   ]
  },
  {
   "cell_type": "code",
   "execution_count": 4,
   "metadata": {},
   "outputs": [],
   "source": [
    "x = data.iloc[:,3:].values #returns a numpy array\n",
    "min_max_scaler = preprocessing.MinMaxScaler()\n",
    "x_scaled = min_max_scaler.fit_transform(x)\n",
    "d2 = pd.DataFrame(x_scaled)\n",
    "d2[\"speed\"] = data.iloc[:,1]\n",
    "d2[\"position\"] = data.iloc[:,2]\n",
    "train, validate, test = np.split(d2.sample(frac=1), [int(.6*len(d2)), int(.8*len(d2))])"
   ]
  },
  {
   "cell_type": "code",
   "execution_count": null,
   "metadata": {},
   "outputs": [],
   "source": []
  },
  {
   "cell_type": "code",
   "execution_count": 5,
   "metadata": {},
   "outputs": [
    {
     "data": {
      "text/html": [
       "<div>\n",
       "<style scoped>\n",
       "    .dataframe tbody tr th:only-of-type {\n",
       "        vertical-align: middle;\n",
       "    }\n",
       "\n",
       "    .dataframe tbody tr th {\n",
       "        vertical-align: top;\n",
       "    }\n",
       "\n",
       "    .dataframe thead th {\n",
       "        text-align: right;\n",
       "    }\n",
       "</style>\n",
       "<table border=\"1\" class=\"dataframe\">\n",
       "  <thead>\n",
       "    <tr style=\"text-align: right;\">\n",
       "      <th></th>\n",
       "      <th>0</th>\n",
       "      <th>1</th>\n",
       "      <th>2</th>\n",
       "      <th>3</th>\n",
       "      <th>4</th>\n",
       "      <th>5</th>\n",
       "      <th>6</th>\n",
       "      <th>7</th>\n",
       "      <th>8</th>\n",
       "      <th>9</th>\n",
       "      <th>...</th>\n",
       "      <th>512</th>\n",
       "      <th>513</th>\n",
       "      <th>514</th>\n",
       "      <th>515</th>\n",
       "      <th>516</th>\n",
       "      <th>517</th>\n",
       "      <th>518</th>\n",
       "      <th>519</th>\n",
       "      <th>speed</th>\n",
       "      <th>position</th>\n",
       "    </tr>\n",
       "  </thead>\n",
       "  <tbody>\n",
       "    <tr>\n",
       "      <th>3550</th>\n",
       "      <td>0.010099</td>\n",
       "      <td>0.021588</td>\n",
       "      <td>0.049999</td>\n",
       "      <td>0.088078</td>\n",
       "      <td>0.117660</td>\n",
       "      <td>0.049765</td>\n",
       "      <td>0.084076</td>\n",
       "      <td>0.067283</td>\n",
       "      <td>0.088958</td>\n",
       "      <td>0.040784</td>\n",
       "      <td>...</td>\n",
       "      <td>0.024060</td>\n",
       "      <td>0.030991</td>\n",
       "      <td>0.039655</td>\n",
       "      <td>0.022967</td>\n",
       "      <td>0.037144</td>\n",
       "      <td>0.041040</td>\n",
       "      <td>0.034307</td>\n",
       "      <td>0.005648</td>\n",
       "      <td>23.0</td>\n",
       "      <td>2199.0</td>\n",
       "    </tr>\n",
       "    <tr>\n",
       "      <th>5485</th>\n",
       "      <td>0.008576</td>\n",
       "      <td>0.009916</td>\n",
       "      <td>0.012575</td>\n",
       "      <td>0.029051</td>\n",
       "      <td>0.067485</td>\n",
       "      <td>0.026453</td>\n",
       "      <td>0.046955</td>\n",
       "      <td>0.046833</td>\n",
       "      <td>0.063882</td>\n",
       "      <td>0.031429</td>\n",
       "      <td>...</td>\n",
       "      <td>0.053903</td>\n",
       "      <td>0.103253</td>\n",
       "      <td>0.069641</td>\n",
       "      <td>0.067565</td>\n",
       "      <td>0.227454</td>\n",
       "      <td>0.252822</td>\n",
       "      <td>0.208983</td>\n",
       "      <td>0.028252</td>\n",
       "      <td>48.0</td>\n",
       "      <td>432.0</td>\n",
       "    </tr>\n",
       "    <tr>\n",
       "      <th>6333</th>\n",
       "      <td>0.007292</td>\n",
       "      <td>0.001301</td>\n",
       "      <td>0.001128</td>\n",
       "      <td>0.000434</td>\n",
       "      <td>0.000534</td>\n",
       "      <td>0.000708</td>\n",
       "      <td>0.000425</td>\n",
       "      <td>0.000290</td>\n",
       "      <td>0.000245</td>\n",
       "      <td>0.000245</td>\n",
       "      <td>...</td>\n",
       "      <td>0.000350</td>\n",
       "      <td>0.000432</td>\n",
       "      <td>0.000440</td>\n",
       "      <td>0.000302</td>\n",
       "      <td>0.000231</td>\n",
       "      <td>0.000281</td>\n",
       "      <td>0.000189</td>\n",
       "      <td>0.000022</td>\n",
       "      <td>0.0</td>\n",
       "      <td>562.0</td>\n",
       "    </tr>\n",
       "    <tr>\n",
       "      <th>8761</th>\n",
       "      <td>0.008598</td>\n",
       "      <td>0.019744</td>\n",
       "      <td>0.039594</td>\n",
       "      <td>0.044089</td>\n",
       "      <td>0.043925</td>\n",
       "      <td>0.044670</td>\n",
       "      <td>0.043309</td>\n",
       "      <td>0.048980</td>\n",
       "      <td>0.034009</td>\n",
       "      <td>0.045778</td>\n",
       "      <td>...</td>\n",
       "      <td>0.073926</td>\n",
       "      <td>0.076121</td>\n",
       "      <td>0.076406</td>\n",
       "      <td>0.083847</td>\n",
       "      <td>0.129156</td>\n",
       "      <td>0.144060</td>\n",
       "      <td>0.115538</td>\n",
       "      <td>0.021259</td>\n",
       "      <td>42.0</td>\n",
       "      <td>578.0</td>\n",
       "    </tr>\n",
       "    <tr>\n",
       "      <th>2251</th>\n",
       "      <td>0.004275</td>\n",
       "      <td>0.011459</td>\n",
       "      <td>0.052137</td>\n",
       "      <td>0.039511</td>\n",
       "      <td>0.049870</td>\n",
       "      <td>0.028937</td>\n",
       "      <td>0.038315</td>\n",
       "      <td>0.025265</td>\n",
       "      <td>0.030428</td>\n",
       "      <td>0.016046</td>\n",
       "      <td>...</td>\n",
       "      <td>0.050154</td>\n",
       "      <td>0.061178</td>\n",
       "      <td>0.055470</td>\n",
       "      <td>0.053300</td>\n",
       "      <td>0.057702</td>\n",
       "      <td>0.066268</td>\n",
       "      <td>0.051596</td>\n",
       "      <td>0.008187</td>\n",
       "      <td>35.0</td>\n",
       "      <td>4096.0</td>\n",
       "    </tr>\n",
       "  </tbody>\n",
       "</table>\n",
       "<p>5 rows × 522 columns</p>\n",
       "</div>"
      ],
      "text/plain": [
       "             0         1         2         3         4         5         6  \\\n",
       "3550  0.010099  0.021588  0.049999  0.088078  0.117660  0.049765  0.084076   \n",
       "5485  0.008576  0.009916  0.012575  0.029051  0.067485  0.026453  0.046955   \n",
       "6333  0.007292  0.001301  0.001128  0.000434  0.000534  0.000708  0.000425   \n",
       "8761  0.008598  0.019744  0.039594  0.044089  0.043925  0.044670  0.043309   \n",
       "2251  0.004275  0.011459  0.052137  0.039511  0.049870  0.028937  0.038315   \n",
       "\n",
       "             7         8         9  ...       512       513       514  \\\n",
       "3550  0.067283  0.088958  0.040784  ...  0.024060  0.030991  0.039655   \n",
       "5485  0.046833  0.063882  0.031429  ...  0.053903  0.103253  0.069641   \n",
       "6333  0.000290  0.000245  0.000245  ...  0.000350  0.000432  0.000440   \n",
       "8761  0.048980  0.034009  0.045778  ...  0.073926  0.076121  0.076406   \n",
       "2251  0.025265  0.030428  0.016046  ...  0.050154  0.061178  0.055470   \n",
       "\n",
       "           515       516       517       518       519  speed  position  \n",
       "3550  0.022967  0.037144  0.041040  0.034307  0.005648   23.0    2199.0  \n",
       "5485  0.067565  0.227454  0.252822  0.208983  0.028252   48.0     432.0  \n",
       "6333  0.000302  0.000231  0.000281  0.000189  0.000022    0.0     562.0  \n",
       "8761  0.083847  0.129156  0.144060  0.115538  0.021259   42.0     578.0  \n",
       "2251  0.053300  0.057702  0.066268  0.051596  0.008187   35.0    4096.0  \n",
       "\n",
       "[5 rows x 522 columns]"
      ]
     },
     "execution_count": 5,
     "metadata": {},
     "output_type": "execute_result"
    }
   ],
   "source": [
    "train.head()"
   ]
  },
  {
   "cell_type": "code",
   "execution_count": 6,
   "metadata": {},
   "outputs": [
    {
     "data": {
      "text/plain": [
       "81.0"
      ]
     },
     "execution_count": 6,
     "metadata": {},
     "output_type": "execute_result"
    }
   ],
   "source": [
    "train.speed.max()"
   ]
  },
  {
   "cell_type": "code",
   "execution_count": 7,
   "metadata": {},
   "outputs": [],
   "source": [
    "x_tr = torch.from_numpy(train.iloc[:,:-2].to_numpy())\n",
    "x_te = torch.from_numpy(test.iloc[:,:-2].to_numpy())\n",
    "x_va = torch.from_numpy(validate.iloc[:,:-2].to_numpy())\n",
    "\n",
    "y_tr = torch.from_numpy(train.iloc[:,-2:].to_numpy())\n",
    "y_te = torch.from_numpy(test.iloc[:,-2:].to_numpy())\n",
    "y_va = torch.from_numpy(validate.iloc[:,-2:].to_numpy())"
   ]
  },
  {
   "cell_type": "code",
   "execution_count": 8,
   "metadata": {},
   "outputs": [
    {
     "data": {
      "text/plain": [
       "torch.Size([5598, 2])"
      ]
     },
     "execution_count": 8,
     "metadata": {},
     "output_type": "execute_result"
    }
   ],
   "source": [
    "y_tr.shape"
   ]
  },
  {
   "cell_type": "code",
   "execution_count": 9,
   "metadata": {},
   "outputs": [
    {
     "data": {
      "text/plain": [
       "torch.Size([5598, 520])"
      ]
     },
     "execution_count": 9,
     "metadata": {},
     "output_type": "execute_result"
    }
   ],
   "source": [
    "x_tr.shape"
   ]
  },
  {
   "cell_type": "code",
   "execution_count": 10,
   "metadata": {},
   "outputs": [],
   "source": [
    "x_tr = x_tr.float().cuda()\n",
    "x_te = x_te.float().cuda()\n",
    "x_va = x_va.float().cuda()\n",
    "\n",
    "y_tr = y_tr.float().cuda()\n",
    "y_te = y_te.float().cuda()\n",
    "y_va = y_va.float().cuda()"
   ]
  },
  {
   "cell_type": "code",
   "execution_count": 13,
   "metadata": {},
   "outputs": [],
   "source": [
    "l_rate = 1e-5\n",
    "\n",
    "input_dim, hiden_dim, h2, h3, h4, h5, h6, output_dim = 520, 520, 250, 250, 125, 125, 30, y_tr.shape[1]\n",
    "model = torch.nn.Sequential(\n",
    "    torch.nn.Linear(input_dim, hiden_dim),\n",
    "    torch.nn.ReLU(),\n",
    "    torch.nn.Linear(hiden_dim, h2),\n",
    "    torch.nn.ReLU(),\n",
    "    torch.nn.Linear(h2, h3),\n",
    "    torch.nn.ReLU(),\n",
    "    torch.nn.Linear(h3, h4),\n",
    "    torch.nn.ReLU(),\n",
    "    torch.nn.Linear(h4, h5),\n",
    "    torch.nn.ReLU(),\n",
    "    torch.nn.Linear(h5, h6),\n",
    "    torch.nn.ReLU(),\n",
    "    torch.nn.Linear(h6, output_dim),\n",
    ")\n",
    "model.cuda()\n",
    "loss_fn = torch.nn.MSELoss(reduction=\"sum\")\n",
    "losses_train = []\n",
    "losses_test = []\n",
    "times = []"
   ]
  },
  {
   "cell_type": "code",
   "execution_count": 14,
   "metadata": {},
   "outputs": [
    {
     "name": "stdout",
     "output_type": "stream",
     "text": [
      "training error:     99  26402820096.000\n",
      "test error:         99  8811963392.000\n",
      "training error:   1099  16677101568.000\n",
      "test error:       1099  5669199872.000\n",
      "training error:   2099  16163856384.000\n",
      "test error:       2099  5502284288.000\n",
      "training error:   3099  15112667136.000\n",
      "test error:       3099  5152516096.000\n",
      "training error:   4099  9391860736.000\n",
      "test error:       4099  3236823552.000\n",
      "training error:   5099  7730492928.000\n",
      "test error:       5099  2759946240.000\n",
      "training error:   6099  7063881216.000\n",
      "test error:       6099  2588975360.000\n",
      "training error:   7099  6423940096.000\n",
      "test error:       7099  2442252288.000\n",
      "training error:   8099  5739388928.000\n",
      "test error:       8099  2290426368.000\n",
      "training error:   9099  4993655808.000\n",
      "test error:       9099  2107991168.000\n",
      "training error:  10099  4218588160.000\n",
      "test error:      10099  1919016192.000\n",
      "training error:  11099  3482713600.000\n",
      "test error:      11099  1768783616.000\n",
      "training error:  12099  2915208448.000\n",
      "test error:      12099  1706315904.000\n",
      "training error:  13099  2572475648.000\n",
      "test error:      13099  1732445440.000\n",
      "training error:  14099  2355347200.000\n",
      "test error:      14099  1789206272.000\n",
      "training error:  15099  2205829632.000\n",
      "test error:      15099  1871819264.000\n",
      "training error:  16099  2092557312.000\n",
      "test error:      16099  1958145920.000\n",
      "training error:  17099  2002639872.000\n",
      "test error:      17099  2039847168.000\n",
      "training error:  18099  1926006784.000\n",
      "test error:      18099  2106208000.000\n",
      "training error:  19099  1861547008.000\n",
      "test error:      19099  2171059712.000\n",
      "training error:  20099  1805450240.000\n",
      "test error:      20099  2251606016.000\n",
      "training error:  21099  1755371008.000\n",
      "test error:      21099  2318394880.000\n",
      "training error:  22099  1709163648.000\n",
      "test error:      22099  2411452160.000\n",
      "training error:  23099  1666617344.000\n",
      "test error:      23099  2499280896.000\n",
      "training error:  24099  1625605376.000\n",
      "test error:      24099  2601362432.000\n",
      "training error:  25099  1583886464.000\n",
      "test error:      25099  2727876608.000\n",
      "training error:  26099  1542079232.000\n",
      "test error:      26099  2875019264.000\n",
      "training error:  27099  1498792192.000\n",
      "test error:      27099  3056615424.000\n",
      "training error:  28099  1453562368.000\n",
      "test error:      28099  3267330048.000\n",
      "training error:  29099  1402355584.000\n",
      "test error:      29099  3512842496.000\n",
      "training error:  30099  1349914368.000\n",
      "test error:      30099  3782540800.000\n",
      "training error:  31099  1289928192.000\n",
      "test error:      31099  4220283136.000\n",
      "training error:  32099  1228766208.000\n",
      "test error:      32099  4792131072.000\n",
      "training error:  33099  1167419392.000\n",
      "test error:      33099  5561963008.000\n",
      "training error:  34099  1106777472.000\n",
      "test error:      34099  6674720256.000\n",
      "training error:  35099  1048230400.000\n",
      "test error:      35099  8074877952.000\n",
      "training error:  36099  990795008.000\n",
      "test error:      36099  10166616064.000\n",
      "training error:  37099  935779968.000\n",
      "test error:      37099  12779110400.000\n",
      "training error:  38099  881157504.000\n",
      "test error:      38099  16185433088.000\n",
      "training error:  39099  829474432.000\n",
      "test error:      39099  19951577088.000\n",
      "training error:  40099  784715264.000\n",
      "test error:      40099  24233850880.000\n",
      "training error:  41099  741935744.000\n",
      "test error:      41099  28688857088.000\n",
      "training error:  42099  703662208.000\n",
      "test error:      42099  33389166592.000\n",
      "training error:  43099  668776256.000\n",
      "test error:      43099  37917851648.000\n",
      "training error:  44099  637336960.000\n",
      "test error:      44099  41847836672.000\n",
      "training error:  45099  608029952.000\n",
      "test error:      45099  45686693888.000\n",
      "training error:  46099  582003392.000\n",
      "test error:      46099  49651281920.000\n",
      "training error:  47099  558023232.000\n",
      "test error:      47099  52956471296.000\n",
      "training error:  48099  535309696.000\n",
      "test error:      48099  56619831296.000\n",
      "training error:  49099  515276992.000\n",
      "test error:      49099  60149854208.000\n"
     ]
    },
    {
     "data": {
      "text/plain": [
       "<AxesSubplot:xlabel='time', ylabel='test_l'>"
      ]
     },
     "execution_count": 14,
     "metadata": {},
     "output_type": "execute_result"
    },
    {
     "data": {
      "image/png": "[encoded data removed]",
      "text/plain": [
       "<Figure size 432x288 with 1 Axes>"
      ]
     },
     "metadata": {
      "needs_background": "light"
     },
     "output_type": "display_data"
    },
    {
     "data": {
      "image/png": "[encoded data removed]",
      "text/plain": [
       "<Figure size 432x288 with 1 Axes>"
      ]
     },
     "metadata": {
      "needs_background": "light"
     },
     "output_type": "display_data"
    }
   ],
   "source": [
    "# scheduler = optim.X(optimizer,...)      # create lr scheduler\n",
    "# scheduler.step()                        # update lr at start of epoch\n",
    "# optim.lr_scheduler.X                    # where X is LambdaLR, StepLR, MultiStepLR,\n",
    "              # ExponentialLR or ReduceLROnPLateau\n",
    "learning_rate = 1e-5\n",
    "optimizer = torch.optim.Adam(model.parameters(), lr=learning_rate)\n",
    "# scheduler = torch.optim.lr_scheduler.ReduceLROnPlateau(optimizer, 'min', factor = 0.2, verbose = True)\n",
    "for t in range(50000):\n",
    "    # Forward pass: compute predicted y by passing x to the model.\n",
    "    y_pred = model(x_tr)\n",
    "\n",
    "    # Compute and print loss.\n",
    "    loss = loss_fn(y_pred, y_tr)\n",
    "    if t % 1000 == 99:\n",
    "        print(\"{:16}{:6}  {:5.3f}\".format(\"training error:\", t, loss.item()))\n",
    "        y_test = model(x_te)\n",
    "        loss_te = loss_fn(y_test, y_te)\n",
    "        print(\"{:16}{:6}  {:5.3f}\".format(\"test error:\", t, loss_te.item()))\n",
    "    if t % 100 == 99:\n",
    "#         print(\"{:16}{:6}  {:5.3f}\".format(\"training error:\", t, loss.item()))\n",
    "        y_test = model(x_te)\n",
    "        loss_te = loss_fn(y_test, y_te)\n",
    "#         print(\"{:16}{:6}  {:5.3f}\".format(\"test error:\", t, loss_te.item()))\n",
    "        losses_train.append(loss.item())\n",
    "        losses_test.append(loss_te.item())\n",
    "        times.append(t)\n",
    "\n",
    "    # Before the backward pass, use the optimizer object to zero all of the\n",
    "    # gradients for the variables it will update (which are the learnable\n",
    "    # weights of the model). This is because by default, gradients are\n",
    "    # accumulated in buffers( i.e, not overwritten) whenever .backward()\n",
    "    # is called. Checkout docs of torch.autograd.backward for more details.\n",
    "    optimizer.zero_grad()\n",
    "\n",
    "    # Backward pass: compute gradient of the loss with respect to model\n",
    "    # parameters\n",
    "    loss.backward()\n",
    "\n",
    "    # Calling the step function on an Optimizer makes an update to its\n",
    "    # parameters\n",
    "    optimizer.step()\n",
    "#     scheduler.step(loss)\n",
    "stats = pd.DataFrame({\"train_l\":losses_train, \"test_l\":losses_test, \"time\":times})\n",
    "# stats.plot(x=\"time\", y=[\"train_l\", \"test_l\"], kind=\"scatter\")\n",
    "stats.plot(x=\"time\", y=\"train_l\", kind=\"scatter\")\n",
    "stats.plot(x=\"time\", y=\"test_l\", kind=\"scatter\")"
   ]
  },
  {
   "cell_type": "code",
   "execution_count": 15,
   "metadata": {},
   "outputs": [
    {
     "data": {
      "text/plain": [
       "<AxesSubplot:xlabel='time', ylabel='test_l'>"
      ]
     },
     "execution_count": 15,
     "metadata": {},
     "output_type": "execute_result"
    },
    {
     "data": {
      "image/png": "[encoded data removed]",
      "text/plain": [
       "<Figure size 432x288 with 1 Axes>"
      ]
     },
     "metadata": {
      "needs_background": "light"
     },
     "output_type": "display_data"
    },
    {
     "data": {
      "image/png": "[encoded data removed]",
      "text/plain": [
       "<Figure size 432x288 with 1 Axes>"
      ]
     },
     "metadata": {
      "needs_background": "light"
     },
     "output_type": "display_data"
    }
   ],
   "source": [
    "stats.iloc[5:,:].plot(x=\"time\", y=\"train_l\", kind=\"scatter\")\n",
    "stats.iloc[5:,:].plot(x=\"time\", y=\"test_l\", kind=\"scatter\")"
   ]
  },
  {
   "cell_type": "code",
   "execution_count": 16,
   "metadata": {},
   "outputs": [
    {
     "data": {
      "text/plain": [
       "<AxesSubplot:xlabel='time', ylabel='test_l'>"
      ]
     },
     "execution_count": 16,
     "metadata": {},
     "output_type": "execute_result"
    },
    {
     "data": {
      "image/png": "[encoded data removed]",
      "text/plain": [
       "<Figure size 432x288 with 1 Axes>"
      ]
     },
     "metadata": {
      "needs_background": "light"
     },
     "output_type": "display_data"
    },
    {
     "data": {
      "image/png": "[encoded data removed]",
      "text/plain": [
       "<Figure size 432x288 with 1 Axes>"
      ]
     },
     "metadata": {
      "needs_background": "light"
     },
     "output_type": "display_data"
    }
   ],
   "source": [
    "stats.iloc[50:,:].plot(x=\"time\", y=\"train_l\", kind=\"scatter\")\n",
    "stats.iloc[50:,:].plot(x=\"time\", y=\"test_l\", kind=\"scatter\")"
   ]
  },
  {
   "cell_type": "code",
   "execution_count": null,
   "metadata": {},
   "outputs": [],
   "source": []
  },
  {
   "cell_type": "code",
   "execution_count": 17,
   "metadata": {},
   "outputs": [],
   "source": [
    "df1 = pd.read_csv(\"01-08-19-V118_ch1.big\" , index_col = 0)\n",
    "df2 = pd.read_csv(\"01-08-19-V118_ch2.big\" , index_col = 0)"
   ]
  },
  {
   "cell_type": "code",
   "execution_count": 18,
   "metadata": {},
   "outputs": [],
   "source": [
    "df1 = df1.reset_index()\n",
    "df2 = df2.reset_index()"
   ]
  },
  {
   "cell_type": "code",
   "execution_count": 19,
   "metadata": {},
   "outputs": [
    {
     "data": {
      "text/html": [
       "<div>\n",
       "<style scoped>\n",
       "    .dataframe tbody tr th:only-of-type {\n",
       "        vertical-align: middle;\n",
       "    }\n",
       "\n",
       "    .dataframe tbody tr th {\n",
       "        vertical-align: top;\n",
       "    }\n",
       "\n",
       "    .dataframe thead th {\n",
       "        text-align: right;\n",
       "    }\n",
       "</style>\n",
       "<table border=\"1\" class=\"dataframe\">\n",
       "  <thead>\n",
       "    <tr style=\"text-align: right;\">\n",
       "      <th></th>\n",
       "      <th>index</th>\n",
       "      <th>0_x</th>\n",
       "      <th>10_x</th>\n",
       "      <th>20_x</th>\n",
       "      <th>30_x</th>\n",
       "      <th>40_x</th>\n",
       "      <th>50_x</th>\n",
       "      <th>60_x</th>\n",
       "      <th>70_x</th>\n",
       "      <th>80_x</th>\n",
       "      <th>...</th>\n",
       "      <th>2500_y</th>\n",
       "      <th>2510_y</th>\n",
       "      <th>2520_y</th>\n",
       "      <th>2530_y</th>\n",
       "      <th>2540_y</th>\n",
       "      <th>2550_y</th>\n",
       "      <th>mean_acc_y</th>\n",
       "      <th>median_y</th>\n",
       "      <th>95_acc_y</th>\n",
       "      <th>max_acc_y</th>\n",
       "    </tr>\n",
       "  </thead>\n",
       "  <tbody>\n",
       "    <tr>\n",
       "      <th>0</th>\n",
       "      <td>0</td>\n",
       "      <td>0.002283</td>\n",
       "      <td>0.001861</td>\n",
       "      <td>0.001776</td>\n",
       "      <td>0.002652</td>\n",
       "      <td>0.004631</td>\n",
       "      <td>0.009036</td>\n",
       "      <td>0.007076</td>\n",
       "      <td>0.006394</td>\n",
       "      <td>0.007697</td>\n",
       "      <td>...</td>\n",
       "      <td>0.002245</td>\n",
       "      <td>0.001517</td>\n",
       "      <td>0.001681</td>\n",
       "      <td>0.001096</td>\n",
       "      <td>0.001384</td>\n",
       "      <td>0.001165</td>\n",
       "      <td>1.198058</td>\n",
       "      <td>0.982748</td>\n",
       "      <td>3.083282</td>\n",
       "      <td>7.179362</td>\n",
       "    </tr>\n",
       "    <tr>\n",
       "      <th>1</th>\n",
       "      <td>1</td>\n",
       "      <td>0.002964</td>\n",
       "      <td>0.002919</td>\n",
       "      <td>0.003401</td>\n",
       "      <td>0.003421</td>\n",
       "      <td>0.005504</td>\n",
       "      <td>0.007987</td>\n",
       "      <td>0.007737</td>\n",
       "      <td>0.006090</td>\n",
       "      <td>0.006359</td>\n",
       "      <td>...</td>\n",
       "      <td>0.001800</td>\n",
       "      <td>0.001058</td>\n",
       "      <td>0.001129</td>\n",
       "      <td>0.001639</td>\n",
       "      <td>0.001557</td>\n",
       "      <td>0.001575</td>\n",
       "      <td>1.226540</td>\n",
       "      <td>1.033503</td>\n",
       "      <td>3.092825</td>\n",
       "      <td>6.464596</td>\n",
       "    </tr>\n",
       "    <tr>\n",
       "      <th>2</th>\n",
       "      <td>2</td>\n",
       "      <td>0.004012</td>\n",
       "      <td>0.003644</td>\n",
       "      <td>0.004012</td>\n",
       "      <td>0.004476</td>\n",
       "      <td>0.006040</td>\n",
       "      <td>0.007929</td>\n",
       "      <td>0.008039</td>\n",
       "      <td>0.007646</td>\n",
       "      <td>0.011035</td>\n",
       "      <td>...</td>\n",
       "      <td>0.000736</td>\n",
       "      <td>0.001267</td>\n",
       "      <td>0.001046</td>\n",
       "      <td>0.001271</td>\n",
       "      <td>0.000913</td>\n",
       "      <td>0.001316</td>\n",
       "      <td>1.040367</td>\n",
       "      <td>0.884531</td>\n",
       "      <td>2.612213</td>\n",
       "      <td>5.477276</td>\n",
       "    </tr>\n",
       "    <tr>\n",
       "      <th>3</th>\n",
       "      <td>3</td>\n",
       "      <td>0.001981</td>\n",
       "      <td>0.002050</td>\n",
       "      <td>0.003021</td>\n",
       "      <td>0.002484</td>\n",
       "      <td>0.004625</td>\n",
       "      <td>0.006709</td>\n",
       "      <td>0.007154</td>\n",
       "      <td>0.006420</td>\n",
       "      <td>0.006462</td>\n",
       "      <td>...</td>\n",
       "      <td>0.001464</td>\n",
       "      <td>0.001167</td>\n",
       "      <td>0.001430</td>\n",
       "      <td>0.001136</td>\n",
       "      <td>0.001324</td>\n",
       "      <td>0.000884</td>\n",
       "      <td>1.173504</td>\n",
       "      <td>1.040558</td>\n",
       "      <td>2.719463</td>\n",
       "      <td>5.129313</td>\n",
       "    </tr>\n",
       "    <tr>\n",
       "      <th>4</th>\n",
       "      <td>4</td>\n",
       "      <td>0.001982</td>\n",
       "      <td>0.001520</td>\n",
       "      <td>0.002056</td>\n",
       "      <td>0.002422</td>\n",
       "      <td>0.006100</td>\n",
       "      <td>0.005771</td>\n",
       "      <td>0.007166</td>\n",
       "      <td>0.006682</td>\n",
       "      <td>0.012416</td>\n",
       "      <td>...</td>\n",
       "      <td>0.001787</td>\n",
       "      <td>0.001507</td>\n",
       "      <td>0.001729</td>\n",
       "      <td>0.001084</td>\n",
       "      <td>0.001341</td>\n",
       "      <td>0.001238</td>\n",
       "      <td>1.194421</td>\n",
       "      <td>0.971220</td>\n",
       "      <td>3.084037</td>\n",
       "      <td>7.484677</td>\n",
       "    </tr>\n",
       "  </tbody>\n",
       "</table>\n",
       "<p>5 rows × 521 columns</p>\n",
       "</div>"
      ],
      "text/plain": [
       "   index       0_x      10_x      20_x      30_x      40_x      50_x  \\\n",
       "0      0  0.002283  0.001861  0.001776  0.002652  0.004631  0.009036   \n",
       "1      1  0.002964  0.002919  0.003401  0.003421  0.005504  0.007987   \n",
       "2      2  0.004012  0.003644  0.004012  0.004476  0.006040  0.007929   \n",
       "3      3  0.001981  0.002050  0.003021  0.002484  0.004625  0.006709   \n",
       "4      4  0.001982  0.001520  0.002056  0.002422  0.006100  0.005771   \n",
       "\n",
       "       60_x      70_x      80_x  ...    2500_y    2510_y    2520_y    2530_y  \\\n",
       "0  0.007076  0.006394  0.007697  ...  0.002245  0.001517  0.001681  0.001096   \n",
       "1  0.007737  0.006090  0.006359  ...  0.001800  0.001058  0.001129  0.001639   \n",
       "2  0.008039  0.007646  0.011035  ...  0.000736  0.001267  0.001046  0.001271   \n",
       "3  0.007154  0.006420  0.006462  ...  0.001464  0.001167  0.001430  0.001136   \n",
       "4  0.007166  0.006682  0.012416  ...  0.001787  0.001507  0.001729  0.001084   \n",
       "\n",
       "     2540_y    2550_y  mean_acc_y  median_y  95_acc_y  max_acc_y  \n",
       "0  0.001384  0.001165    1.198058  0.982748  3.083282   7.179362  \n",
       "1  0.001557  0.001575    1.226540  1.033503  3.092825   6.464596  \n",
       "2  0.000913  0.001316    1.040367  0.884531  2.612213   5.477276  \n",
       "3  0.001324  0.000884    1.173504  1.040558  2.719463   5.129313  \n",
       "4  0.001341  0.001238    1.194421  0.971220  3.084037   7.484677  \n",
       "\n",
       "[5 rows x 521 columns]"
      ]
     },
     "execution_count": 19,
     "metadata": {},
     "output_type": "execute_result"
    }
   ],
   "source": [
    "df = pd.merge(df1, df2, how = \"outer\", on = \"index\")\n",
    "df.head()"
   ]
  },
  {
   "cell_type": "code",
   "execution_count": 20,
   "metadata": {},
   "outputs": [
    {
     "data": {
      "text/plain": [
       "tensor(0.0094, dtype=torch.float64)"
      ]
     },
     "execution_count": 20,
     "metadata": {},
     "output_type": "execute_result"
    }
   ],
   "source": [
    "x_ch = torch.from_numpy(min_max_scaler.transform(df.iloc[:,1:].values))\n",
    "x_ch[0,0]"
   ]
  },
  {
   "cell_type": "code",
   "execution_count": 21,
   "metadata": {},
   "outputs": [
    {
     "data": {
      "text/plain": [
       "tensor(0.0094)"
      ]
     },
     "execution_count": 21,
     "metadata": {},
     "output_type": "execute_result"
    }
   ],
   "source": [
    "x_ch = x_ch.float()\n",
    "x_ch[0,0]"
   ]
  },
  {
   "cell_type": "code",
   "execution_count": 22,
   "metadata": {},
   "outputs": [
    {
     "data": {
      "text/plain": [
       "tensor(0.0094, device='cuda:0')"
      ]
     },
     "execution_count": 22,
     "metadata": {},
     "output_type": "execute_result"
    }
   ],
   "source": [
    "x_ch = x_ch.to(device)\n",
    "x_ch[0,0]"
   ]
  },
  {
   "cell_type": "code",
   "execution_count": 23,
   "metadata": {},
   "outputs": [
    {
     "data": {
      "text/plain": [
       "device(type='cuda', index=0)"
      ]
     },
     "execution_count": 23,
     "metadata": {},
     "output_type": "execute_result"
    }
   ],
   "source": [
    "x_ch.device"
   ]
  },
  {
   "cell_type": "code",
   "execution_count": 24,
   "metadata": {},
   "outputs": [
    {
     "data": {
      "text/plain": [
       "torch.Size([7200, 520])"
      ]
     },
     "execution_count": 24,
     "metadata": {},
     "output_type": "execute_result"
    }
   ],
   "source": [
    "x_ch.shape"
   ]
  },
  {
   "cell_type": "code",
   "execution_count": null,
   "metadata": {},
   "outputs": [],
   "source": []
  },
  {
   "cell_type": "code",
   "execution_count": 25,
   "metadata": {},
   "outputs": [],
   "source": [
    "y_ch = model(x_ch)"
   ]
  },
  {
   "cell_type": "code",
   "execution_count": 26,
   "metadata": {},
   "outputs": [
    {
     "data": {
      "text/plain": [
       "torch.Size([7200, 2])"
      ]
     },
     "execution_count": 26,
     "metadata": {},
     "output_type": "execute_result"
    }
   ],
   "source": [
    "y_ch.shape"
   ]
  },
  {
   "cell_type": "code",
   "execution_count": 27,
   "metadata": {},
   "outputs": [
    {
     "data": {
      "text/plain": [
       "numpy.ndarray"
      ]
     },
     "execution_count": 27,
     "metadata": {},
     "output_type": "execute_result"
    }
   ],
   "source": [
    "ch_np = y_ch.cpu().detach().numpy()\n",
    "type(ch_np)"
   ]
  },
  {
   "cell_type": "code",
   "execution_count": 28,
   "metadata": {},
   "outputs": [
    {
     "data": {
      "text/plain": [
       "(7200, 2)"
      ]
     },
     "execution_count": 28,
     "metadata": {},
     "output_type": "execute_result"
    }
   ],
   "source": [
    "ch_np.shape"
   ]
  },
  {
   "cell_type": "code",
   "execution_count": 29,
   "metadata": {},
   "outputs": [],
   "source": [
    "df4 = pd.DataFrame(min_max_scaler.fit_transform(df.iloc[:,1:].values))"
   ]
  },
  {
   "cell_type": "code",
   "execution_count": 30,
   "metadata": {},
   "outputs": [
    {
     "ename": "ValueError",
     "evalue": "Wrong number of items passed 2, placement implies 1",
     "output_type": "error",
     "traceback": [
      "\u001b[1;31m---------------------------------------------------------------------------\u001b[0m",
      "\u001b[1;31mKeyError\u001b[0m                                  Traceback (most recent call last)",
      "\u001b[1;32mC:\\ProgramData\\Anaconda3\\envs\\PyTorch_37\\lib\\site-packages\\pandas\\core\\generic.py\u001b[0m in \u001b[0;36m_set_item\u001b[1;34m(self, key, value)\u001b[0m\n\u001b[0;32m   3570\u001b[0m         \u001b[1;32mtry\u001b[0m\u001b[1;33m:\u001b[0m\u001b[1;33m\u001b[0m\u001b[1;33m\u001b[0m\u001b[0m\n\u001b[1;32m-> 3571\u001b[1;33m             \u001b[0mloc\u001b[0m \u001b[1;33m=\u001b[0m \u001b[0mself\u001b[0m\u001b[1;33m.\u001b[0m\u001b[0m_info_axis\u001b[0m\u001b[1;33m.\u001b[0m\u001b[0mget_loc\u001b[0m\u001b[1;33m(\u001b[0m\u001b[0mkey\u001b[0m\u001b[1;33m)\u001b[0m\u001b[1;33m\u001b[0m\u001b[1;33m\u001b[0m\u001b[0m\n\u001b[0m\u001b[0;32m   3572\u001b[0m         \u001b[1;32mexcept\u001b[0m \u001b[0mKeyError\u001b[0m\u001b[1;33m:\u001b[0m\u001b[1;33m\u001b[0m\u001b[1;33m\u001b[0m\u001b[0m\n",
      "\u001b[1;32mC:\\ProgramData\\Anaconda3\\envs\\PyTorch_37\\lib\\site-packages\\pandas\\core\\indexes\\range.py\u001b[0m in \u001b[0;36mget_loc\u001b[1;34m(self, key, method, tolerance)\u001b[0m\n\u001b[0;32m    357\u001b[0m                     \u001b[1;32mraise\u001b[0m \u001b[0mKeyError\u001b[0m\u001b[1;33m(\u001b[0m\u001b[0mkey\u001b[0m\u001b[1;33m)\u001b[0m \u001b[1;32mfrom\u001b[0m \u001b[0merr\u001b[0m\u001b[1;33m\u001b[0m\u001b[1;33m\u001b[0m\u001b[0m\n\u001b[1;32m--> 358\u001b[1;33m             \u001b[1;32mraise\u001b[0m \u001b[0mKeyError\u001b[0m\u001b[1;33m(\u001b[0m\u001b[0mkey\u001b[0m\u001b[1;33m)\u001b[0m\u001b[1;33m\u001b[0m\u001b[1;33m\u001b[0m\u001b[0m\n\u001b[0m\u001b[0;32m    359\u001b[0m         \u001b[1;32mreturn\u001b[0m \u001b[0msuper\u001b[0m\u001b[1;33m(\u001b[0m\u001b[1;33m)\u001b[0m\u001b[1;33m.\u001b[0m\u001b[0mget_loc\u001b[0m\u001b[1;33m(\u001b[0m\u001b[0mkey\u001b[0m\u001b[1;33m,\u001b[0m \u001b[0mmethod\u001b[0m\u001b[1;33m=\u001b[0m\u001b[0mmethod\u001b[0m\u001b[1;33m,\u001b[0m \u001b[0mtolerance\u001b[0m\u001b[1;33m=\u001b[0m\u001b[0mtolerance\u001b[0m\u001b[1;33m)\u001b[0m\u001b[1;33m\u001b[0m\u001b[1;33m\u001b[0m\u001b[0m\n",
      "\u001b[1;31mKeyError\u001b[0m: ('speed', 'position')",
      "\nDuring handling of the above exception, another exception occurred:\n",
      "\u001b[1;31mValueError\u001b[0m                                Traceback (most recent call last)",
      "\u001b[1;32m<ipython-input-30-256af0a730a1>\u001b[0m in \u001b[0;36m<module>\u001b[1;34m\u001b[0m\n\u001b[1;32m----> 1\u001b[1;33m \u001b[0mdf4\u001b[0m\u001b[1;33m[\u001b[0m\u001b[1;34m\"speed\"\u001b[0m\u001b[1;33m,\u001b[0m \u001b[1;34m\"position\"\u001b[0m\u001b[1;33m]\u001b[0m \u001b[1;33m=\u001b[0m \u001b[0mch_np\u001b[0m\u001b[1;33m\u001b[0m\u001b[1;33m\u001b[0m\u001b[0m\n\u001b[0m",
      "\u001b[1;32mC:\\ProgramData\\Anaconda3\\envs\\PyTorch_37\\lib\\site-packages\\pandas\\core\\frame.py\u001b[0m in \u001b[0;36m__setitem__\u001b[1;34m(self, key, value)\u001b[0m\n\u001b[0;32m   3038\u001b[0m         \u001b[1;32melse\u001b[0m\u001b[1;33m:\u001b[0m\u001b[1;33m\u001b[0m\u001b[1;33m\u001b[0m\u001b[0m\n\u001b[0;32m   3039\u001b[0m             \u001b[1;31m# set column\u001b[0m\u001b[1;33m\u001b[0m\u001b[1;33m\u001b[0m\u001b[1;33m\u001b[0m\u001b[0m\n\u001b[1;32m-> 3040\u001b[1;33m             \u001b[0mself\u001b[0m\u001b[1;33m.\u001b[0m\u001b[0m_set_item\u001b[0m\u001b[1;33m(\u001b[0m\u001b[0mkey\u001b[0m\u001b[1;33m,\u001b[0m \u001b[0mvalue\u001b[0m\u001b[1;33m)\u001b[0m\u001b[1;33m\u001b[0m\u001b[1;33m\u001b[0m\u001b[0m\n\u001b[0m\u001b[0;32m   3041\u001b[0m \u001b[1;33m\u001b[0m\u001b[0m\n\u001b[0;32m   3042\u001b[0m     \u001b[1;32mdef\u001b[0m \u001b[0m_setitem_slice\u001b[0m\u001b[1;33m(\u001b[0m\u001b[0mself\u001b[0m\u001b[1;33m,\u001b[0m \u001b[0mkey\u001b[0m\u001b[1;33m:\u001b[0m \u001b[0mslice\u001b[0m\u001b[1;33m,\u001b[0m \u001b[0mvalue\u001b[0m\u001b[1;33m)\u001b[0m\u001b[1;33m:\u001b[0m\u001b[1;33m\u001b[0m\u001b[1;33m\u001b[0m\u001b[0m\n",
      "\u001b[1;32mC:\\ProgramData\\Anaconda3\\envs\\PyTorch_37\\lib\\site-packages\\pandas\\core\\frame.py\u001b[0m in \u001b[0;36m_set_item\u001b[1;34m(self, key, value)\u001b[0m\n\u001b[0;32m   3115\u001b[0m         \u001b[0mself\u001b[0m\u001b[1;33m.\u001b[0m\u001b[0m_ensure_valid_index\u001b[0m\u001b[1;33m(\u001b[0m\u001b[0mvalue\u001b[0m\u001b[1;33m)\u001b[0m\u001b[1;33m\u001b[0m\u001b[1;33m\u001b[0m\u001b[0m\n\u001b[0;32m   3116\u001b[0m         \u001b[0mvalue\u001b[0m \u001b[1;33m=\u001b[0m \u001b[0mself\u001b[0m\u001b[1;33m.\u001b[0m\u001b[0m_sanitize_column\u001b[0m\u001b[1;33m(\u001b[0m\u001b[0mkey\u001b[0m\u001b[1;33m,\u001b[0m \u001b[0mvalue\u001b[0m\u001b[1;33m)\u001b[0m\u001b[1;33m\u001b[0m\u001b[1;33m\u001b[0m\u001b[0m\n\u001b[1;32m-> 3117\u001b[1;33m         \u001b[0mNDFrame\u001b[0m\u001b[1;33m.\u001b[0m\u001b[0m_set_item\u001b[0m\u001b[1;33m(\u001b[0m\u001b[0mself\u001b[0m\u001b[1;33m,\u001b[0m \u001b[0mkey\u001b[0m\u001b[1;33m,\u001b[0m \u001b[0mvalue\u001b[0m\u001b[1;33m)\u001b[0m\u001b[1;33m\u001b[0m\u001b[1;33m\u001b[0m\u001b[0m\n\u001b[0m\u001b[0;32m   3118\u001b[0m \u001b[1;33m\u001b[0m\u001b[0m\n\u001b[0;32m   3119\u001b[0m         \u001b[1;31m# check if we are modifying a copy\u001b[0m\u001b[1;33m\u001b[0m\u001b[1;33m\u001b[0m\u001b[1;33m\u001b[0m\u001b[0m\n",
      "\u001b[1;32mC:\\ProgramData\\Anaconda3\\envs\\PyTorch_37\\lib\\site-packages\\pandas\\core\\generic.py\u001b[0m in \u001b[0;36m_set_item\u001b[1;34m(self, key, value)\u001b[0m\n\u001b[0;32m   3572\u001b[0m         \u001b[1;32mexcept\u001b[0m \u001b[0mKeyError\u001b[0m\u001b[1;33m:\u001b[0m\u001b[1;33m\u001b[0m\u001b[1;33m\u001b[0m\u001b[0m\n\u001b[0;32m   3573\u001b[0m             \u001b[1;31m# This item wasn't present, just insert at end\u001b[0m\u001b[1;33m\u001b[0m\u001b[1;33m\u001b[0m\u001b[1;33m\u001b[0m\u001b[0m\n\u001b[1;32m-> 3574\u001b[1;33m             \u001b[0mself\u001b[0m\u001b[1;33m.\u001b[0m\u001b[0m_mgr\u001b[0m\u001b[1;33m.\u001b[0m\u001b[0minsert\u001b[0m\u001b[1;33m(\u001b[0m\u001b[0mlen\u001b[0m\u001b[1;33m(\u001b[0m\u001b[0mself\u001b[0m\u001b[1;33m.\u001b[0m\u001b[0m_info_axis\u001b[0m\u001b[1;33m)\u001b[0m\u001b[1;33m,\u001b[0m \u001b[0mkey\u001b[0m\u001b[1;33m,\u001b[0m \u001b[0mvalue\u001b[0m\u001b[1;33m)\u001b[0m\u001b[1;33m\u001b[0m\u001b[1;33m\u001b[0m\u001b[0m\n\u001b[0m\u001b[0;32m   3575\u001b[0m             \u001b[1;32mreturn\u001b[0m\u001b[1;33m\u001b[0m\u001b[1;33m\u001b[0m\u001b[0m\n\u001b[0;32m   3576\u001b[0m \u001b[1;33m\u001b[0m\u001b[0m\n",
      "\u001b[1;32mC:\\ProgramData\\Anaconda3\\envs\\PyTorch_37\\lib\\site-packages\\pandas\\core\\internals\\managers.py\u001b[0m in \u001b[0;36minsert\u001b[1;34m(self, loc, item, value, allow_duplicates)\u001b[0m\n\u001b[0;32m   1187\u001b[0m             \u001b[0mvalue\u001b[0m \u001b[1;33m=\u001b[0m \u001b[0m_safe_reshape\u001b[0m\u001b[1;33m(\u001b[0m\u001b[0mvalue\u001b[0m\u001b[1;33m,\u001b[0m \u001b[1;33m(\u001b[0m\u001b[1;36m1\u001b[0m\u001b[1;33m,\u001b[0m\u001b[1;33m)\u001b[0m \u001b[1;33m+\u001b[0m \u001b[0mvalue\u001b[0m\u001b[1;33m.\u001b[0m\u001b[0mshape\u001b[0m\u001b[1;33m)\u001b[0m\u001b[1;33m\u001b[0m\u001b[1;33m\u001b[0m\u001b[0m\n\u001b[0;32m   1188\u001b[0m \u001b[1;33m\u001b[0m\u001b[0m\n\u001b[1;32m-> 1189\u001b[1;33m         \u001b[0mblock\u001b[0m \u001b[1;33m=\u001b[0m \u001b[0mmake_block\u001b[0m\u001b[1;33m(\u001b[0m\u001b[0mvalues\u001b[0m\u001b[1;33m=\u001b[0m\u001b[0mvalue\u001b[0m\u001b[1;33m,\u001b[0m \u001b[0mndim\u001b[0m\u001b[1;33m=\u001b[0m\u001b[0mself\u001b[0m\u001b[1;33m.\u001b[0m\u001b[0mndim\u001b[0m\u001b[1;33m,\u001b[0m \u001b[0mplacement\u001b[0m\u001b[1;33m=\u001b[0m\u001b[0mslice\u001b[0m\u001b[1;33m(\u001b[0m\u001b[0mloc\u001b[0m\u001b[1;33m,\u001b[0m \u001b[0mloc\u001b[0m \u001b[1;33m+\u001b[0m \u001b[1;36m1\u001b[0m\u001b[1;33m)\u001b[0m\u001b[1;33m)\u001b[0m\u001b[1;33m\u001b[0m\u001b[1;33m\u001b[0m\u001b[0m\n\u001b[0m\u001b[0;32m   1190\u001b[0m \u001b[1;33m\u001b[0m\u001b[0m\n\u001b[0;32m   1191\u001b[0m         \u001b[1;32mfor\u001b[0m \u001b[0mblkno\u001b[0m\u001b[1;33m,\u001b[0m \u001b[0mcount\u001b[0m \u001b[1;32min\u001b[0m \u001b[0m_fast_count_smallints\u001b[0m\u001b[1;33m(\u001b[0m\u001b[0mself\u001b[0m\u001b[1;33m.\u001b[0m\u001b[0mblknos\u001b[0m\u001b[1;33m[\u001b[0m\u001b[0mloc\u001b[0m\u001b[1;33m:\u001b[0m\u001b[1;33m]\u001b[0m\u001b[1;33m)\u001b[0m\u001b[1;33m:\u001b[0m\u001b[1;33m\u001b[0m\u001b[1;33m\u001b[0m\u001b[0m\n",
      "\u001b[1;32mC:\\ProgramData\\Anaconda3\\envs\\PyTorch_37\\lib\\site-packages\\pandas\\core\\internals\\blocks.py\u001b[0m in \u001b[0;36mmake_block\u001b[1;34m(values, placement, klass, ndim, dtype)\u001b[0m\n\u001b[0;32m   2717\u001b[0m         \u001b[0mvalues\u001b[0m \u001b[1;33m=\u001b[0m \u001b[0mDatetimeArray\u001b[0m\u001b[1;33m.\u001b[0m\u001b[0m_simple_new\u001b[0m\u001b[1;33m(\u001b[0m\u001b[0mvalues\u001b[0m\u001b[1;33m,\u001b[0m \u001b[0mdtype\u001b[0m\u001b[1;33m=\u001b[0m\u001b[0mdtype\u001b[0m\u001b[1;33m)\u001b[0m\u001b[1;33m\u001b[0m\u001b[1;33m\u001b[0m\u001b[0m\n\u001b[0;32m   2718\u001b[0m \u001b[1;33m\u001b[0m\u001b[0m\n\u001b[1;32m-> 2719\u001b[1;33m     \u001b[1;32mreturn\u001b[0m \u001b[0mklass\u001b[0m\u001b[1;33m(\u001b[0m\u001b[0mvalues\u001b[0m\u001b[1;33m,\u001b[0m \u001b[0mndim\u001b[0m\u001b[1;33m=\u001b[0m\u001b[0mndim\u001b[0m\u001b[1;33m,\u001b[0m \u001b[0mplacement\u001b[0m\u001b[1;33m=\u001b[0m\u001b[0mplacement\u001b[0m\u001b[1;33m)\u001b[0m\u001b[1;33m\u001b[0m\u001b[1;33m\u001b[0m\u001b[0m\n\u001b[0m\u001b[0;32m   2720\u001b[0m \u001b[1;33m\u001b[0m\u001b[0m\n\u001b[0;32m   2721\u001b[0m \u001b[1;33m\u001b[0m\u001b[0m\n",
      "\u001b[1;32mC:\\ProgramData\\Anaconda3\\envs\\PyTorch_37\\lib\\site-packages\\pandas\\core\\internals\\blocks.py\u001b[0m in \u001b[0;36m__init__\u001b[1;34m(self, values, placement, ndim)\u001b[0m\n\u001b[0;32m    128\u001b[0m         \u001b[1;32mif\u001b[0m \u001b[0mself\u001b[0m\u001b[1;33m.\u001b[0m\u001b[0m_validate_ndim\u001b[0m \u001b[1;32mand\u001b[0m \u001b[0mself\u001b[0m\u001b[1;33m.\u001b[0m\u001b[0mndim\u001b[0m \u001b[1;32mand\u001b[0m \u001b[0mlen\u001b[0m\u001b[1;33m(\u001b[0m\u001b[0mself\u001b[0m\u001b[1;33m.\u001b[0m\u001b[0mmgr_locs\u001b[0m\u001b[1;33m)\u001b[0m \u001b[1;33m!=\u001b[0m \u001b[0mlen\u001b[0m\u001b[1;33m(\u001b[0m\u001b[0mself\u001b[0m\u001b[1;33m.\u001b[0m\u001b[0mvalues\u001b[0m\u001b[1;33m)\u001b[0m\u001b[1;33m:\u001b[0m\u001b[1;33m\u001b[0m\u001b[1;33m\u001b[0m\u001b[0m\n\u001b[0;32m    129\u001b[0m             raise ValueError(\n\u001b[1;32m--> 130\u001b[1;33m                 \u001b[1;34mf\"Wrong number of items passed {len(self.values)}, \"\u001b[0m\u001b[1;33m\u001b[0m\u001b[1;33m\u001b[0m\u001b[0m\n\u001b[0m\u001b[0;32m    131\u001b[0m                 \u001b[1;34mf\"placement implies {len(self.mgr_locs)}\"\u001b[0m\u001b[1;33m\u001b[0m\u001b[1;33m\u001b[0m\u001b[0m\n\u001b[0;32m    132\u001b[0m             )\n",
      "\u001b[1;31mValueError\u001b[0m: Wrong number of items passed 2, placement implies 1"
     ]
    }
   ],
   "source": [
    "df4[\"speed\", \"position\"] = ch_np"
   ]
  },
  {
   "cell_type": "code",
   "execution_count": null,
   "metadata": {},
   "outputs": [],
   "source": [
    "df4.head()"
   ]
  },
  {
   "cell_type": "code",
   "execution_count": null,
   "metadata": {},
   "outputs": [],
   "source": []
  },
  {
   "cell_type": "code",
   "execution_count": null,
   "metadata": {},
   "outputs": [],
   "source": [
    "import seaborn as sb\n",
    "import matplotlib.pyplot as plt"
   ]
  },
  {
   "cell_type": "code",
   "execution_count": null,
   "metadata": {},
   "outputs": [],
   "source": []
  },
  {
   "cell_type": "code",
   "execution_count": null,
   "metadata": {},
   "outputs": [],
   "source": [
    "plotdf = df4.reset_index()"
   ]
  },
  {
   "cell_type": "code",
   "execution_count": null,
   "metadata": {},
   "outputs": [],
   "source": [
    "plotdf.head()"
   ]
  },
  {
   "cell_type": "code",
   "execution_count": null,
   "metadata": {},
   "outputs": [],
   "source": [
    "plt.figure(figsize= (30, 30))\n",
    "g = sb.scatterplot(x = \"index\", y = \"speed\", data = plotdf, alpha = 0.2, color =\"b\")\n",
    "g = sb.scatterplot(x = \"index\", y = data.iloc[:,-2], data = plotdf, alpha = 0.2, color =\"r\")"
   ]
  },
  {
   "cell_type": "code",
   "execution_count": null,
   "metadata": {},
   "outputs": [],
   "source": [
    "plt.figure(figsize= (30, 30))\n",
    "sb.lineplot(x = \"index\", y = \"speed\", data = plotdf.iloc[0:1000,:], color =\"b\")\n",
    "# sb.lineplot(x = \"index\", y = \"speed\", data = plotdf.iloc[0:1000,:], alpha = 0.2, color =\"b\")"
   ]
  },
  {
   "cell_type": "code",
   "execution_count": null,
   "metadata": {},
   "outputs": [],
   "source": [
    "plt.figure(figsize= (30, 30))\n",
    "g = sb.lineplot(x = \"index\", y = \"speed\", data = plotdf, alpha = 0.2, color =\"b\")\n",
    "g = sb.lineplot(x = \"index\", y = data.iloc[:,-2], data = plotdf, alpha = 0.2, color =\"r\")"
   ]
  },
  {
   "cell_type": "code",
   "execution_count": null,
   "metadata": {},
   "outputs": [],
   "source": []
  },
  {
   "cell_type": "code",
   "execution_count": null,
   "metadata": {},
   "outputs": [],
   "source": []
  },
  {
   "cell_type": "code",
   "execution_count": null,
   "metadata": {},
   "outputs": [],
   "source": []
  }
 ],
 "metadata": {
  "kernelspec": {
   "display_name": "Python 3",
   "language": "python",
   "name": "python3"
  },
  "language_info": {
   "codemirror_mode": {
    "name": "ipython",
    "version": 3
   },
   "file_extension": ".py",
   "mimetype": "text/x-python",
   "name": "python",
   "nbconvert_exporter": "python",
   "pygments_lexer": "ipython3",
   "version": "3.8.6"
  }
 },
 "nbformat": 4,
 "nbformat_minor": 4
}
