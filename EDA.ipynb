{
 "cells": [
  {
   "cell_type": "code",
   "execution_count": 1,
   "metadata": {},
   "outputs": [],
   "source": [
    "import pandas as pd\n",
    "import matplotlib.pyplot as plt\n",
    "import seaborn as sb\n",
    "import numpy as np\n",
    "import os\n",
    "import re\n",
    "import scipy as sci\n"
   ]
  },
  {
   "cell_type": "code",
   "execution_count": 2,
   "metadata": {},
   "outputs": [],
   "source": [
    "def list_o_list(big_list, lil_size):\n",
    "    l_o_l = []\n",
    "    for i in range(0, len(big_list), lil_size):\n",
    "        lil = big_list[i : min(i + lil_size, len(big_list))]\n",
    "        l_o_l.append(lil)\n",
    "    return(l_o_l)"
   ]
  },
  {
   "cell_type": "code",
   "execution_count": 3,
   "metadata": {},
   "outputs": [
    {
     "name": "stdout",
     "output_type": "stream",
     "text": [
      "[[1, 5, 9, 13, 17, 21, 25, 29]]\n"
     ]
    }
   ],
   "source": [
    "test_list  = list(range(1,33,4))\n",
    "test_chop = 9\n",
    "print(list_o_list(test_list, test_chop))\n"
   ]
  },
  {
   "cell_type": "code",
   "execution_count": 4,
   "metadata": {},
   "outputs": [
    {
     "data": {
      "text/plain": [
       "['.git',\n",
       " '.gitignore',\n",
       " '.ipynb_checkpoints',\n",
       " '01-08-19-V118',\n",
       " '03-05-19-V118',\n",
       " '03-26-19-V118',\n",
       " '08-14-18-V118',\n",
       " 'EDA.ipynb',\n",
       " 'GPS Files',\n",
       " 'July 6, 2020 Vehicle 118 Expo Line Test Train Data.xlsx',\n",
       " 'Skytrain Linear Asset Database - Consolidated.xlsx',\n",
       " 'SMC DATALOG FOR MAR. 5 TEST TRAIN 118-6.xlsx',\n",
       " 'Switch Maint Works to date - April 2019.xlsx',\n",
       " 'Test Train Sample Noise Data',\n",
       " 'Test Train Sample Noise Data.zip']"
      ]
     },
     "execution_count": 4,
     "metadata": {},
     "output_type": "execute_result"
    }
   ],
   "source": [
    "os.listdir()"
   ]
  },
  {
   "cell_type": "code",
   "execution_count": 5,
   "metadata": {},
   "outputs": [],
   "source": [
    "home = os.getcwd()\n"
   ]
  },
  {
   "cell_type": "code",
   "execution_count": 6,
   "metadata": {},
   "outputs": [
    {
     "data": {
      "text/plain": [
       "'C:\\\\Users\\\\tnank\\\\Documents\\\\GitHub\\\\project-sturm_drang\\\\03-05-19-V118'"
      ]
     },
     "execution_count": 6,
     "metadata": {},
     "output_type": "execute_result"
    }
   ],
   "source": [
    "os.chdir(\"03-05-19-V118\")\n",
    "os.getcwd()"
   ]
  },
  {
   "cell_type": "code",
   "execution_count": 7,
   "metadata": {},
   "outputs": [],
   "source": [
    "files = os.listdir()\n",
    "csv_files = []\n",
    "for n in files:\n",
    "    if re.search(\".csv\", n):\n",
    "        csv_files.append(n)"
   ]
  },
  {
   "cell_type": "code",
   "execution_count": null,
   "metadata": {},
   "outputs": [],
   "source": []
  },
  {
   "cell_type": "code",
   "execution_count": null,
   "metadata": {},
   "outputs": [],
   "source": [
    "df = pd.read_csv(csv_files[0], header=15, names=[\"time\", \"acceleration_a\"])\n",
    "df.head()\n",
    "df2 = pd.read_csv(csv_files[1], header=15, names=[\"time\", \"acceleration_b\"])\n",
    "df2.head()\n",
    "raw = pd.merge(left=df, right=df2, how = \"outer\")"
   ]
  },
  {
   "cell_type": "code",
   "execution_count": null,
   "metadata": {},
   "outputs": [],
   "source": [
    "del df\n",
    "del df2"
   ]
  },
  {
   "cell_type": "markdown",
   "metadata": {},
   "source": [
    "find the relationship between velocity and amplitude\n",
    "then use the sections of higher quality gps signal to establish the realtionship between velocity and amplitude.\n",
    "\n",
    "try on 20-30 second fourier transform.\n",
    "\n",
    "try using\n",
    "\n",
    "power spectrum/frequency analysis of each accelerometer.\n",
    "\n",
    "clustering (historical and spacial) expect 5(ish) clusters, stoped, linear tavel, cornering, acceleration/decceleration. (curve radius)  engine/motor (also wheel constant) effects. \n",
    "\n",
    "silhouete\n",
    "\n",
    "break all data files down to one particular consistent section of track\n",
    "\n",
    "decision tree model for velocity (gps) prediction\n",
    "\n",
    "first intergral of low frequency acceleration may give velocity.\n",
    "\n"
   ]
  },
  {
   "cell_type": "code",
   "execution_count": null,
   "metadata": {},
   "outputs": [],
   "source": [
    "\n",
    "sb.scatterplot(x=\"time\", y=\"acceleration_a\", data= raw.loc[raw.time<600,:])"
   ]
  },
  {
   "cell_type": "code",
   "execution_count": null,
   "metadata": {},
   "outputs": [],
   "source": [
    "raw.info()"
   ]
  },
  {
   "cell_type": "code",
   "execution_count": null,
   "metadata": {},
   "outputs": [],
   "source": [
    "raw.describe()"
   ]
  },
  {
   "cell_type": "code",
   "execution_count": null,
   "metadata": {},
   "outputs": [],
   "source": [
    "plt.figure(figsize=(25,10))\n",
    "sb.scatterplot(x=\"time\", y=\"acceleration_a\", data = raw.loc[raw.time<300,:], alpha=0.2)\n",
    "sb.scatterplot(x=\"time\", y=\"acceleration_b\", data = raw.loc[raw.time<300,:], alpha=0.2)\n",
    "plt.show()"
   ]
  },
  {
   "cell_type": "markdown",
   "metadata": {},
   "source": [
    "take first 25 mins for saftey then identify terminus \n",
    "abreviate to stoped in yard to stopped in terminus\n"
   ]
  },
  {
   "cell_type": "code",
   "execution_count": null,
   "metadata": {},
   "outputs": [],
   "source": [
    "safe_len =60*25\n",
    "dev = raw.loc[raw.time<safe_len,:]"
   ]
  },
  {
   "cell_type": "code",
   "execution_count": null,
   "metadata": {},
   "outputs": [],
   "source": [
    "plt.figure(figsize=(25,10))\n",
    "sb.scatterplot(x=\"time\", y=\"acceleration_a\", data = dev, alpha=0.2)\n",
    "sb.scatterplot(x=\"time\", y=\"acceleration_b\", data = dev, alpha=0.2)\n",
    "plt.show()"
   ]
  },
  {
   "cell_type": "code",
   "execution_count": null,
   "metadata": {},
   "outputs": [],
   "source": [
    "safe_len"
   ]
  },
  {
   "cell_type": "code",
   "execution_count": null,
   "metadata": {},
   "outputs": [],
   "source": [
    "safe_len/60\n"
   ]
  },
  {
   "cell_type": "code",
   "execution_count": null,
   "metadata": {},
   "outputs": [],
   "source": [
    "dev.info()"
   ]
  },
  {
   "cell_type": "code",
   "execution_count": null,
   "metadata": {},
   "outputs": [],
   "source": [
    "dev[\"abs_a\"] = dev[\"acceleration_a\"].abs()\n",
    "dev[\"abs_b\"] = dev.acceleration_b.abs()\n",
    "dev.describe()"
   ]
  },
  {
   "cell_type": "code",
   "execution_count": null,
   "metadata": {},
   "outputs": [],
   "source": [
    "cols = list(dev.columns)\n",
    "cols.remove(\"time\")\n",
    "plt.figure(figsize=(25,10))\n",
    "for n in cols:\n",
    "    sb.scatterplot(x=\"time\", y=n, data=dev.loc[dev.time <1800,:], alpha=0.2)\n",
    "plt.show()"
   ]
  },
  {
   "cell_type": "code",
   "execution_count": null,
   "metadata": {},
   "outputs": [],
   "source": [
    "y_a = np.fft.fft(dev.acceleration_a)"
   ]
  },
  {
   "cell_type": "code",
   "execution_count": null,
   "metadata": {},
   "outputs": [],
   "source": [
    "type(y_a)"
   ]
  },
  {
   "cell_type": "code",
   "execution_count": null,
   "metadata": {},
   "outputs": [],
   "source": [
    "len(y_a)"
   ]
  },
  {
   "cell_type": "code",
   "execution_count": null,
   "metadata": {},
   "outputs": [],
   "source": [
    "len(dev)"
   ]
  },
  {
   "cell_type": "code",
   "execution_count": null,
   "metadata": {},
   "outputs": [],
   "source": [
    "plt.scatter(np.arange(0 , len(y_a)), y_a)\n",
    "plt.show()\n",
    "#chunk = raw.loc[(raw.time>3600)&(raw.time<4200),:]\n",
    "chunk = raw.copy()"
   ]
  },
  {
   "cell_type": "code",
   "execution_count": null,
   "metadata": {},
   "outputs": [],
   "source": [
    "chunk.info()"
   ]
  },
  {
   "cell_type": "code",
   "execution_count": null,
   "metadata": {},
   "outputs": [],
   "source": [
    "p2 = abs(y_a/len(dev))\n"
   ]
  },
  {
   "cell_type": "code",
   "execution_count": null,
   "metadata": {},
   "outputs": [],
   "source": [
    "# Python example - Fourier transform using numpy.fft method\n",
    "\n",
    "import numpy as np\n",
    "\n",
    "import matplotlib.pyplot as plotter\n",
    "\n",
    " \n",
    "\n",
    "# How many time points are needed i,e., Sampling Frequency\n",
    "\n",
    "samplingFrequency   = 100;\n",
    "\n",
    " \n",
    "\n",
    "# At what intervals time points are sampled\n",
    "\n",
    "samplingInterval       = 1 / samplingFrequency;\n",
    "\n",
    " \n",
    "\n",
    "# Begin time period of the signals\n",
    "\n",
    "beginTime           = 0;\n",
    "\n",
    " \n",
    "\n",
    "# End time period of the signals\n",
    "\n",
    "endTime             = 10; \n",
    "\n",
    " \n",
    "\n",
    "# Frequency of the signals\n",
    "\n",
    "signal1Frequency     = 4;\n",
    "\n",
    "signal2Frequency     = 7;\n",
    "\n",
    " \n",
    "\n",
    "# Time points\n",
    "\n",
    "time        = np.arange(beginTime, endTime, samplingInterval);\n",
    "\n",
    " \n",
    "\n",
    "# Create two sine waves\n",
    "\n",
    "amplitude1 = np.sin(2*np.pi*signal1Frequency*time)\n",
    "\n",
    "amplitude2 = np.sin(2*np.pi*signal2Frequency*time)\n",
    "\n",
    " \n",
    "\n",
    "# Create subplot\n",
    "\n",
    "figure, axis = plotter.subplots(4, 1)\n",
    "\n",
    "plotter.subplots_adjust(hspace=1)\n",
    "\n",
    " \n",
    "\n",
    "# Time domain representation for sine wave 1\n",
    "\n",
    "axis[0].set_title('Sine wave with a frequency of 4 Hz')\n",
    "\n",
    "axis[0].plot(time, amplitude1)\n",
    "\n",
    "axis[0].set_xlabel('Time')\n",
    "\n",
    "axis[0].set_ylabel('Amplitude')\n",
    "\n",
    " \n",
    "\n",
    " \n",
    "\n",
    "# Time domain representation for sine wave 2\n",
    "\n",
    "axis[1].set_title('Sine wave with a frequency of 7 Hz')\n",
    "\n",
    "axis[1].plot(time, amplitude2)\n",
    "\n",
    "axis[1].set_xlabel('Time')\n",
    "\n",
    "axis[1].set_ylabel('Amplitude')\n",
    "\n",
    " \n",
    "\n",
    "# Add the sine waves\n",
    "\n",
    "amplitude = amplitude1 + amplitude2\n",
    "\n",
    " \n",
    "\n",
    "# Time domain representation of the resultant sine wave\n",
    "\n",
    "axis[2].set_title('Sine wave with multiple frequencies')\n",
    "\n",
    "axis[2].plot(time, amplitude)\n",
    "\n",
    "axis[2].set_xlabel('Time')\n",
    "\n",
    "axis[2].set_ylabel('Amplitude')\n",
    "\n",
    " \n",
    "\n",
    "# Frequency domain representation\n",
    "\n",
    "fourierTransform = np.fft.fft(amplitude)/len(amplitude)           # Normalize amplitude\n",
    "\n",
    "fourierTransform = fourierTransform[range(int(len(amplitude)/2))] # Exclude sampling frequency\n",
    "\n",
    " \n",
    "\n",
    "tpCount     = len(amplitude)\n",
    "\n",
    "values      = np.arange(int(tpCount/2))\n",
    "\n",
    "timePeriod  = tpCount/samplingFrequency\n",
    "\n",
    "frequencies = values/timePeriod\n",
    "\n",
    " \n",
    "\n",
    "# Frequency domain representation\n",
    "\n",
    "axis[3].set_title('Fourier transform depicting the frequency components')\n",
    "\n",
    " \n",
    "\n",
    "axis[3].plot(frequencies, abs(fourierTransform))\n",
    "\n",
    "axis[3].set_xlabel('Frequency')\n",
    "\n",
    "axis[3].set_ylabel('Amplitude')\n",
    "\n",
    " \n",
    "\n",
    "plotter.show()"
   ]
  },
  {
   "cell_type": "code",
   "execution_count": null,
   "metadata": {},
   "outputs": [],
   "source": [
    "# Python example - Fourier transform using numpy.fft method\n",
    "\n",
    "import numpy as np\n",
    "\n",
    "import matplotlib.pyplot as plotter\n",
    "\n",
    " \n",
    "\n",
    "# How many time points are needed i,e., Sampling Frequency\n",
    "\n",
    "samplingFrequency   = 5120;\n",
    "\n",
    " \n",
    "\n",
    "# At what intervals time points are sampled\n",
    "\n",
    "samplingInterval       = 1 / samplingFrequency;\n",
    "\n",
    " \n",
    "\n",
    "# Begin time period of the signals\n",
    "\n",
    "beginTime           = 1830;\n",
    "\n",
    " \n",
    "\n",
    "# End time period of the signals\n",
    "\n",
    "endTime             = 1835; \n",
    "\n",
    " \n",
    "\n",
    "# Frequency of the signals\n",
    "\n",
    "signal1Frequency     = 4;\n",
    "\n",
    "signal2Frequency     = 7;\n",
    "\n",
    " \n",
    "\n",
    "# Time points\n",
    "\n",
    "time        = np.arange(beginTime, endTime, samplingInterval);\n",
    "print(len(time))\n",
    "print(1800*5120)\n",
    "\n",
    " \n",
    "\n",
    "# Create two sine waves\n",
    "\n",
    "amplitude1 = np.sin(2*np.pi*signal1Frequency*time)\n",
    "\n",
    "amplitude2 = np.sin(2*np.pi*signal2Frequency*time)\n",
    "\n",
    " \n",
    "\n",
    "# Create subplot\n",
    "\n",
    "\n",
    "\n",
    " \n",
    "\n",
    "\n",
    "\n",
    " \n",
    "\n",
    "# Add the sine waves\n",
    "\n",
    "amplitude = chunk.loc[(chunk.time<endTime)&(chunk.time>beginTime),\"acceleration_a\"]\n",
    "\n",
    " \n",
    "\n",
    "# Time domain representation of the resultant sine wave\n",
    "\n",
    "\n",
    " \n",
    "\n",
    "# Frequency domain representation\n",
    "\n",
    "fourierTransform = np.fft.fft(amplitude)/len(amplitude)           # Normalize amplitude\n",
    "\n",
    "fourierTransform = fourierTransform[range(int(len(amplitude)/2))] # Exclude sampling frequency\n",
    "\n",
    " \n",
    "\n",
    "tpCount     = len(amplitude)\n",
    "\n",
    "values      = np.arange(int(tpCount/2))\n",
    "\n",
    "timePeriod  = tpCount/samplingFrequency\n",
    "\n",
    "frequencies = values/timePeriod\n",
    "\n",
    " \n",
    "\n",
    "# Frequency domain representation\n",
    "\n",
    "\n",
    "plt.figure(figsize=(15,10))\n",
    "sb.scatterplot(frequencies, abs(fourierTransform), alpha =0.2)\n",
    "\n",
    "plt.show()\n",
    "plt.figure(figsize=(15,10))\n",
    "sb.scatterplot(x=\"time\", y=\"acceleration_a\", data=chunk.loc[(chunk.time<endTime)&(chunk.time>beginTime),:], alpha = 0.2)\n",
    "plt.show()\n",
    "\n",
    "feq = pd.DataFrame(data = {\"freq\":frequencies})"
   ]
  },
  {
   "cell_type": "markdown",
   "metadata": {},
   "source": []
  },
  {
   "cell_type": "code",
   "execution_count": null,
   "metadata": {},
   "outputs": [],
   "source": [
    "a,b = freq_analysis(sample = chunk.loc[(chunk.time<endTime)&(chunk.time>beginTime),\"acceleration_a\"], time = endTime - beginTime, sampfrq = 5120, responsefrq= 1)\n",
    "\n",
    "sb.scatterplot(x=a, y=b, alpha=0.2)"
   ]
  },
  {
   "cell_type": "code",
   "execution_count": null,
   "metadata": {},
   "outputs": [],
   "source": [
    "feq.info()\n",
    "feq[\"amp\"] = abs(fourierTransform)"
   ]
  },
  {
   "cell_type": "code",
   "execution_count": null,
   "metadata": {},
   "outputs": [],
   "source": [
    "print(feq.loc[feq.amp>0.0005,:])\n",
    "freqs = np.arange(0, 1 + int(feq.freq.max()), 1)\n",
    "amps = []\n",
    "for n in freqs:\n",
    "    cu = feq.loc[(feq.freq > n ) & (feq.freq <= n + 1),\"amp\"].sum()\n",
    "    amps.append(cu)\n",
    "sum_feq = pd.DataFrame( data = {\"frequency\":freqs, \"amplitude\":amps})\n",
    "\n",
    "plt.figure(figsize=(15,10))\n",
    "sb.scatterplot(x= \"frequency\", y = \"amplitude\", data=sum_feq, alpha = 0.2)\n",
    "plt.show()\n",
    "print(sum_feq.loc[sum_feq.amplitude>0.01,:])\n",
    "sum_feq.head()\n"
   ]
  },
  {
   "cell_type": "code",
   "execution_count": null,
   "metadata": {},
   "outputs": [],
   "source": [
    "a,b = freq_analysis(sample = chunk.loc[(chunk.time<endTime)&(chunk.time>beginTime),\"acceleration_a\"], time = endTime - beginTime, sampfrq = 5120, responsefrq= 10)\n",
    "\n",
    "print(len(a), len(b))\n"
   ]
  },
  {
   "cell_type": "code",
   "execution_count": null,
   "metadata": {},
   "outputs": [],
   "source": [
    "b[0:15]"
   ]
  },
  {
   "cell_type": "code",
   "execution_count": null,
   "metadata": {},
   "outputs": [],
   "source": [
    "def freq_analysis(sample , time, responsefrq =1, sampfrq=5120):\n",
    "    frqs = \"\"\n",
    "    amps = []\n",
    "    samp_int = 1/sampfrq\n",
    "    ft = np.fft.fft(sample)/len(sample)\n",
    "    ft = ft[range(int(len(sample)/2))]\n",
    "    tpCount = len(sample)\n",
    "    values = np.arange(int(tpCount/2))\n",
    "    timePeriod = tpCount/samplingFrequency\n",
    "    frequencies = values/timePeriod\n",
    "    ft = abs(ft)\n",
    "    print(len(ft))\n",
    "    print(len(frequencies))\n",
    "    feq = pd.DataFrame(data = {\"freq\":frequencies})\n",
    "    \n",
    "    feq[\"amp\"] = ft\n",
    "    \n",
    "    frqs = np.arange(0, 1 + int(feq.freq.max()), responsefrq)\n",
    "    print(len(frqs))\n",
    "    for n in freqs:\n",
    "        cu = feq.loc[(feq.freq > n ) & (feq.freq <= n + responsefrq),\"amp\"].sum()\n",
    "        if len(cu) > 1:\n",
    "            print(\"borked\")\n",
    "        amps.append(cu)\n",
    "    \n",
    "    return(frqs, amps)"
   ]
  },
  {
   "cell_type": "code",
   "execution_count": null,
   "metadata": {},
   "outputs": [],
   "source": [
    "plt.figure(figsize=(20,20))\n",
    "sb.scatterplot(x = \"time\", y = \"acceleration_a\", data = chunk, alpha= 0.2)\n",
    "plt.show()"
   ]
  },
  {
   "cell_type": "code",
   "execution_count": null,
   "metadata": {},
   "outputs": [],
   "source": [
    "type(fourierTransform)\n",
    "len(fourierTransform)"
   ]
  },
  {
   "cell_type": "code",
   "execution_count": null,
   "metadata": {},
   "outputs": [],
   "source": [
    "plt.figure(figsize=(15,10))\n",
    "sb.scatterplot(frequencies, abs(fourierTransform), alpha =0.2)\n",
    "\n",
    "plt.show()\n",
    "plt.figure(figsize=(15,10))\n",
    "sb.scatterplot(x = \"time\", y = \"acceleration_a\", data=chunk.loc[(chunk.time<endTime)&(chunk.time>beginTime),:], alpha = 0.2)\n",
    "plt.show()"
   ]
  },
  {
   "cell_type": "code",
   "execution_count": null,
   "metadata": {},
   "outputs": [],
   "source": [
    "print(dev.loc[(dev.time >0.995) & (dev.time < 1.005),:])"
   ]
  },
  {
   "cell_type": "code",
   "execution_count": null,
   "metadata": {},
   "outputs": [],
   "source": [
    "chunk.info()"
   ]
  },
  {
   "cell_type": "code",
   "execution_count": null,
   "metadata": {},
   "outputs": [],
   "source": [
    "range(int(len(amplitude)/2))"
   ]
  },
  {
   "cell_type": "code",
   "execution_count": null,
   "metadata": {},
   "outputs": [],
   "source": [
    "chunk.plot(y=\"time\")\n",
    "plt.show()\n",
    "print(chunk.info())"
   ]
  },
  {
   "cell_type": "code",
   "execution_count": null,
   "metadata": {},
   "outputs": [],
   "source": [
    "raw.iloc[9215995:9216005,:]"
   ]
  },
  {
   "cell_type": "code",
   "execution_count": null,
   "metadata": {},
   "outputs": [],
   "source": [
    "chunk.head()"
   ]
  },
  {
   "cell_type": "code",
   "execution_count": null,
   "metadata": {},
   "outputs": [],
   "source": [
    "chunk.tail()\n",
    "chunk= raw.copy()"
   ]
  },
  {
   "cell_type": "code",
   "execution_count": null,
   "metadata": {},
   "outputs": [],
   "source": [
    "chunk[\"mins\"] = chunk.time // 60"
   ]
  },
  {
   "cell_type": "code",
   "execution_count": null,
   "metadata": {},
   "outputs": [],
   "source": [
    "chunk[\"hours\"] = chunk.time // 3600"
   ]
  },
  {
   "cell_type": "code",
   "execution_count": null,
   "metadata": {},
   "outputs": [],
   "source": [
    "chunk.head()"
   ]
  },
  {
   "cell_type": "code",
   "execution_count": null,
   "metadata": {},
   "outputs": [],
   "source": [
    "chunk.tail()"
   ]
  },
  {
   "cell_type": "code",
   "execution_count": null,
   "metadata": {},
   "outputs": [],
   "source": [
    "chunk.info()"
   ]
  },
  {
   "cell_type": "code",
   "execution_count": null,
   "metadata": {},
   "outputs": [],
   "source": [
    "chunk.describe()"
   ]
  },
  {
   "cell_type": "code",
   "execution_count": null,
   "metadata": {},
   "outputs": [],
   "source": []
  },
  {
   "cell_type": "code",
   "execution_count": null,
   "metadata": {},
   "outputs": [],
   "source": [
    "chunk.info()"
   ]
  },
  {
   "cell_type": "code",
   "execution_count": null,
   "metadata": {},
   "outputs": [],
   "source": []
  },
  {
   "cell_type": "code",
   "execution_count": null,
   "metadata": {},
   "outputs": [],
   "source": []
  }
 ],
 "metadata": {
  "kernelspec": {
   "display_name": "Python 3",
   "language": "python",
   "name": "python3"
  },
  "language_info": {
   "codemirror_mode": {
    "name": "ipython",
    "version": 3
   },
   "file_extension": ".py",
   "mimetype": "text/x-python",
   "name": "python",
   "nbconvert_exporter": "python",
   "pygments_lexer": "ipython3",
   "version": "3.7.6"
  }
 },
 "nbformat": 4,
 "nbformat_minor": 4
}
